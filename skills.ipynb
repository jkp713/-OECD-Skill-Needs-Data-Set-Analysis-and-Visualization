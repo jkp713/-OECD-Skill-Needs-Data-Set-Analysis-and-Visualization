{
 "cells": [
  {
   "cell_type": "markdown",
   "id": "18cef99d-0908-41e9-97c0-eeaeaae5391c",
   "metadata": {},
   "source": [
    "## OECD Skill Needs Data Set Analysis and Visualization"
   ]
  },
  {
   "cell_type": "markdown",
   "id": "8f4b0652-ab37-4252-bed6-3ae3d1138b9e",
   "metadata": {},
   "source": [
    "This dataset, retreived from OECD.Stat,describes the skill shortages and surpluses by country. While positive values indicate skill shortage, the negative value indicates skill surplus in that economy. The data source is mentioned as European Union Labour Force Survey (LFS: EU) 2015. "
   ]
  },
  {
   "cell_type": "code",
   "execution_count": null,
   "id": "e291fc7a-6295-47e6-b3dd-2abed6df8db6",
   "metadata": {},
   "outputs": [],
   "source": [
    "import numpy as np\n",
    "import pandas as pd"
   ]
  },
  {
   "cell_type": "code",
   "execution_count": 2,
   "id": "48c86064-5f3f-4b4f-ad87-916b963bd132",
   "metadata": {},
   "outputs": [],
   "source": [
    "df = pd.read_csv('SKILLS_2018.csv')"
   ]
  },
  {
   "cell_type": "code",
   "execution_count": 3,
   "id": "fce7f02c-242f-4be6-a80f-109f7f59e804",
   "metadata": {},
   "outputs": [
    {
     "data": {
      "text/html": [
       "<div>\n",
       "<style scoped>\n",
       "    .dataframe tbody tr th:only-of-type {\n",
       "        vertical-align: middle;\n",
       "    }\n",
       "\n",
       "    .dataframe tbody tr th {\n",
       "        vertical-align: top;\n",
       "    }\n",
       "\n",
       "    .dataframe thead th {\n",
       "        text-align: right;\n",
       "    }\n",
       "</style>\n",
       "<table border=\"1\" class=\"dataframe\">\n",
       "  <thead>\n",
       "    <tr style=\"text-align: right;\">\n",
       "      <th></th>\n",
       "      <th>LOCATION</th>\n",
       "      <th>Country</th>\n",
       "      <th>TYPE</th>\n",
       "      <th>Type</th>\n",
       "      <th>SKILLS</th>\n",
       "      <th>Skills</th>\n",
       "      <th>TIME</th>\n",
       "      <th>Time</th>\n",
       "      <th>Value</th>\n",
       "      <th>Flag Codes</th>\n",
       "      <th>Flags</th>\n",
       "    </tr>\n",
       "  </thead>\n",
       "  <tbody>\n",
       "    <tr>\n",
       "      <th>0</th>\n",
       "      <td>AUS</td>\n",
       "      <td>Australia</td>\n",
       "      <td>AB</td>\n",
       "      <td>Abilities</td>\n",
       "      <td>1A1A1</td>\n",
       "      <td>Oral Comprehension</td>\n",
       "      <td>2015</td>\n",
       "      <td>2015</td>\n",
       "      <td>0.246</td>\n",
       "      <td>NaN</td>\n",
       "      <td>NaN</td>\n",
       "    </tr>\n",
       "    <tr>\n",
       "      <th>1</th>\n",
       "      <td>AUS</td>\n",
       "      <td>Australia</td>\n",
       "      <td>AB</td>\n",
       "      <td>Abilities</td>\n",
       "      <td>1A1A2</td>\n",
       "      <td>Written Comprehension</td>\n",
       "      <td>2015</td>\n",
       "      <td>2015</td>\n",
       "      <td>0.257</td>\n",
       "      <td>NaN</td>\n",
       "      <td>NaN</td>\n",
       "    </tr>\n",
       "    <tr>\n",
       "      <th>2</th>\n",
       "      <td>AUS</td>\n",
       "      <td>Australia</td>\n",
       "      <td>AB</td>\n",
       "      <td>Abilities</td>\n",
       "      <td>1A1A3</td>\n",
       "      <td>Oral Expression</td>\n",
       "      <td>2015</td>\n",
       "      <td>2015</td>\n",
       "      <td>0.284</td>\n",
       "      <td>NaN</td>\n",
       "      <td>NaN</td>\n",
       "    </tr>\n",
       "    <tr>\n",
       "      <th>3</th>\n",
       "      <td>AUS</td>\n",
       "      <td>Australia</td>\n",
       "      <td>AB</td>\n",
       "      <td>Abilities</td>\n",
       "      <td>1A1A4</td>\n",
       "      <td>Written Expression</td>\n",
       "      <td>2015</td>\n",
       "      <td>2015</td>\n",
       "      <td>0.277</td>\n",
       "      <td>NaN</td>\n",
       "      <td>NaN</td>\n",
       "    </tr>\n",
       "    <tr>\n",
       "      <th>4</th>\n",
       "      <td>AUS</td>\n",
       "      <td>Australia</td>\n",
       "      <td>AB</td>\n",
       "      <td>Abilities</td>\n",
       "      <td>1A1A</td>\n",
       "      <td>Verbal Abilities</td>\n",
       "      <td>2015</td>\n",
       "      <td>2015</td>\n",
       "      <td>0.266</td>\n",
       "      <td>NaN</td>\n",
       "      <td>NaN</td>\n",
       "    </tr>\n",
       "  </tbody>\n",
       "</table>\n",
       "</div>"
      ],
      "text/plain": [
       "  LOCATION    Country TYPE       Type SKILLS                 Skills  TIME  \\\n",
       "0      AUS  Australia   AB  Abilities  1A1A1     Oral Comprehension  2015   \n",
       "1      AUS  Australia   AB  Abilities  1A1A2  Written Comprehension  2015   \n",
       "2      AUS  Australia   AB  Abilities  1A1A3        Oral Expression  2015   \n",
       "3      AUS  Australia   AB  Abilities  1A1A4     Written Expression  2015   \n",
       "4      AUS  Australia   AB  Abilities   1A1A       Verbal Abilities  2015   \n",
       "\n",
       "   Time  Value  Flag Codes  Flags  \n",
       "0  2015  0.246         NaN    NaN  \n",
       "1  2015  0.257         NaN    NaN  \n",
       "2  2015  0.284         NaN    NaN  \n",
       "3  2015  0.277         NaN    NaN  \n",
       "4  2015  0.266         NaN    NaN  "
      ]
     },
     "execution_count": 3,
     "metadata": {},
     "output_type": "execute_result"
    }
   ],
   "source": [
    "df.head()"
   ]
  },
  {
   "cell_type": "code",
   "execution_count": 4,
   "id": "16e7e8f4-eba3-4bc6-9863-75caf2b191e4",
   "metadata": {},
   "outputs": [
    {
     "data": {
      "text/html": [
       "<div>\n",
       "<style scoped>\n",
       "    .dataframe tbody tr th:only-of-type {\n",
       "        vertical-align: middle;\n",
       "    }\n",
       "\n",
       "    .dataframe tbody tr th {\n",
       "        vertical-align: top;\n",
       "    }\n",
       "\n",
       "    .dataframe thead th {\n",
       "        text-align: right;\n",
       "    }\n",
       "</style>\n",
       "<table border=\"1\" class=\"dataframe\">\n",
       "  <thead>\n",
       "    <tr style=\"text-align: right;\">\n",
       "      <th></th>\n",
       "      <th>LOCATION</th>\n",
       "      <th>Country</th>\n",
       "      <th>TYPE</th>\n",
       "      <th>Type</th>\n",
       "      <th>SKILLS</th>\n",
       "      <th>Skills</th>\n",
       "      <th>TIME</th>\n",
       "      <th>Time</th>\n",
       "      <th>Value</th>\n",
       "      <th>Flag Codes</th>\n",
       "      <th>Flags</th>\n",
       "    </tr>\n",
       "  </thead>\n",
       "  <tbody>\n",
       "    <tr>\n",
       "      <th>7455</th>\n",
       "      <td>MYS</td>\n",
       "      <td>Malaysia</td>\n",
       "      <td>KN</td>\n",
       "      <td>Knowledge</td>\n",
       "      <td>2C8B</td>\n",
       "      <td>Law and Government</td>\n",
       "      <td>2015</td>\n",
       "      <td>2015</td>\n",
       "      <td>-0.063</td>\n",
       "      <td>NaN</td>\n",
       "      <td>NaN</td>\n",
       "    </tr>\n",
       "    <tr>\n",
       "      <th>7456</th>\n",
       "      <td>MYS</td>\n",
       "      <td>Malaysia</td>\n",
       "      <td>KN</td>\n",
       "      <td>Knowledge</td>\n",
       "      <td>2C8</td>\n",
       "      <td>Law and Public Safety</td>\n",
       "      <td>2015</td>\n",
       "      <td>2015</td>\n",
       "      <td>-0.060</td>\n",
       "      <td>NaN</td>\n",
       "      <td>NaN</td>\n",
       "    </tr>\n",
       "    <tr>\n",
       "      <th>7457</th>\n",
       "      <td>MYS</td>\n",
       "      <td>Malaysia</td>\n",
       "      <td>KN</td>\n",
       "      <td>Knowledge</td>\n",
       "      <td>2C9A</td>\n",
       "      <td>Telecommunications</td>\n",
       "      <td>2015</td>\n",
       "      <td>2015</td>\n",
       "      <td>-0.036</td>\n",
       "      <td>NaN</td>\n",
       "      <td>NaN</td>\n",
       "    </tr>\n",
       "    <tr>\n",
       "      <th>7458</th>\n",
       "      <td>MYS</td>\n",
       "      <td>Malaysia</td>\n",
       "      <td>KN</td>\n",
       "      <td>Knowledge</td>\n",
       "      <td>2C9B</td>\n",
       "      <td>Communications and Media</td>\n",
       "      <td>2015</td>\n",
       "      <td>2015</td>\n",
       "      <td>0.032</td>\n",
       "      <td>NaN</td>\n",
       "      <td>NaN</td>\n",
       "    </tr>\n",
       "    <tr>\n",
       "      <th>7459</th>\n",
       "      <td>MYS</td>\n",
       "      <td>Malaysia</td>\n",
       "      <td>KN</td>\n",
       "      <td>Knowledge</td>\n",
       "      <td>2C9</td>\n",
       "      <td>Communications</td>\n",
       "      <td>2015</td>\n",
       "      <td>2015</td>\n",
       "      <td>-0.002</td>\n",
       "      <td>NaN</td>\n",
       "      <td>NaN</td>\n",
       "    </tr>\n",
       "  </tbody>\n",
       "</table>\n",
       "</div>"
      ],
      "text/plain": [
       "     LOCATION   Country TYPE       Type SKILLS                    Skills  \\\n",
       "7455      MYS  Malaysia   KN  Knowledge   2C8B        Law and Government   \n",
       "7456      MYS  Malaysia   KN  Knowledge    2C8     Law and Public Safety   \n",
       "7457      MYS  Malaysia   KN  Knowledge   2C9A        Telecommunications   \n",
       "7458      MYS  Malaysia   KN  Knowledge   2C9B  Communications and Media   \n",
       "7459      MYS  Malaysia   KN  Knowledge    2C9            Communications   \n",
       "\n",
       "      TIME  Time  Value  Flag Codes  Flags  \n",
       "7455  2015  2015 -0.063         NaN    NaN  \n",
       "7456  2015  2015 -0.060         NaN    NaN  \n",
       "7457  2015  2015 -0.036         NaN    NaN  \n",
       "7458  2015  2015  0.032         NaN    NaN  \n",
       "7459  2015  2015 -0.002         NaN    NaN  "
      ]
     },
     "execution_count": 4,
     "metadata": {},
     "output_type": "execute_result"
    }
   ],
   "source": [
    "df.tail()"
   ]
  },
  {
   "cell_type": "code",
   "execution_count": 5,
   "id": "5a4d0bd6-4ae4-487f-aad5-cd605eab478d",
   "metadata": {},
   "outputs": [
    {
     "data": {
      "text/plain": [
       "(7460, 11)"
      ]
     },
     "execution_count": 5,
     "metadata": {},
     "output_type": "execute_result"
    }
   ],
   "source": [
    "df.shape"
   ]
  },
  {
   "cell_type": "code",
   "execution_count": 7,
   "id": "e445ece8-cca3-4760-8cf6-bb2321907c40",
   "metadata": {},
   "outputs": [
    {
     "data": {
      "text/html": [
       "<div>\n",
       "<style scoped>\n",
       "    .dataframe tbody tr th:only-of-type {\n",
       "        vertical-align: middle;\n",
       "    }\n",
       "\n",
       "    .dataframe tbody tr th {\n",
       "        vertical-align: top;\n",
       "    }\n",
       "\n",
       "    .dataframe thead th {\n",
       "        text-align: right;\n",
       "    }\n",
       "</style>\n",
       "<table border=\"1\" class=\"dataframe\">\n",
       "  <thead>\n",
       "    <tr style=\"text-align: right;\">\n",
       "      <th></th>\n",
       "      <th>count</th>\n",
       "      <th>mean</th>\n",
       "      <th>std</th>\n",
       "      <th>min</th>\n",
       "      <th>25%</th>\n",
       "      <th>50%</th>\n",
       "      <th>75%</th>\n",
       "      <th>max</th>\n",
       "    </tr>\n",
       "  </thead>\n",
       "  <tbody>\n",
       "    <tr>\n",
       "      <th>TIME</th>\n",
       "      <td>7460.0</td>\n",
       "      <td>2015.000000</td>\n",
       "      <td>0.000000</td>\n",
       "      <td>2015.000</td>\n",
       "      <td>2015.000</td>\n",
       "      <td>2015.000</td>\n",
       "      <td>2015.00000</td>\n",
       "      <td>2015.000</td>\n",
       "    </tr>\n",
       "    <tr>\n",
       "      <th>Time</th>\n",
       "      <td>7460.0</td>\n",
       "      <td>2015.000000</td>\n",
       "      <td>0.000000</td>\n",
       "      <td>2015.000</td>\n",
       "      <td>2015.000</td>\n",
       "      <td>2015.000</td>\n",
       "      <td>2015.00000</td>\n",
       "      <td>2015.000</td>\n",
       "    </tr>\n",
       "    <tr>\n",
       "      <th>Value</th>\n",
       "      <td>7460.0</td>\n",
       "      <td>0.081639</td>\n",
       "      <td>0.169546</td>\n",
       "      <td>-0.713</td>\n",
       "      <td>-0.023</td>\n",
       "      <td>0.075</td>\n",
       "      <td>0.17725</td>\n",
       "      <td>0.993</td>\n",
       "    </tr>\n",
       "    <tr>\n",
       "      <th>Flag Codes</th>\n",
       "      <td>0.0</td>\n",
       "      <td>NaN</td>\n",
       "      <td>NaN</td>\n",
       "      <td>NaN</td>\n",
       "      <td>NaN</td>\n",
       "      <td>NaN</td>\n",
       "      <td>NaN</td>\n",
       "      <td>NaN</td>\n",
       "    </tr>\n",
       "    <tr>\n",
       "      <th>Flags</th>\n",
       "      <td>0.0</td>\n",
       "      <td>NaN</td>\n",
       "      <td>NaN</td>\n",
       "      <td>NaN</td>\n",
       "      <td>NaN</td>\n",
       "      <td>NaN</td>\n",
       "      <td>NaN</td>\n",
       "      <td>NaN</td>\n",
       "    </tr>\n",
       "  </tbody>\n",
       "</table>\n",
       "</div>"
      ],
      "text/plain": [
       "             count         mean       std       min       25%       50%  \\\n",
       "TIME        7460.0  2015.000000  0.000000  2015.000  2015.000  2015.000   \n",
       "Time        7460.0  2015.000000  0.000000  2015.000  2015.000  2015.000   \n",
       "Value       7460.0     0.081639  0.169546    -0.713    -0.023     0.075   \n",
       "Flag Codes     0.0          NaN       NaN       NaN       NaN       NaN   \n",
       "Flags          0.0          NaN       NaN       NaN       NaN       NaN   \n",
       "\n",
       "                   75%       max  \n",
       "TIME        2015.00000  2015.000  \n",
       "Time        2015.00000  2015.000  \n",
       "Value          0.17725     0.993  \n",
       "Flag Codes         NaN       NaN  \n",
       "Flags              NaN       NaN  "
      ]
     },
     "execution_count": 7,
     "metadata": {},
     "output_type": "execute_result"
    }
   ],
   "source": [
    "df.describe().T"
   ]
  },
  {
   "cell_type": "markdown",
   "id": "214b2d5c-fe5d-41d4-afd5-a1192f7df039",
   "metadata": {},
   "source": [
    "## Mean Skill Value by Country"
   ]
  },
  {
   "cell_type": "code",
   "execution_count": 8,
   "id": "d8d0578a-5585-471c-a847-bd5bea076233",
   "metadata": {},
   "outputs": [
    {
     "data": {
      "text/plain": [
       "Country\n",
       "Argentina          0.064655\n",
       "Australia          0.141149\n",
       "Austria            0.067310\n",
       "Belgium            0.053511\n",
       "Brazil             0.017247\n",
       "Bulgaria           0.155264\n",
       "Canada             0.055500\n",
       "Chile              0.048454\n",
       "Cyprus             0.005356\n",
       "Czech Republic     0.115580\n",
       "Denmark            0.118655\n",
       "Estonia            0.005500\n",
       "European Union     0.090138\n",
       "Finland            0.184707\n",
       "France             0.084563\n",
       "Germany            0.061839\n",
       "Greece             0.135362\n",
       "Hungary            0.034489\n",
       "Iceland            0.155713\n",
       "Ireland            0.241736\n",
       "Italy              0.133730\n",
       "Latvia             0.062638\n",
       "Lithuania          0.068529\n",
       "Luxembourg         0.076971\n",
       "Malaysia          -0.005836\n",
       "Mexico            -0.010793\n",
       "Netherlands        0.150546\n",
       "New Zealand        0.165069\n",
       "Norway             0.062529\n",
       "OECD - Total       0.087310\n",
       "Peru              -0.193213\n",
       "Poland            -0.000764\n",
       "Portugal           0.106109\n",
       "Romania            0.073868\n",
       "Slovak Republic    0.097362\n",
       "Slovenia           0.008506\n",
       "South Africa       0.323586\n",
       "Spain              0.135931\n",
       "Sweden             0.100546\n",
       "Switzerland        0.074862\n",
       "Turkey             0.044592\n",
       "United Kingdom     0.065500\n",
       "United States      0.035121\n",
       "Name: Value, dtype: float64"
      ]
     },
     "execution_count": 8,
     "metadata": {},
     "output_type": "execute_result"
    }
   ],
   "source": [
    "df.groupby(['Country'])['Value'].mean()"
   ]
  },
  {
   "cell_type": "markdown",
   "id": "ba602389-aff3-4ec2-a37d-43e1e9023539",
   "metadata": {},
   "source": [
    "## Means of Different Skill Values"
   ]
  },
  {
   "cell_type": "code",
   "execution_count": 9,
   "id": "0d912578-0268-445d-840f-d8d48ec34ad0",
   "metadata": {},
   "outputs": [
    {
     "data": {
      "text/plain": [
       "Skills\n",
       "Achievement Orientation     0.205952\n",
       "Achievement/Effort          0.171167\n",
       "Active Learning             0.198488\n",
       "Active Listening            0.190721\n",
       "Adaptability/Flexibility    0.207929\n",
       "                              ...   \n",
       "Visualization               0.037116\n",
       "Wrist-Finger Speed         -0.037093\n",
       "Writing                     0.223279\n",
       "Written Comprehension       0.234419\n",
       "Written Expression          0.241744\n",
       "Name: Value, Length: 174, dtype: float64"
      ]
     },
     "execution_count": 9,
     "metadata": {},
     "output_type": "execute_result"
    }
   ],
   "source": [
    "df.groupby(['Skills'])['Value'].mean()"
   ]
  },
  {
   "cell_type": "markdown",
   "id": "c2b869ea-5537-4416-9c30-fdc1dfe8caf6",
   "metadata": {},
   "source": [
    "## The Skills Assessed"
   ]
  },
  {
   "cell_type": "code",
   "execution_count": 10,
   "id": "df383d9c-e79e-4ed2-80c5-94f87c9199db",
   "metadata": {},
   "outputs": [
    {
     "data": {
      "text/plain": [
       "array(['Oral Comprehension', 'Written Comprehension', 'Oral Expression',\n",
       "       'Written Expression', 'Verbal Abilities', 'Fluency of Ideas',\n",
       "       'Originality', 'Problem Sensitivity', 'Deductive Reasoning',\n",
       "       'Inductive Reasoning', 'Information Ordering',\n",
       "       'Category Flexibility', 'Reasoning Abilities',\n",
       "       'Mathematical Reasoning', 'Number Facility',\n",
       "       'Quantitative Abilities', 'Memorization', 'Memory',\n",
       "       'Speed of Closure', 'Flexibility of Closure', 'Perceptual Speed',\n",
       "       'Perceptual Abilities', 'Spatial Orientation', 'Visualization',\n",
       "       'Spatial Abilities', 'Selective Attention', 'Time Sharing',\n",
       "       'Attentiveness', 'Cognitive Abilities', 'Arm-Hand Steadiness',\n",
       "       'Manual Dexterity', 'Finger Dexterity',\n",
       "       'Fine Manipulative Abilities', 'Control Precision',\n",
       "       'Multilimb Coordination', 'Response Orientation', 'Rate Control',\n",
       "       'Control Movement Abilities', 'Reaction Time',\n",
       "       'Wrist-Finger Speed', 'Speed of Limb Movement',\n",
       "       'Reaction Time and Speed Abilities', 'Psychomotor Abilities',\n",
       "       'Static Strength', 'Explosive Strength', 'Dynamic Strength',\n",
       "       'Trunk Strength', 'Physical Strength', 'Stamina', 'Endurance',\n",
       "       'Extent Flexibility', 'Dynamic Flexibility',\n",
       "       'Gross Body Coordination', 'Gross Body Equilibrium',\n",
       "       'Flexibility, Balance and Coordination',\n",
       "       'Strength and Flexibility', 'Near Vision', 'Far Vision',\n",
       "       'Visual Color Discrimination', 'Night Vision', 'Peripheral Vision',\n",
       "       'Depth Perception', 'Glare Sensitivity', 'Visual Abilities',\n",
       "       'Hearing Sensitivity', 'Auditory Attention', 'Sound Localization',\n",
       "       'Speech Recognition', 'Speech Clarity',\n",
       "       'Auditory and Speech Abilities', 'Sensory Abilities',\n",
       "       'Achievement/Effort', 'Persistence', 'Initiative',\n",
       "       'Achievement Orientation', 'Leadership', 'Social Influence',\n",
       "       'Cooperation', 'Concern for Others', 'Social Orientation',\n",
       "       'Interpersonal Orientation', 'Self Control', 'Stress Tolerance',\n",
       "       'Adaptability/Flexibility', 'Adjustment', 'Dependability',\n",
       "       'Attention to Detail', 'Integrity', 'Conscientiousness',\n",
       "       'Independence', 'Innovation', 'Analytical Thinking',\n",
       "       'Practical Intelligence', 'Reading Comprehension',\n",
       "       'Active Listening', 'Writing', 'Speaking', 'Mathematics Skills',\n",
       "       'Science', 'Basic Skills (Content)', 'Critical Thinking',\n",
       "       'Active Learning', 'Learning Strategies', 'Monitoring',\n",
       "       'Basic Skills (Process)', 'Social Perceptiveness', 'Coordination',\n",
       "       'Persuasion', 'Negotiation', 'Instructing', 'Service Orientation',\n",
       "       'Social Skills', 'Complex Problem Solving',\n",
       "       'Complex Problem Solving Skills', 'Operations Analysis',\n",
       "       'Technology Design', 'Equipment Selection', 'Installation',\n",
       "       'Programming', 'Operation Monitoring', 'Operation and Control',\n",
       "       'Equipment Maintenance', 'Troubleshooting', 'Repairing',\n",
       "       'Quality Control Analysis', 'Technical Skills',\n",
       "       'Judgment and Decision Making', 'Systems Analysis',\n",
       "       'Systems Evaluation', 'Systems Skills', 'Time Management',\n",
       "       'Management of Financial Resources',\n",
       "       'Management of Material Resources',\n",
       "       'Management of Personnel Resources', 'Resource Management Skills',\n",
       "       'Transportation', 'Administration and Management', 'Clerical',\n",
       "       'Economics and Accounting', 'Sales and Marketing',\n",
       "       'Customer and Personal Service', 'Personnel and Human Resources',\n",
       "       'Business and Management', 'Production and Processing',\n",
       "       'Food Production', 'Manufacturing and Production',\n",
       "       'Computers and Electronics',\n",
       "       'Engineering, Mechanics and Technology', 'Design',\n",
       "       'Building and Construction', 'Mechanical',\n",
       "       'Engineering and Technology', 'Mathematics Knowledge', 'Physics',\n",
       "       'Chemistry', 'Biology', 'Psychology', 'Sociology and Anthropology',\n",
       "       'Geography', 'Mathematics and Science', 'Medicine and Dentistry',\n",
       "       'Therapy and Counselling', 'Health Services',\n",
       "       'Education and Training', 'Fine Arts', 'History and Archaeology',\n",
       "       'Philosophy and Theology', 'Arts and Humanities',\n",
       "       'Public Safety and Security', 'Law and Government',\n",
       "       'Law and Public Safety', 'Telecommunications',\n",
       "       'Communications and Media', 'Communications'], dtype=object)"
      ]
     },
     "execution_count": 10,
     "metadata": {},
     "output_type": "execute_result"
    }
   ],
   "source": [
    "df.Skills.unique()"
   ]
  },
  {
   "cell_type": "markdown",
   "id": "e323e75c-3120-4621-8445-6894068f2909",
   "metadata": {},
   "source": [
    "## Countries in the Data Set"
   ]
  },
  {
   "cell_type": "code",
   "execution_count": 11,
   "id": "bb82200a-3ffe-45cb-ada8-3d197eaa409b",
   "metadata": {},
   "outputs": [
    {
     "data": {
      "text/plain": [
       "array(['Australia', 'Austria', 'Belgium', 'Canada', 'Czech Republic',\n",
       "       'Denmark', 'Finland', 'France', 'Germany', 'Greece', 'Hungary',\n",
       "       'Iceland', 'Ireland', 'Italy', 'Luxembourg', 'Mexico',\n",
       "       'Netherlands', 'New Zealand', 'Norway', 'Poland', 'Portugal',\n",
       "       'Slovak Republic', 'Spain', 'Sweden', 'Switzerland', 'Turkey',\n",
       "       'United Kingdom', 'United States', 'Argentina', 'Brazil',\n",
       "       'Bulgaria', 'Chile', 'Cyprus', 'Estonia', 'Latvia', 'Lithuania',\n",
       "       'Peru', 'Romania', 'Slovenia', 'South Africa', 'European Union',\n",
       "       'OECD - Total', 'Malaysia'], dtype=object)"
      ]
     },
     "execution_count": 11,
     "metadata": {},
     "output_type": "execute_result"
    }
   ],
   "source": [
    "df.Country.unique()"
   ]
  },
  {
   "cell_type": "code",
   "execution_count": 12,
   "id": "37cde470-b0cb-4071-bdb4-11b3d1739ccd",
   "metadata": {},
   "outputs": [
    {
     "data": {
      "text/plain": [
       "Australia          174\n",
       "Cyprus             174\n",
       "Switzerland        174\n",
       "Turkey             174\n",
       "United Kingdom     174\n",
       "United States      174\n",
       "Argentina          174\n",
       "Brazil             174\n",
       "Bulgaria           174\n",
       "Chile              174\n",
       "Estonia            174\n",
       "Spain              174\n",
       "Latvia             174\n",
       "Lithuania          174\n",
       "Peru               174\n",
       "Romania            174\n",
       "Slovenia           174\n",
       "South Africa       174\n",
       "European Union     174\n",
       "OECD - Total       174\n",
       "Sweden             174\n",
       "Slovak Republic    174\n",
       "Austria            174\n",
       "Hungary            174\n",
       "Belgium            174\n",
       "Canada             174\n",
       "Czech Republic     174\n",
       "Denmark            174\n",
       "Finland            174\n",
       "France             174\n",
       "Germany            174\n",
       "Greece             174\n",
       "Iceland            174\n",
       "Portugal           174\n",
       "Ireland            174\n",
       "Italy              174\n",
       "Luxembourg         174\n",
       "Mexico             174\n",
       "Netherlands        174\n",
       "New Zealand        174\n",
       "Norway             174\n",
       "Poland             174\n",
       "Malaysia           152\n",
       "Name: Country, dtype: int64"
      ]
     },
     "execution_count": 12,
     "metadata": {},
     "output_type": "execute_result"
    }
   ],
   "source": [
    "df['Country'].value_counts()"
   ]
  },
  {
   "cell_type": "code",
   "execution_count": 13,
   "id": "fd3e0961-7b1b-4bc3-829b-b4d834d881b1",
   "metadata": {},
   "outputs": [],
   "source": [
    "df_means = df.groupby(['LOCATION'])['Value'].mean()"
   ]
  },
  {
   "cell_type": "code",
   "execution_count": 14,
   "id": "a55cf84f-0b61-423f-812f-93acd0abc075",
   "metadata": {},
   "outputs": [
    {
     "data": {
      "text/plain": [
       "LOCATION\n",
       "ARG     0.064655\n",
       "AUS     0.141149\n",
       "AUT     0.067310\n",
       "BEL     0.053511\n",
       "BGR     0.155264\n",
       "BRA     0.017247\n",
       "CAN     0.055500\n",
       "CHE     0.074862\n",
       "CHL     0.048454\n",
       "CYP     0.005356\n",
       "CZE     0.115580\n",
       "DEU     0.061839\n",
       "DNK     0.118655\n",
       "ESP     0.135931\n",
       "EST     0.005500\n",
       "EU      0.090138\n",
       "FIN     0.184707\n",
       "FRA     0.084563\n",
       "GBR     0.065500\n",
       "GRC     0.135362\n",
       "HUN     0.034489\n",
       "IRL     0.241736\n",
       "ISL     0.155713\n",
       "ITA     0.133730\n",
       "LTU     0.068529\n",
       "LUX     0.076971\n",
       "LVA     0.062638\n",
       "MEX    -0.010793\n",
       "MYS    -0.005836\n",
       "NLD     0.150546\n",
       "NOR     0.062529\n",
       "NZL     0.165069\n",
       "OECD    0.087310\n",
       "PER    -0.193213\n",
       "POL    -0.000764\n",
       "PRT     0.106109\n",
       "ROU     0.073868\n",
       "SVK     0.097362\n",
       "SVN     0.008506\n",
       "SWE     0.100546\n",
       "TUR     0.044592\n",
       "USA     0.035121\n",
       "ZAF     0.323586\n",
       "Name: Value, dtype: float64"
      ]
     },
     "execution_count": 14,
     "metadata": {},
     "output_type": "execute_result"
    }
   ],
   "source": [
    "df_means"
   ]
  },
  {
   "cell_type": "code",
   "execution_count": 15,
   "id": "0510b97b-c5d4-4326-b5e3-ed44c689f481",
   "metadata": {},
   "outputs": [],
   "source": [
    "df_means2 = pd.DataFrame(df_means)"
   ]
  },
  {
   "cell_type": "code",
   "execution_count": 16,
   "id": "dae092eb-649c-42f6-ab73-a4c986b7ea73",
   "metadata": {},
   "outputs": [
    {
     "data": {
      "text/html": [
       "<div>\n",
       "<style scoped>\n",
       "    .dataframe tbody tr th:only-of-type {\n",
       "        vertical-align: middle;\n",
       "    }\n",
       "\n",
       "    .dataframe tbody tr th {\n",
       "        vertical-align: top;\n",
       "    }\n",
       "\n",
       "    .dataframe thead th {\n",
       "        text-align: right;\n",
       "    }\n",
       "</style>\n",
       "<table border=\"1\" class=\"dataframe\">\n",
       "  <thead>\n",
       "    <tr style=\"text-align: right;\">\n",
       "      <th></th>\n",
       "      <th>Value</th>\n",
       "    </tr>\n",
       "    <tr>\n",
       "      <th>LOCATION</th>\n",
       "      <th></th>\n",
       "    </tr>\n",
       "  </thead>\n",
       "  <tbody>\n",
       "    <tr>\n",
       "      <th>ARG</th>\n",
       "      <td>0.064655</td>\n",
       "    </tr>\n",
       "    <tr>\n",
       "      <th>AUS</th>\n",
       "      <td>0.141149</td>\n",
       "    </tr>\n",
       "    <tr>\n",
       "      <th>AUT</th>\n",
       "      <td>0.067310</td>\n",
       "    </tr>\n",
       "    <tr>\n",
       "      <th>BEL</th>\n",
       "      <td>0.053511</td>\n",
       "    </tr>\n",
       "    <tr>\n",
       "      <th>BGR</th>\n",
       "      <td>0.155264</td>\n",
       "    </tr>\n",
       "    <tr>\n",
       "      <th>BRA</th>\n",
       "      <td>0.017247</td>\n",
       "    </tr>\n",
       "    <tr>\n",
       "      <th>CAN</th>\n",
       "      <td>0.055500</td>\n",
       "    </tr>\n",
       "    <tr>\n",
       "      <th>CHE</th>\n",
       "      <td>0.074862</td>\n",
       "    </tr>\n",
       "    <tr>\n",
       "      <th>CHL</th>\n",
       "      <td>0.048454</td>\n",
       "    </tr>\n",
       "    <tr>\n",
       "      <th>CYP</th>\n",
       "      <td>0.005356</td>\n",
       "    </tr>\n",
       "    <tr>\n",
       "      <th>CZE</th>\n",
       "      <td>0.115580</td>\n",
       "    </tr>\n",
       "    <tr>\n",
       "      <th>DEU</th>\n",
       "      <td>0.061839</td>\n",
       "    </tr>\n",
       "    <tr>\n",
       "      <th>DNK</th>\n",
       "      <td>0.118655</td>\n",
       "    </tr>\n",
       "    <tr>\n",
       "      <th>ESP</th>\n",
       "      <td>0.135931</td>\n",
       "    </tr>\n",
       "    <tr>\n",
       "      <th>EST</th>\n",
       "      <td>0.005500</td>\n",
       "    </tr>\n",
       "    <tr>\n",
       "      <th>EU</th>\n",
       "      <td>0.090138</td>\n",
       "    </tr>\n",
       "    <tr>\n",
       "      <th>FIN</th>\n",
       "      <td>0.184707</td>\n",
       "    </tr>\n",
       "    <tr>\n",
       "      <th>FRA</th>\n",
       "      <td>0.084563</td>\n",
       "    </tr>\n",
       "    <tr>\n",
       "      <th>GBR</th>\n",
       "      <td>0.065500</td>\n",
       "    </tr>\n",
       "    <tr>\n",
       "      <th>GRC</th>\n",
       "      <td>0.135362</td>\n",
       "    </tr>\n",
       "    <tr>\n",
       "      <th>HUN</th>\n",
       "      <td>0.034489</td>\n",
       "    </tr>\n",
       "    <tr>\n",
       "      <th>IRL</th>\n",
       "      <td>0.241736</td>\n",
       "    </tr>\n",
       "    <tr>\n",
       "      <th>ISL</th>\n",
       "      <td>0.155713</td>\n",
       "    </tr>\n",
       "    <tr>\n",
       "      <th>ITA</th>\n",
       "      <td>0.133730</td>\n",
       "    </tr>\n",
       "    <tr>\n",
       "      <th>LTU</th>\n",
       "      <td>0.068529</td>\n",
       "    </tr>\n",
       "    <tr>\n",
       "      <th>LUX</th>\n",
       "      <td>0.076971</td>\n",
       "    </tr>\n",
       "    <tr>\n",
       "      <th>LVA</th>\n",
       "      <td>0.062638</td>\n",
       "    </tr>\n",
       "    <tr>\n",
       "      <th>MEX</th>\n",
       "      <td>-0.010793</td>\n",
       "    </tr>\n",
       "    <tr>\n",
       "      <th>MYS</th>\n",
       "      <td>-0.005836</td>\n",
       "    </tr>\n",
       "    <tr>\n",
       "      <th>NLD</th>\n",
       "      <td>0.150546</td>\n",
       "    </tr>\n",
       "    <tr>\n",
       "      <th>NOR</th>\n",
       "      <td>0.062529</td>\n",
       "    </tr>\n",
       "    <tr>\n",
       "      <th>NZL</th>\n",
       "      <td>0.165069</td>\n",
       "    </tr>\n",
       "    <tr>\n",
       "      <th>OECD</th>\n",
       "      <td>0.087310</td>\n",
       "    </tr>\n",
       "    <tr>\n",
       "      <th>PER</th>\n",
       "      <td>-0.193213</td>\n",
       "    </tr>\n",
       "    <tr>\n",
       "      <th>POL</th>\n",
       "      <td>-0.000764</td>\n",
       "    </tr>\n",
       "    <tr>\n",
       "      <th>PRT</th>\n",
       "      <td>0.106109</td>\n",
       "    </tr>\n",
       "    <tr>\n",
       "      <th>ROU</th>\n",
       "      <td>0.073868</td>\n",
       "    </tr>\n",
       "    <tr>\n",
       "      <th>SVK</th>\n",
       "      <td>0.097362</td>\n",
       "    </tr>\n",
       "    <tr>\n",
       "      <th>SVN</th>\n",
       "      <td>0.008506</td>\n",
       "    </tr>\n",
       "    <tr>\n",
       "      <th>SWE</th>\n",
       "      <td>0.100546</td>\n",
       "    </tr>\n",
       "    <tr>\n",
       "      <th>TUR</th>\n",
       "      <td>0.044592</td>\n",
       "    </tr>\n",
       "    <tr>\n",
       "      <th>USA</th>\n",
       "      <td>0.035121</td>\n",
       "    </tr>\n",
       "    <tr>\n",
       "      <th>ZAF</th>\n",
       "      <td>0.323586</td>\n",
       "    </tr>\n",
       "  </tbody>\n",
       "</table>\n",
       "</div>"
      ],
      "text/plain": [
       "             Value\n",
       "LOCATION          \n",
       "ARG       0.064655\n",
       "AUS       0.141149\n",
       "AUT       0.067310\n",
       "BEL       0.053511\n",
       "BGR       0.155264\n",
       "BRA       0.017247\n",
       "CAN       0.055500\n",
       "CHE       0.074862\n",
       "CHL       0.048454\n",
       "CYP       0.005356\n",
       "CZE       0.115580\n",
       "DEU       0.061839\n",
       "DNK       0.118655\n",
       "ESP       0.135931\n",
       "EST       0.005500\n",
       "EU        0.090138\n",
       "FIN       0.184707\n",
       "FRA       0.084563\n",
       "GBR       0.065500\n",
       "GRC       0.135362\n",
       "HUN       0.034489\n",
       "IRL       0.241736\n",
       "ISL       0.155713\n",
       "ITA       0.133730\n",
       "LTU       0.068529\n",
       "LUX       0.076971\n",
       "LVA       0.062638\n",
       "MEX      -0.010793\n",
       "MYS      -0.005836\n",
       "NLD       0.150546\n",
       "NOR       0.062529\n",
       "NZL       0.165069\n",
       "OECD      0.087310\n",
       "PER      -0.193213\n",
       "POL      -0.000764\n",
       "PRT       0.106109\n",
       "ROU       0.073868\n",
       "SVK       0.097362\n",
       "SVN       0.008506\n",
       "SWE       0.100546\n",
       "TUR       0.044592\n",
       "USA       0.035121\n",
       "ZAF       0.323586"
      ]
     },
     "execution_count": 16,
     "metadata": {},
     "output_type": "execute_result"
    }
   ],
   "source": [
    "df_means2"
   ]
  },
  {
   "cell_type": "code",
   "execution_count": 17,
   "id": "0d9b3df9-e207-4ccf-b035-6f8ab00da21a",
   "metadata": {},
   "outputs": [],
   "source": [
    "df_means2.sort_values(by=['Value'], inplace = True)"
   ]
  },
  {
   "cell_type": "code",
   "execution_count": 18,
   "id": "4dbea7d2-9e32-4dd3-ac80-bca58424f58f",
   "metadata": {},
   "outputs": [
    {
     "data": {
      "text/html": [
       "<div>\n",
       "<style scoped>\n",
       "    .dataframe tbody tr th:only-of-type {\n",
       "        vertical-align: middle;\n",
       "    }\n",
       "\n",
       "    .dataframe tbody tr th {\n",
       "        vertical-align: top;\n",
       "    }\n",
       "\n",
       "    .dataframe thead th {\n",
       "        text-align: right;\n",
       "    }\n",
       "</style>\n",
       "<table border=\"1\" class=\"dataframe\">\n",
       "  <thead>\n",
       "    <tr style=\"text-align: right;\">\n",
       "      <th></th>\n",
       "      <th>Value</th>\n",
       "    </tr>\n",
       "    <tr>\n",
       "      <th>LOCATION</th>\n",
       "      <th></th>\n",
       "    </tr>\n",
       "  </thead>\n",
       "  <tbody>\n",
       "    <tr>\n",
       "      <th>PER</th>\n",
       "      <td>-0.193213</td>\n",
       "    </tr>\n",
       "    <tr>\n",
       "      <th>MEX</th>\n",
       "      <td>-0.010793</td>\n",
       "    </tr>\n",
       "    <tr>\n",
       "      <th>MYS</th>\n",
       "      <td>-0.005836</td>\n",
       "    </tr>\n",
       "    <tr>\n",
       "      <th>POL</th>\n",
       "      <td>-0.000764</td>\n",
       "    </tr>\n",
       "    <tr>\n",
       "      <th>CYP</th>\n",
       "      <td>0.005356</td>\n",
       "    </tr>\n",
       "    <tr>\n",
       "      <th>EST</th>\n",
       "      <td>0.005500</td>\n",
       "    </tr>\n",
       "    <tr>\n",
       "      <th>SVN</th>\n",
       "      <td>0.008506</td>\n",
       "    </tr>\n",
       "    <tr>\n",
       "      <th>BRA</th>\n",
       "      <td>0.017247</td>\n",
       "    </tr>\n",
       "    <tr>\n",
       "      <th>HUN</th>\n",
       "      <td>0.034489</td>\n",
       "    </tr>\n",
       "    <tr>\n",
       "      <th>USA</th>\n",
       "      <td>0.035121</td>\n",
       "    </tr>\n",
       "    <tr>\n",
       "      <th>TUR</th>\n",
       "      <td>0.044592</td>\n",
       "    </tr>\n",
       "    <tr>\n",
       "      <th>CHL</th>\n",
       "      <td>0.048454</td>\n",
       "    </tr>\n",
       "    <tr>\n",
       "      <th>BEL</th>\n",
       "      <td>0.053511</td>\n",
       "    </tr>\n",
       "    <tr>\n",
       "      <th>CAN</th>\n",
       "      <td>0.055500</td>\n",
       "    </tr>\n",
       "    <tr>\n",
       "      <th>DEU</th>\n",
       "      <td>0.061839</td>\n",
       "    </tr>\n",
       "    <tr>\n",
       "      <th>NOR</th>\n",
       "      <td>0.062529</td>\n",
       "    </tr>\n",
       "    <tr>\n",
       "      <th>LVA</th>\n",
       "      <td>0.062638</td>\n",
       "    </tr>\n",
       "    <tr>\n",
       "      <th>ARG</th>\n",
       "      <td>0.064655</td>\n",
       "    </tr>\n",
       "    <tr>\n",
       "      <th>GBR</th>\n",
       "      <td>0.065500</td>\n",
       "    </tr>\n",
       "    <tr>\n",
       "      <th>AUT</th>\n",
       "      <td>0.067310</td>\n",
       "    </tr>\n",
       "    <tr>\n",
       "      <th>LTU</th>\n",
       "      <td>0.068529</td>\n",
       "    </tr>\n",
       "    <tr>\n",
       "      <th>ROU</th>\n",
       "      <td>0.073868</td>\n",
       "    </tr>\n",
       "    <tr>\n",
       "      <th>CHE</th>\n",
       "      <td>0.074862</td>\n",
       "    </tr>\n",
       "    <tr>\n",
       "      <th>LUX</th>\n",
       "      <td>0.076971</td>\n",
       "    </tr>\n",
       "    <tr>\n",
       "      <th>FRA</th>\n",
       "      <td>0.084563</td>\n",
       "    </tr>\n",
       "    <tr>\n",
       "      <th>OECD</th>\n",
       "      <td>0.087310</td>\n",
       "    </tr>\n",
       "    <tr>\n",
       "      <th>EU</th>\n",
       "      <td>0.090138</td>\n",
       "    </tr>\n",
       "    <tr>\n",
       "      <th>SVK</th>\n",
       "      <td>0.097362</td>\n",
       "    </tr>\n",
       "    <tr>\n",
       "      <th>SWE</th>\n",
       "      <td>0.100546</td>\n",
       "    </tr>\n",
       "    <tr>\n",
       "      <th>PRT</th>\n",
       "      <td>0.106109</td>\n",
       "    </tr>\n",
       "    <tr>\n",
       "      <th>CZE</th>\n",
       "      <td>0.115580</td>\n",
       "    </tr>\n",
       "    <tr>\n",
       "      <th>DNK</th>\n",
       "      <td>0.118655</td>\n",
       "    </tr>\n",
       "    <tr>\n",
       "      <th>ITA</th>\n",
       "      <td>0.133730</td>\n",
       "    </tr>\n",
       "    <tr>\n",
       "      <th>GRC</th>\n",
       "      <td>0.135362</td>\n",
       "    </tr>\n",
       "    <tr>\n",
       "      <th>ESP</th>\n",
       "      <td>0.135931</td>\n",
       "    </tr>\n",
       "    <tr>\n",
       "      <th>AUS</th>\n",
       "      <td>0.141149</td>\n",
       "    </tr>\n",
       "    <tr>\n",
       "      <th>NLD</th>\n",
       "      <td>0.150546</td>\n",
       "    </tr>\n",
       "    <tr>\n",
       "      <th>BGR</th>\n",
       "      <td>0.155264</td>\n",
       "    </tr>\n",
       "    <tr>\n",
       "      <th>ISL</th>\n",
       "      <td>0.155713</td>\n",
       "    </tr>\n",
       "    <tr>\n",
       "      <th>NZL</th>\n",
       "      <td>0.165069</td>\n",
       "    </tr>\n",
       "    <tr>\n",
       "      <th>FIN</th>\n",
       "      <td>0.184707</td>\n",
       "    </tr>\n",
       "    <tr>\n",
       "      <th>IRL</th>\n",
       "      <td>0.241736</td>\n",
       "    </tr>\n",
       "    <tr>\n",
       "      <th>ZAF</th>\n",
       "      <td>0.323586</td>\n",
       "    </tr>\n",
       "  </tbody>\n",
       "</table>\n",
       "</div>"
      ],
      "text/plain": [
       "             Value\n",
       "LOCATION          \n",
       "PER      -0.193213\n",
       "MEX      -0.010793\n",
       "MYS      -0.005836\n",
       "POL      -0.000764\n",
       "CYP       0.005356\n",
       "EST       0.005500\n",
       "SVN       0.008506\n",
       "BRA       0.017247\n",
       "HUN       0.034489\n",
       "USA       0.035121\n",
       "TUR       0.044592\n",
       "CHL       0.048454\n",
       "BEL       0.053511\n",
       "CAN       0.055500\n",
       "DEU       0.061839\n",
       "NOR       0.062529\n",
       "LVA       0.062638\n",
       "ARG       0.064655\n",
       "GBR       0.065500\n",
       "AUT       0.067310\n",
       "LTU       0.068529\n",
       "ROU       0.073868\n",
       "CHE       0.074862\n",
       "LUX       0.076971\n",
       "FRA       0.084563\n",
       "OECD      0.087310\n",
       "EU        0.090138\n",
       "SVK       0.097362\n",
       "SWE       0.100546\n",
       "PRT       0.106109\n",
       "CZE       0.115580\n",
       "DNK       0.118655\n",
       "ITA       0.133730\n",
       "GRC       0.135362\n",
       "ESP       0.135931\n",
       "AUS       0.141149\n",
       "NLD       0.150546\n",
       "BGR       0.155264\n",
       "ISL       0.155713\n",
       "NZL       0.165069\n",
       "FIN       0.184707\n",
       "IRL       0.241736\n",
       "ZAF       0.323586"
      ]
     },
     "execution_count": 18,
     "metadata": {},
     "output_type": "execute_result"
    }
   ],
   "source": [
    "df_means2"
   ]
  },
  {
   "cell_type": "code",
   "execution_count": 19,
   "id": "21d8b4a0-6a1d-4bbd-8860-84fd0ee16274",
   "metadata": {},
   "outputs": [],
   "source": [
    "df_means2.reset_index(inplace=True)"
   ]
  },
  {
   "cell_type": "code",
   "execution_count": 20,
   "id": "9617396a-fb9e-4b96-9c2f-74d1ff14a1f4",
   "metadata": {},
   "outputs": [
    {
     "data": {
      "text/html": [
       "<div>\n",
       "<style scoped>\n",
       "    .dataframe tbody tr th:only-of-type {\n",
       "        vertical-align: middle;\n",
       "    }\n",
       "\n",
       "    .dataframe tbody tr th {\n",
       "        vertical-align: top;\n",
       "    }\n",
       "\n",
       "    .dataframe thead th {\n",
       "        text-align: right;\n",
       "    }\n",
       "</style>\n",
       "<table border=\"1\" class=\"dataframe\">\n",
       "  <thead>\n",
       "    <tr style=\"text-align: right;\">\n",
       "      <th></th>\n",
       "      <th>LOCATION</th>\n",
       "      <th>Value</th>\n",
       "    </tr>\n",
       "  </thead>\n",
       "  <tbody>\n",
       "    <tr>\n",
       "      <th>0</th>\n",
       "      <td>PER</td>\n",
       "      <td>-0.193213</td>\n",
       "    </tr>\n",
       "    <tr>\n",
       "      <th>1</th>\n",
       "      <td>MEX</td>\n",
       "      <td>-0.010793</td>\n",
       "    </tr>\n",
       "    <tr>\n",
       "      <th>2</th>\n",
       "      <td>MYS</td>\n",
       "      <td>-0.005836</td>\n",
       "    </tr>\n",
       "    <tr>\n",
       "      <th>3</th>\n",
       "      <td>POL</td>\n",
       "      <td>-0.000764</td>\n",
       "    </tr>\n",
       "    <tr>\n",
       "      <th>4</th>\n",
       "      <td>CYP</td>\n",
       "      <td>0.005356</td>\n",
       "    </tr>\n",
       "    <tr>\n",
       "      <th>5</th>\n",
       "      <td>EST</td>\n",
       "      <td>0.005500</td>\n",
       "    </tr>\n",
       "    <tr>\n",
       "      <th>6</th>\n",
       "      <td>SVN</td>\n",
       "      <td>0.008506</td>\n",
       "    </tr>\n",
       "    <tr>\n",
       "      <th>7</th>\n",
       "      <td>BRA</td>\n",
       "      <td>0.017247</td>\n",
       "    </tr>\n",
       "    <tr>\n",
       "      <th>8</th>\n",
       "      <td>HUN</td>\n",
       "      <td>0.034489</td>\n",
       "    </tr>\n",
       "    <tr>\n",
       "      <th>9</th>\n",
       "      <td>USA</td>\n",
       "      <td>0.035121</td>\n",
       "    </tr>\n",
       "    <tr>\n",
       "      <th>10</th>\n",
       "      <td>TUR</td>\n",
       "      <td>0.044592</td>\n",
       "    </tr>\n",
       "    <tr>\n",
       "      <th>11</th>\n",
       "      <td>CHL</td>\n",
       "      <td>0.048454</td>\n",
       "    </tr>\n",
       "    <tr>\n",
       "      <th>12</th>\n",
       "      <td>BEL</td>\n",
       "      <td>0.053511</td>\n",
       "    </tr>\n",
       "    <tr>\n",
       "      <th>13</th>\n",
       "      <td>CAN</td>\n",
       "      <td>0.055500</td>\n",
       "    </tr>\n",
       "    <tr>\n",
       "      <th>14</th>\n",
       "      <td>DEU</td>\n",
       "      <td>0.061839</td>\n",
       "    </tr>\n",
       "    <tr>\n",
       "      <th>15</th>\n",
       "      <td>NOR</td>\n",
       "      <td>0.062529</td>\n",
       "    </tr>\n",
       "    <tr>\n",
       "      <th>16</th>\n",
       "      <td>LVA</td>\n",
       "      <td>0.062638</td>\n",
       "    </tr>\n",
       "    <tr>\n",
       "      <th>17</th>\n",
       "      <td>ARG</td>\n",
       "      <td>0.064655</td>\n",
       "    </tr>\n",
       "    <tr>\n",
       "      <th>18</th>\n",
       "      <td>GBR</td>\n",
       "      <td>0.065500</td>\n",
       "    </tr>\n",
       "    <tr>\n",
       "      <th>19</th>\n",
       "      <td>AUT</td>\n",
       "      <td>0.067310</td>\n",
       "    </tr>\n",
       "    <tr>\n",
       "      <th>20</th>\n",
       "      <td>LTU</td>\n",
       "      <td>0.068529</td>\n",
       "    </tr>\n",
       "    <tr>\n",
       "      <th>21</th>\n",
       "      <td>ROU</td>\n",
       "      <td>0.073868</td>\n",
       "    </tr>\n",
       "    <tr>\n",
       "      <th>22</th>\n",
       "      <td>CHE</td>\n",
       "      <td>0.074862</td>\n",
       "    </tr>\n",
       "    <tr>\n",
       "      <th>23</th>\n",
       "      <td>LUX</td>\n",
       "      <td>0.076971</td>\n",
       "    </tr>\n",
       "    <tr>\n",
       "      <th>24</th>\n",
       "      <td>FRA</td>\n",
       "      <td>0.084563</td>\n",
       "    </tr>\n",
       "    <tr>\n",
       "      <th>25</th>\n",
       "      <td>OECD</td>\n",
       "      <td>0.087310</td>\n",
       "    </tr>\n",
       "    <tr>\n",
       "      <th>26</th>\n",
       "      <td>EU</td>\n",
       "      <td>0.090138</td>\n",
       "    </tr>\n",
       "    <tr>\n",
       "      <th>27</th>\n",
       "      <td>SVK</td>\n",
       "      <td>0.097362</td>\n",
       "    </tr>\n",
       "    <tr>\n",
       "      <th>28</th>\n",
       "      <td>SWE</td>\n",
       "      <td>0.100546</td>\n",
       "    </tr>\n",
       "    <tr>\n",
       "      <th>29</th>\n",
       "      <td>PRT</td>\n",
       "      <td>0.106109</td>\n",
       "    </tr>\n",
       "    <tr>\n",
       "      <th>30</th>\n",
       "      <td>CZE</td>\n",
       "      <td>0.115580</td>\n",
       "    </tr>\n",
       "    <tr>\n",
       "      <th>31</th>\n",
       "      <td>DNK</td>\n",
       "      <td>0.118655</td>\n",
       "    </tr>\n",
       "    <tr>\n",
       "      <th>32</th>\n",
       "      <td>ITA</td>\n",
       "      <td>0.133730</td>\n",
       "    </tr>\n",
       "    <tr>\n",
       "      <th>33</th>\n",
       "      <td>GRC</td>\n",
       "      <td>0.135362</td>\n",
       "    </tr>\n",
       "    <tr>\n",
       "      <th>34</th>\n",
       "      <td>ESP</td>\n",
       "      <td>0.135931</td>\n",
       "    </tr>\n",
       "    <tr>\n",
       "      <th>35</th>\n",
       "      <td>AUS</td>\n",
       "      <td>0.141149</td>\n",
       "    </tr>\n",
       "    <tr>\n",
       "      <th>36</th>\n",
       "      <td>NLD</td>\n",
       "      <td>0.150546</td>\n",
       "    </tr>\n",
       "    <tr>\n",
       "      <th>37</th>\n",
       "      <td>BGR</td>\n",
       "      <td>0.155264</td>\n",
       "    </tr>\n",
       "    <tr>\n",
       "      <th>38</th>\n",
       "      <td>ISL</td>\n",
       "      <td>0.155713</td>\n",
       "    </tr>\n",
       "    <tr>\n",
       "      <th>39</th>\n",
       "      <td>NZL</td>\n",
       "      <td>0.165069</td>\n",
       "    </tr>\n",
       "    <tr>\n",
       "      <th>40</th>\n",
       "      <td>FIN</td>\n",
       "      <td>0.184707</td>\n",
       "    </tr>\n",
       "    <tr>\n",
       "      <th>41</th>\n",
       "      <td>IRL</td>\n",
       "      <td>0.241736</td>\n",
       "    </tr>\n",
       "    <tr>\n",
       "      <th>42</th>\n",
       "      <td>ZAF</td>\n",
       "      <td>0.323586</td>\n",
       "    </tr>\n",
       "  </tbody>\n",
       "</table>\n",
       "</div>"
      ],
      "text/plain": [
       "   LOCATION     Value\n",
       "0       PER -0.193213\n",
       "1       MEX -0.010793\n",
       "2       MYS -0.005836\n",
       "3       POL -0.000764\n",
       "4       CYP  0.005356\n",
       "5       EST  0.005500\n",
       "6       SVN  0.008506\n",
       "7       BRA  0.017247\n",
       "8       HUN  0.034489\n",
       "9       USA  0.035121\n",
       "10      TUR  0.044592\n",
       "11      CHL  0.048454\n",
       "12      BEL  0.053511\n",
       "13      CAN  0.055500\n",
       "14      DEU  0.061839\n",
       "15      NOR  0.062529\n",
       "16      LVA  0.062638\n",
       "17      ARG  0.064655\n",
       "18      GBR  0.065500\n",
       "19      AUT  0.067310\n",
       "20      LTU  0.068529\n",
       "21      ROU  0.073868\n",
       "22      CHE  0.074862\n",
       "23      LUX  0.076971\n",
       "24      FRA  0.084563\n",
       "25     OECD  0.087310\n",
       "26       EU  0.090138\n",
       "27      SVK  0.097362\n",
       "28      SWE  0.100546\n",
       "29      PRT  0.106109\n",
       "30      CZE  0.115580\n",
       "31      DNK  0.118655\n",
       "32      ITA  0.133730\n",
       "33      GRC  0.135362\n",
       "34      ESP  0.135931\n",
       "35      AUS  0.141149\n",
       "36      NLD  0.150546\n",
       "37      BGR  0.155264\n",
       "38      ISL  0.155713\n",
       "39      NZL  0.165069\n",
       "40      FIN  0.184707\n",
       "41      IRL  0.241736\n",
       "42      ZAF  0.323586"
      ]
     },
     "execution_count": 20,
     "metadata": {},
     "output_type": "execute_result"
    }
   ],
   "source": [
    "df_means2"
   ]
  },
  {
   "cell_type": "code",
   "execution_count": 21,
   "id": "e486543a-170b-4dcc-87d1-d4a645a57618",
   "metadata": {},
   "outputs": [],
   "source": [
    "df_means_c = df.groupby(['Country'])['Value'].mean()"
   ]
  },
  {
   "cell_type": "code",
   "execution_count": 22,
   "id": "52b49cad-979c-4925-9c33-105aebcf67f7",
   "metadata": {},
   "outputs": [
    {
     "data": {
      "text/plain": [
       "Country\n",
       "Argentina          0.064655\n",
       "Australia          0.141149\n",
       "Austria            0.067310\n",
       "Belgium            0.053511\n",
       "Brazil             0.017247\n",
       "Bulgaria           0.155264\n",
       "Canada             0.055500\n",
       "Chile              0.048454\n",
       "Cyprus             0.005356\n",
       "Czech Republic     0.115580\n",
       "Denmark            0.118655\n",
       "Estonia            0.005500\n",
       "European Union     0.090138\n",
       "Finland            0.184707\n",
       "France             0.084563\n",
       "Germany            0.061839\n",
       "Greece             0.135362\n",
       "Hungary            0.034489\n",
       "Iceland            0.155713\n",
       "Ireland            0.241736\n",
       "Italy              0.133730\n",
       "Latvia             0.062638\n",
       "Lithuania          0.068529\n",
       "Luxembourg         0.076971\n",
       "Malaysia          -0.005836\n",
       "Mexico            -0.010793\n",
       "Netherlands        0.150546\n",
       "New Zealand        0.165069\n",
       "Norway             0.062529\n",
       "OECD - Total       0.087310\n",
       "Peru              -0.193213\n",
       "Poland            -0.000764\n",
       "Portugal           0.106109\n",
       "Romania            0.073868\n",
       "Slovak Republic    0.097362\n",
       "Slovenia           0.008506\n",
       "South Africa       0.323586\n",
       "Spain              0.135931\n",
       "Sweden             0.100546\n",
       "Switzerland        0.074862\n",
       "Turkey             0.044592\n",
       "United Kingdom     0.065500\n",
       "United States      0.035121\n",
       "Name: Value, dtype: float64"
      ]
     },
     "execution_count": 22,
     "metadata": {},
     "output_type": "execute_result"
    }
   ],
   "source": [
    "df_means_c"
   ]
  },
  {
   "cell_type": "code",
   "execution_count": 23,
   "id": "398b648e-987c-4f06-900c-58da0b6e829b",
   "metadata": {},
   "outputs": [],
   "source": [
    "df_means_c = pd.DataFrame(df_means_c)"
   ]
  },
  {
   "cell_type": "code",
   "execution_count": 24,
   "id": "3dd2cc64-f02c-42f9-9ac6-031c8b6b24a0",
   "metadata": {
    "tags": []
   },
   "outputs": [
    {
     "data": {
      "text/html": [
       "<div>\n",
       "<style scoped>\n",
       "    .dataframe tbody tr th:only-of-type {\n",
       "        vertical-align: middle;\n",
       "    }\n",
       "\n",
       "    .dataframe tbody tr th {\n",
       "        vertical-align: top;\n",
       "    }\n",
       "\n",
       "    .dataframe thead th {\n",
       "        text-align: right;\n",
       "    }\n",
       "</style>\n",
       "<table border=\"1\" class=\"dataframe\">\n",
       "  <thead>\n",
       "    <tr style=\"text-align: right;\">\n",
       "      <th></th>\n",
       "      <th>Value</th>\n",
       "    </tr>\n",
       "    <tr>\n",
       "      <th>Country</th>\n",
       "      <th></th>\n",
       "    </tr>\n",
       "  </thead>\n",
       "  <tbody>\n",
       "    <tr>\n",
       "      <th>Argentina</th>\n",
       "      <td>0.064655</td>\n",
       "    </tr>\n",
       "    <tr>\n",
       "      <th>Australia</th>\n",
       "      <td>0.141149</td>\n",
       "    </tr>\n",
       "    <tr>\n",
       "      <th>Austria</th>\n",
       "      <td>0.067310</td>\n",
       "    </tr>\n",
       "    <tr>\n",
       "      <th>Belgium</th>\n",
       "      <td>0.053511</td>\n",
       "    </tr>\n",
       "    <tr>\n",
       "      <th>Brazil</th>\n",
       "      <td>0.017247</td>\n",
       "    </tr>\n",
       "    <tr>\n",
       "      <th>Bulgaria</th>\n",
       "      <td>0.155264</td>\n",
       "    </tr>\n",
       "    <tr>\n",
       "      <th>Canada</th>\n",
       "      <td>0.055500</td>\n",
       "    </tr>\n",
       "    <tr>\n",
       "      <th>Chile</th>\n",
       "      <td>0.048454</td>\n",
       "    </tr>\n",
       "    <tr>\n",
       "      <th>Cyprus</th>\n",
       "      <td>0.005356</td>\n",
       "    </tr>\n",
       "    <tr>\n",
       "      <th>Czech Republic</th>\n",
       "      <td>0.115580</td>\n",
       "    </tr>\n",
       "    <tr>\n",
       "      <th>Denmark</th>\n",
       "      <td>0.118655</td>\n",
       "    </tr>\n",
       "    <tr>\n",
       "      <th>Estonia</th>\n",
       "      <td>0.005500</td>\n",
       "    </tr>\n",
       "    <tr>\n",
       "      <th>European Union</th>\n",
       "      <td>0.090138</td>\n",
       "    </tr>\n",
       "    <tr>\n",
       "      <th>Finland</th>\n",
       "      <td>0.184707</td>\n",
       "    </tr>\n",
       "    <tr>\n",
       "      <th>France</th>\n",
       "      <td>0.084563</td>\n",
       "    </tr>\n",
       "    <tr>\n",
       "      <th>Germany</th>\n",
       "      <td>0.061839</td>\n",
       "    </tr>\n",
       "    <tr>\n",
       "      <th>Greece</th>\n",
       "      <td>0.135362</td>\n",
       "    </tr>\n",
       "    <tr>\n",
       "      <th>Hungary</th>\n",
       "      <td>0.034489</td>\n",
       "    </tr>\n",
       "    <tr>\n",
       "      <th>Iceland</th>\n",
       "      <td>0.155713</td>\n",
       "    </tr>\n",
       "    <tr>\n",
       "      <th>Ireland</th>\n",
       "      <td>0.241736</td>\n",
       "    </tr>\n",
       "    <tr>\n",
       "      <th>Italy</th>\n",
       "      <td>0.133730</td>\n",
       "    </tr>\n",
       "    <tr>\n",
       "      <th>Latvia</th>\n",
       "      <td>0.062638</td>\n",
       "    </tr>\n",
       "    <tr>\n",
       "      <th>Lithuania</th>\n",
       "      <td>0.068529</td>\n",
       "    </tr>\n",
       "    <tr>\n",
       "      <th>Luxembourg</th>\n",
       "      <td>0.076971</td>\n",
       "    </tr>\n",
       "    <tr>\n",
       "      <th>Malaysia</th>\n",
       "      <td>-0.005836</td>\n",
       "    </tr>\n",
       "    <tr>\n",
       "      <th>Mexico</th>\n",
       "      <td>-0.010793</td>\n",
       "    </tr>\n",
       "    <tr>\n",
       "      <th>Netherlands</th>\n",
       "      <td>0.150546</td>\n",
       "    </tr>\n",
       "    <tr>\n",
       "      <th>New Zealand</th>\n",
       "      <td>0.165069</td>\n",
       "    </tr>\n",
       "    <tr>\n",
       "      <th>Norway</th>\n",
       "      <td>0.062529</td>\n",
       "    </tr>\n",
       "    <tr>\n",
       "      <th>OECD - Total</th>\n",
       "      <td>0.087310</td>\n",
       "    </tr>\n",
       "    <tr>\n",
       "      <th>Peru</th>\n",
       "      <td>-0.193213</td>\n",
       "    </tr>\n",
       "    <tr>\n",
       "      <th>Poland</th>\n",
       "      <td>-0.000764</td>\n",
       "    </tr>\n",
       "    <tr>\n",
       "      <th>Portugal</th>\n",
       "      <td>0.106109</td>\n",
       "    </tr>\n",
       "    <tr>\n",
       "      <th>Romania</th>\n",
       "      <td>0.073868</td>\n",
       "    </tr>\n",
       "    <tr>\n",
       "      <th>Slovak Republic</th>\n",
       "      <td>0.097362</td>\n",
       "    </tr>\n",
       "    <tr>\n",
       "      <th>Slovenia</th>\n",
       "      <td>0.008506</td>\n",
       "    </tr>\n",
       "    <tr>\n",
       "      <th>South Africa</th>\n",
       "      <td>0.323586</td>\n",
       "    </tr>\n",
       "    <tr>\n",
       "      <th>Spain</th>\n",
       "      <td>0.135931</td>\n",
       "    </tr>\n",
       "    <tr>\n",
       "      <th>Sweden</th>\n",
       "      <td>0.100546</td>\n",
       "    </tr>\n",
       "    <tr>\n",
       "      <th>Switzerland</th>\n",
       "      <td>0.074862</td>\n",
       "    </tr>\n",
       "    <tr>\n",
       "      <th>Turkey</th>\n",
       "      <td>0.044592</td>\n",
       "    </tr>\n",
       "    <tr>\n",
       "      <th>United Kingdom</th>\n",
       "      <td>0.065500</td>\n",
       "    </tr>\n",
       "    <tr>\n",
       "      <th>United States</th>\n",
       "      <td>0.035121</td>\n",
       "    </tr>\n",
       "  </tbody>\n",
       "</table>\n",
       "</div>"
      ],
      "text/plain": [
       "                    Value\n",
       "Country                  \n",
       "Argentina        0.064655\n",
       "Australia        0.141149\n",
       "Austria          0.067310\n",
       "Belgium          0.053511\n",
       "Brazil           0.017247\n",
       "Bulgaria         0.155264\n",
       "Canada           0.055500\n",
       "Chile            0.048454\n",
       "Cyprus           0.005356\n",
       "Czech Republic   0.115580\n",
       "Denmark          0.118655\n",
       "Estonia          0.005500\n",
       "European Union   0.090138\n",
       "Finland          0.184707\n",
       "France           0.084563\n",
       "Germany          0.061839\n",
       "Greece           0.135362\n",
       "Hungary          0.034489\n",
       "Iceland          0.155713\n",
       "Ireland          0.241736\n",
       "Italy            0.133730\n",
       "Latvia           0.062638\n",
       "Lithuania        0.068529\n",
       "Luxembourg       0.076971\n",
       "Malaysia        -0.005836\n",
       "Mexico          -0.010793\n",
       "Netherlands      0.150546\n",
       "New Zealand      0.165069\n",
       "Norway           0.062529\n",
       "OECD - Total     0.087310\n",
       "Peru            -0.193213\n",
       "Poland          -0.000764\n",
       "Portugal         0.106109\n",
       "Romania          0.073868\n",
       "Slovak Republic  0.097362\n",
       "Slovenia         0.008506\n",
       "South Africa     0.323586\n",
       "Spain            0.135931\n",
       "Sweden           0.100546\n",
       "Switzerland      0.074862\n",
       "Turkey           0.044592\n",
       "United Kingdom   0.065500\n",
       "United States    0.035121"
      ]
     },
     "execution_count": 24,
     "metadata": {},
     "output_type": "execute_result"
    }
   ],
   "source": [
    "df_means_c"
   ]
  },
  {
   "cell_type": "code",
   "execution_count": 25,
   "id": "f3f549b1-80ed-40f3-9823-2f79aca5b98e",
   "metadata": {},
   "outputs": [],
   "source": [
    "df_means_c.reset_index(inplace=True)"
   ]
  },
  {
   "cell_type": "code",
   "execution_count": 26,
   "id": "f95ef7f4-b8c7-474f-8a57-083f0a13835b",
   "metadata": {},
   "outputs": [
    {
     "data": {
      "text/html": [
       "<div>\n",
       "<style scoped>\n",
       "    .dataframe tbody tr th:only-of-type {\n",
       "        vertical-align: middle;\n",
       "    }\n",
       "\n",
       "    .dataframe tbody tr th {\n",
       "        vertical-align: top;\n",
       "    }\n",
       "\n",
       "    .dataframe thead th {\n",
       "        text-align: right;\n",
       "    }\n",
       "</style>\n",
       "<table border=\"1\" class=\"dataframe\">\n",
       "  <thead>\n",
       "    <tr style=\"text-align: right;\">\n",
       "      <th></th>\n",
       "      <th>Country</th>\n",
       "      <th>Value</th>\n",
       "    </tr>\n",
       "  </thead>\n",
       "  <tbody>\n",
       "    <tr>\n",
       "      <th>0</th>\n",
       "      <td>Argentina</td>\n",
       "      <td>0.064655</td>\n",
       "    </tr>\n",
       "    <tr>\n",
       "      <th>1</th>\n",
       "      <td>Australia</td>\n",
       "      <td>0.141149</td>\n",
       "    </tr>\n",
       "    <tr>\n",
       "      <th>2</th>\n",
       "      <td>Austria</td>\n",
       "      <td>0.067310</td>\n",
       "    </tr>\n",
       "    <tr>\n",
       "      <th>3</th>\n",
       "      <td>Belgium</td>\n",
       "      <td>0.053511</td>\n",
       "    </tr>\n",
       "    <tr>\n",
       "      <th>4</th>\n",
       "      <td>Brazil</td>\n",
       "      <td>0.017247</td>\n",
       "    </tr>\n",
       "  </tbody>\n",
       "</table>\n",
       "</div>"
      ],
      "text/plain": [
       "     Country     Value\n",
       "0  Argentina  0.064655\n",
       "1  Australia  0.141149\n",
       "2    Austria  0.067310\n",
       "3    Belgium  0.053511\n",
       "4     Brazil  0.017247"
      ]
     },
     "execution_count": 26,
     "metadata": {},
     "output_type": "execute_result"
    }
   ],
   "source": [
    "df_means_c.head()"
   ]
  },
  {
   "cell_type": "code",
   "execution_count": 27,
   "id": "e7e47dc3-7923-4db2-a5d4-fb66ce05507e",
   "metadata": {},
   "outputs": [],
   "source": [
    "df_means_c.sort_values(by=['Value'], inplace = True)"
   ]
  },
  {
   "cell_type": "code",
   "execution_count": 32,
   "id": "5eafe4c6-3ac5-4de8-bd7a-545fe3a7f6a3",
   "metadata": {},
   "outputs": [
    {
     "data": {
      "text/html": [
       "<div>\n",
       "<style scoped>\n",
       "    .dataframe tbody tr th:only-of-type {\n",
       "        vertical-align: middle;\n",
       "    }\n",
       "\n",
       "    .dataframe tbody tr th {\n",
       "        vertical-align: top;\n",
       "    }\n",
       "\n",
       "    .dataframe thead th {\n",
       "        text-align: right;\n",
       "    }\n",
       "</style>\n",
       "<table border=\"1\" class=\"dataframe\">\n",
       "  <thead>\n",
       "    <tr style=\"text-align: right;\">\n",
       "      <th></th>\n",
       "      <th>Country</th>\n",
       "      <th>Value</th>\n",
       "    </tr>\n",
       "  </thead>\n",
       "  <tbody>\n",
       "    <tr>\n",
       "      <th>30</th>\n",
       "      <td>Peru</td>\n",
       "      <td>-0.193213</td>\n",
       "    </tr>\n",
       "    <tr>\n",
       "      <th>25</th>\n",
       "      <td>Mexico</td>\n",
       "      <td>-0.010793</td>\n",
       "    </tr>\n",
       "    <tr>\n",
       "      <th>24</th>\n",
       "      <td>Malaysia</td>\n",
       "      <td>-0.005836</td>\n",
       "    </tr>\n",
       "    <tr>\n",
       "      <th>31</th>\n",
       "      <td>Poland</td>\n",
       "      <td>-0.000764</td>\n",
       "    </tr>\n",
       "    <tr>\n",
       "      <th>8</th>\n",
       "      <td>Cyprus</td>\n",
       "      <td>0.005356</td>\n",
       "    </tr>\n",
       "  </tbody>\n",
       "</table>\n",
       "</div>"
      ],
      "text/plain": [
       "     Country     Value\n",
       "30      Peru -0.193213\n",
       "25    Mexico -0.010793\n",
       "24  Malaysia -0.005836\n",
       "31    Poland -0.000764\n",
       "8     Cyprus  0.005356"
      ]
     },
     "execution_count": 32,
     "metadata": {},
     "output_type": "execute_result"
    }
   ],
   "source": [
    "df_means_c.head()"
   ]
  },
  {
   "cell_type": "code",
   "execution_count": 33,
   "id": "b5b87276-a4d2-44a4-8b61-37d30c781b25",
   "metadata": {},
   "outputs": [],
   "source": [
    "df = pd.merge(df_means_c, \n",
    "                     df_means2, \n",
    "                     on ='Value', \n",
    "                     how ='left')"
   ]
  },
  {
   "cell_type": "code",
   "execution_count": 34,
   "id": "89a9f4ba-51f5-4421-81d5-fd63fc9f3825",
   "metadata": {
    "tags": []
   },
   "outputs": [
    {
     "data": {
      "text/html": [
       "<div>\n",
       "<style scoped>\n",
       "    .dataframe tbody tr th:only-of-type {\n",
       "        vertical-align: middle;\n",
       "    }\n",
       "\n",
       "    .dataframe tbody tr th {\n",
       "        vertical-align: top;\n",
       "    }\n",
       "\n",
       "    .dataframe thead th {\n",
       "        text-align: right;\n",
       "    }\n",
       "</style>\n",
       "<table border=\"1\" class=\"dataframe\">\n",
       "  <thead>\n",
       "    <tr style=\"text-align: right;\">\n",
       "      <th></th>\n",
       "      <th>Country</th>\n",
       "      <th>Value</th>\n",
       "      <th>LOCATION</th>\n",
       "    </tr>\n",
       "  </thead>\n",
       "  <tbody>\n",
       "    <tr>\n",
       "      <th>0</th>\n",
       "      <td>Peru</td>\n",
       "      <td>-0.193213</td>\n",
       "      <td>PER</td>\n",
       "    </tr>\n",
       "    <tr>\n",
       "      <th>1</th>\n",
       "      <td>Mexico</td>\n",
       "      <td>-0.010793</td>\n",
       "      <td>MEX</td>\n",
       "    </tr>\n",
       "    <tr>\n",
       "      <th>2</th>\n",
       "      <td>Malaysia</td>\n",
       "      <td>-0.005836</td>\n",
       "      <td>MYS</td>\n",
       "    </tr>\n",
       "    <tr>\n",
       "      <th>3</th>\n",
       "      <td>Poland</td>\n",
       "      <td>-0.000764</td>\n",
       "      <td>POL</td>\n",
       "    </tr>\n",
       "    <tr>\n",
       "      <th>4</th>\n",
       "      <td>Cyprus</td>\n",
       "      <td>0.005356</td>\n",
       "      <td>CYP</td>\n",
       "    </tr>\n",
       "    <tr>\n",
       "      <th>5</th>\n",
       "      <td>Estonia</td>\n",
       "      <td>0.005500</td>\n",
       "      <td>EST</td>\n",
       "    </tr>\n",
       "    <tr>\n",
       "      <th>6</th>\n",
       "      <td>Slovenia</td>\n",
       "      <td>0.008506</td>\n",
       "      <td>SVN</td>\n",
       "    </tr>\n",
       "    <tr>\n",
       "      <th>7</th>\n",
       "      <td>Brazil</td>\n",
       "      <td>0.017247</td>\n",
       "      <td>BRA</td>\n",
       "    </tr>\n",
       "    <tr>\n",
       "      <th>8</th>\n",
       "      <td>Hungary</td>\n",
       "      <td>0.034489</td>\n",
       "      <td>HUN</td>\n",
       "    </tr>\n",
       "    <tr>\n",
       "      <th>9</th>\n",
       "      <td>United States</td>\n",
       "      <td>0.035121</td>\n",
       "      <td>USA</td>\n",
       "    </tr>\n",
       "    <tr>\n",
       "      <th>10</th>\n",
       "      <td>Turkey</td>\n",
       "      <td>0.044592</td>\n",
       "      <td>TUR</td>\n",
       "    </tr>\n",
       "    <tr>\n",
       "      <th>11</th>\n",
       "      <td>Chile</td>\n",
       "      <td>0.048454</td>\n",
       "      <td>CHL</td>\n",
       "    </tr>\n",
       "    <tr>\n",
       "      <th>12</th>\n",
       "      <td>Belgium</td>\n",
       "      <td>0.053511</td>\n",
       "      <td>BEL</td>\n",
       "    </tr>\n",
       "    <tr>\n",
       "      <th>13</th>\n",
       "      <td>Canada</td>\n",
       "      <td>0.055500</td>\n",
       "      <td>CAN</td>\n",
       "    </tr>\n",
       "    <tr>\n",
       "      <th>14</th>\n",
       "      <td>Germany</td>\n",
       "      <td>0.061839</td>\n",
       "      <td>DEU</td>\n",
       "    </tr>\n",
       "    <tr>\n",
       "      <th>15</th>\n",
       "      <td>Norway</td>\n",
       "      <td>0.062529</td>\n",
       "      <td>NOR</td>\n",
       "    </tr>\n",
       "    <tr>\n",
       "      <th>16</th>\n",
       "      <td>Latvia</td>\n",
       "      <td>0.062638</td>\n",
       "      <td>LVA</td>\n",
       "    </tr>\n",
       "    <tr>\n",
       "      <th>17</th>\n",
       "      <td>Argentina</td>\n",
       "      <td>0.064655</td>\n",
       "      <td>ARG</td>\n",
       "    </tr>\n",
       "    <tr>\n",
       "      <th>18</th>\n",
       "      <td>United Kingdom</td>\n",
       "      <td>0.065500</td>\n",
       "      <td>GBR</td>\n",
       "    </tr>\n",
       "    <tr>\n",
       "      <th>19</th>\n",
       "      <td>Austria</td>\n",
       "      <td>0.067310</td>\n",
       "      <td>AUT</td>\n",
       "    </tr>\n",
       "    <tr>\n",
       "      <th>20</th>\n",
       "      <td>Lithuania</td>\n",
       "      <td>0.068529</td>\n",
       "      <td>LTU</td>\n",
       "    </tr>\n",
       "    <tr>\n",
       "      <th>21</th>\n",
       "      <td>Romania</td>\n",
       "      <td>0.073868</td>\n",
       "      <td>ROU</td>\n",
       "    </tr>\n",
       "    <tr>\n",
       "      <th>22</th>\n",
       "      <td>Switzerland</td>\n",
       "      <td>0.074862</td>\n",
       "      <td>CHE</td>\n",
       "    </tr>\n",
       "    <tr>\n",
       "      <th>23</th>\n",
       "      <td>Luxembourg</td>\n",
       "      <td>0.076971</td>\n",
       "      <td>LUX</td>\n",
       "    </tr>\n",
       "    <tr>\n",
       "      <th>24</th>\n",
       "      <td>France</td>\n",
       "      <td>0.084563</td>\n",
       "      <td>FRA</td>\n",
       "    </tr>\n",
       "    <tr>\n",
       "      <th>25</th>\n",
       "      <td>OECD - Total</td>\n",
       "      <td>0.087310</td>\n",
       "      <td>OECD</td>\n",
       "    </tr>\n",
       "    <tr>\n",
       "      <th>26</th>\n",
       "      <td>European Union</td>\n",
       "      <td>0.090138</td>\n",
       "      <td>EU</td>\n",
       "    </tr>\n",
       "    <tr>\n",
       "      <th>27</th>\n",
       "      <td>Slovak Republic</td>\n",
       "      <td>0.097362</td>\n",
       "      <td>SVK</td>\n",
       "    </tr>\n",
       "    <tr>\n",
       "      <th>28</th>\n",
       "      <td>Sweden</td>\n",
       "      <td>0.100546</td>\n",
       "      <td>SWE</td>\n",
       "    </tr>\n",
       "    <tr>\n",
       "      <th>29</th>\n",
       "      <td>Portugal</td>\n",
       "      <td>0.106109</td>\n",
       "      <td>PRT</td>\n",
       "    </tr>\n",
       "    <tr>\n",
       "      <th>30</th>\n",
       "      <td>Czech Republic</td>\n",
       "      <td>0.115580</td>\n",
       "      <td>CZE</td>\n",
       "    </tr>\n",
       "    <tr>\n",
       "      <th>31</th>\n",
       "      <td>Denmark</td>\n",
       "      <td>0.118655</td>\n",
       "      <td>DNK</td>\n",
       "    </tr>\n",
       "    <tr>\n",
       "      <th>32</th>\n",
       "      <td>Italy</td>\n",
       "      <td>0.133730</td>\n",
       "      <td>ITA</td>\n",
       "    </tr>\n",
       "    <tr>\n",
       "      <th>33</th>\n",
       "      <td>Greece</td>\n",
       "      <td>0.135362</td>\n",
       "      <td>GRC</td>\n",
       "    </tr>\n",
       "    <tr>\n",
       "      <th>34</th>\n",
       "      <td>Spain</td>\n",
       "      <td>0.135931</td>\n",
       "      <td>ESP</td>\n",
       "    </tr>\n",
       "    <tr>\n",
       "      <th>35</th>\n",
       "      <td>Australia</td>\n",
       "      <td>0.141149</td>\n",
       "      <td>AUS</td>\n",
       "    </tr>\n",
       "    <tr>\n",
       "      <th>36</th>\n",
       "      <td>Netherlands</td>\n",
       "      <td>0.150546</td>\n",
       "      <td>NLD</td>\n",
       "    </tr>\n",
       "    <tr>\n",
       "      <th>37</th>\n",
       "      <td>Bulgaria</td>\n",
       "      <td>0.155264</td>\n",
       "      <td>BGR</td>\n",
       "    </tr>\n",
       "    <tr>\n",
       "      <th>38</th>\n",
       "      <td>Iceland</td>\n",
       "      <td>0.155713</td>\n",
       "      <td>ISL</td>\n",
       "    </tr>\n",
       "    <tr>\n",
       "      <th>39</th>\n",
       "      <td>New Zealand</td>\n",
       "      <td>0.165069</td>\n",
       "      <td>NZL</td>\n",
       "    </tr>\n",
       "    <tr>\n",
       "      <th>40</th>\n",
       "      <td>Finland</td>\n",
       "      <td>0.184707</td>\n",
       "      <td>FIN</td>\n",
       "    </tr>\n",
       "    <tr>\n",
       "      <th>41</th>\n",
       "      <td>Ireland</td>\n",
       "      <td>0.241736</td>\n",
       "      <td>IRL</td>\n",
       "    </tr>\n",
       "    <tr>\n",
       "      <th>42</th>\n",
       "      <td>South Africa</td>\n",
       "      <td>0.323586</td>\n",
       "      <td>ZAF</td>\n",
       "    </tr>\n",
       "  </tbody>\n",
       "</table>\n",
       "</div>"
      ],
      "text/plain": [
       "            Country     Value LOCATION\n",
       "0              Peru -0.193213      PER\n",
       "1            Mexico -0.010793      MEX\n",
       "2          Malaysia -0.005836      MYS\n",
       "3            Poland -0.000764      POL\n",
       "4            Cyprus  0.005356      CYP\n",
       "5           Estonia  0.005500      EST\n",
       "6          Slovenia  0.008506      SVN\n",
       "7            Brazil  0.017247      BRA\n",
       "8           Hungary  0.034489      HUN\n",
       "9     United States  0.035121      USA\n",
       "10           Turkey  0.044592      TUR\n",
       "11            Chile  0.048454      CHL\n",
       "12          Belgium  0.053511      BEL\n",
       "13           Canada  0.055500      CAN\n",
       "14          Germany  0.061839      DEU\n",
       "15           Norway  0.062529      NOR\n",
       "16           Latvia  0.062638      LVA\n",
       "17        Argentina  0.064655      ARG\n",
       "18   United Kingdom  0.065500      GBR\n",
       "19          Austria  0.067310      AUT\n",
       "20        Lithuania  0.068529      LTU\n",
       "21          Romania  0.073868      ROU\n",
       "22      Switzerland  0.074862      CHE\n",
       "23       Luxembourg  0.076971      LUX\n",
       "24           France  0.084563      FRA\n",
       "25     OECD - Total  0.087310     OECD\n",
       "26   European Union  0.090138       EU\n",
       "27  Slovak Republic  0.097362      SVK\n",
       "28           Sweden  0.100546      SWE\n",
       "29         Portugal  0.106109      PRT\n",
       "30   Czech Republic  0.115580      CZE\n",
       "31          Denmark  0.118655      DNK\n",
       "32            Italy  0.133730      ITA\n",
       "33           Greece  0.135362      GRC\n",
       "34            Spain  0.135931      ESP\n",
       "35        Australia  0.141149      AUS\n",
       "36      Netherlands  0.150546      NLD\n",
       "37         Bulgaria  0.155264      BGR\n",
       "38          Iceland  0.155713      ISL\n",
       "39      New Zealand  0.165069      NZL\n",
       "40          Finland  0.184707      FIN\n",
       "41          Ireland  0.241736      IRL\n",
       "42     South Africa  0.323586      ZAF"
      ]
     },
     "execution_count": 34,
     "metadata": {},
     "output_type": "execute_result"
    }
   ],
   "source": [
    "df"
   ]
  },
  {
   "cell_type": "code",
   "execution_count": 49,
   "id": "add13f5f-d5eb-4ff7-9002-10bd527dff4a",
   "metadata": {},
   "outputs": [
    {
     "name": "stdout",
     "output_type": "stream",
     "text": [
      "Collecting plotly\n",
      "  Downloading plotly-5.7.0-py2.py3-none-any.whl (28.8 MB)\n",
      "Collecting tenacity>=6.2.0\n",
      "  Using cached tenacity-8.0.1-py3-none-any.whl (24 kB)\n",
      "Requirement already satisfied: six in c:\\users\\yakup\\anaconda3\\lib\\site-packages (from plotly) (1.16.0)\n",
      "Installing collected packages: tenacity, plotly\n",
      "Note: you may need to restart the kernel to use updated packages.\n",
      "Successfully installed plotly-5.7.0 tenacity-8.0.1\n"
     ]
    }
   ],
   "source": [
    "pip install plotly"
   ]
  },
  {
   "cell_type": "code",
   "execution_count": 36,
   "id": "abafb8a3-a2c3-442a-aed6-c71ff1068baf",
   "metadata": {},
   "outputs": [],
   "source": [
    "import plotly.graph_objs as go \n",
    "from plotly.offline import download_plotlyjs, init_notebook_mode, plot, iplot"
   ]
  },
  {
   "cell_type": "code",
   "execution_count": 51,
   "id": "f0263ea4-3924-484d-b047-da75ad0f0c22",
   "metadata": {},
   "outputs": [
    {
     "name": "stdout",
     "output_type": "stream",
     "text": [
      "Collecting chart-studio\n",
      "  Downloading chart_studio-1.1.0-py3-none-any.whl (64 kB)\n",
      "Requirement already satisfied: requests in c:\\users\\yakup\\anaconda3\\lib\\site-packages (from chart-studio) (2.26.0)\n",
      "Requirement already satisfied: plotly in c:\\users\\yakup\\anaconda3\\lib\\site-packages (from chart-studio) (5.7.0)\n",
      "Requirement already satisfied: six in c:\\users\\yakup\\anaconda3\\lib\\site-packages (from chart-studio) (1.16.0)\n",
      "Collecting retrying>=1.3.3\n",
      "  Downloading retrying-1.3.3.tar.gz (10 kB)\n",
      "Requirement already satisfied: tenacity>=6.2.0 in c:\\users\\yakup\\anaconda3\\lib\\site-packages (from plotly->chart-studio) (8.0.1)\n",
      "Requirement already satisfied: charset-normalizer~=2.0.0 in c:\\users\\yakup\\anaconda3\\lib\\site-packages (from requests->chart-studio) (2.0.4)\n",
      "Requirement already satisfied: certifi>=2017.4.17 in c:\\users\\yakup\\anaconda3\\lib\\site-packages (from requests->chart-studio) (2021.10.8)\n",
      "Requirement already satisfied: idna<4,>=2.5 in c:\\users\\yakup\\anaconda3\\lib\\site-packages (from requests->chart-studio) (3.2)\n",
      "Requirement already satisfied: urllib3<1.27,>=1.21.1 in c:\\users\\yakup\\anaconda3\\lib\\site-packages (from requests->chart-studio) (1.26.7)\n",
      "Building wheels for collected packages: retrying\n",
      "  Building wheel for retrying (setup.py): started\n",
      "  Building wheel for retrying (setup.py): finished with status 'done'\n",
      "  Created wheel for retrying: filename=retrying-1.3.3-py3-none-any.whl size=11448 sha256=ca73ce546bf5c7c2144890c8b5bb9aa497a0aebace92c7e71af983d5d2331bae\n",
      "  Stored in directory: c:\\users\\yakup\\appdata\\local\\pip\\cache\\wheels\\ce\\18\\7f\\e9527e3e66db1456194ac7f61eb3211068c409edceecff2d31\n",
      "Successfully built retrying\n",
      "Installing collected packages: retrying, chart-studio\n",
      "Successfully installed chart-studio-1.1.0 retrying-1.3.3\n",
      "Note: you may need to restart the kernel to use updated packages.\n"
     ]
    }
   ],
   "source": [
    "pip install chart-studio"
   ]
  },
  {
   "cell_type": "code",
   "execution_count": 37,
   "id": "c3940d0e-b138-40c2-ab94-aaa81f5b0cc9",
   "metadata": {},
   "outputs": [],
   "source": [
    "from chart_studio import plotly"
   ]
  },
  {
   "cell_type": "code",
   "execution_count": 38,
   "id": "ddd69362-0dc0-4aaf-b0f3-b227f1462f6b",
   "metadata": {
    "tags": []
   },
   "outputs": [],
   "source": [
    "data = dict(\n",
    "        type = 'choropleth',\n",
    "        locations = df['LOCATION'],\n",
    "        z = df['Value'],\n",
    "        text = df['Country'],\n",
    "        colorbar = {'title' : 'Value'},\n",
    "        colorscale = ['green', 'blue', 'pink', 'yellow', 'red', 'black']\n",
    "        \n",
    "      ) "
   ]
  },
  {
   "cell_type": "code",
   "execution_count": 70,
   "id": "a08c572e-33e1-4b24-9665-d1589c9ba47c",
   "metadata": {},
   "outputs": [],
   "source": [
    "layout = dict(\n",
    "    title = '2015 Shortages and Surpluses of Skills',\n",
    "    geo = dict(\n",
    "        showcountries= False,\n",
    "        showframe = False,\n",
    "        resolution = 110,\n",
    "        projection = {'type':'miller'}\n",
    "        \n",
    "        \n",
    "    )\n",
    ")"
   ]
  },
  {
   "cell_type": "code",
   "execution_count": 40,
   "id": "9253726c-6a7d-4443-a46f-34d49aa9e991",
   "metadata": {},
   "outputs": [],
   "source": [
    "import plotly.graph_objs as go"
   ]
  },
  {
   "cell_type": "code",
   "execution_count": 15,
   "id": "c8c09ec3-7de1-44fc-a5d3-1771cdcc0919",
   "metadata": {},
   "outputs": [
    {
     "name": "stdout",
     "output_type": "stream",
     "text": [
      "Requirement already satisfied: ipywidgets in c:\\users\\yakup\\anaconda3\\lib\\site-packages (7.6.5)\n",
      "Requirement already satisfied: ipython-genutils~=0.2.0 in c:\\users\\yakup\\anaconda3\\lib\\site-packages (from ipywidgets) (0.2.0)\n",
      "Requirement already satisfied: widgetsnbextension~=3.5.0 in c:\\users\\yakup\\anaconda3\\lib\\site-packages (from ipywidgets) (3.5.1)\n",
      "Requirement already satisfied: nbformat>=4.2.0 in c:\\users\\yakup\\anaconda3\\lib\\site-packages (from ipywidgets) (5.1.3)\n",
      "Requirement already satisfied: ipykernel>=4.5.1 in c:\\users\\yakup\\anaconda3\\lib\\site-packages (from ipywidgets) (6.4.1)\n",
      "Requirement already satisfied: jupyterlab-widgets>=1.0.0 in c:\\users\\yakup\\anaconda3\\lib\\site-packages (from ipywidgets) (1.0.0)\n",
      "Requirement already satisfied: traitlets>=4.3.1 in c:\\users\\yakup\\anaconda3\\lib\\site-packages (from ipywidgets) (5.1.0)\n",
      "Requirement already satisfied: ipython>=4.0.0 in c:\\users\\yakup\\anaconda3\\lib\\site-packages (from ipywidgets) (7.29.0)\n",
      "Requirement already satisfied: debugpy<2.0,>=1.0.0 in c:\\users\\yakup\\anaconda3\\lib\\site-packages (from ipykernel>=4.5.1->ipywidgets) (1.4.1)\n",
      "Requirement already satisfied: matplotlib-inline<0.2.0,>=0.1.0 in c:\\users\\yakup\\anaconda3\\lib\\site-packages (from ipykernel>=4.5.1->ipywidgets) (0.1.2)\n",
      "Requirement already satisfied: jupyter-client<8.0 in c:\\users\\yakup\\anaconda3\\lib\\site-packages (from ipykernel>=4.5.1->ipywidgets) (6.1.12)\n",
      "Requirement already satisfied: tornado<7.0,>=4.2 in c:\\users\\yakup\\anaconda3\\lib\\site-packages (from ipykernel>=4.5.1->ipywidgets) (6.1)\n",
      "Requirement already satisfied: colorama in c:\\users\\yakup\\anaconda3\\lib\\site-packages (from ipython>=4.0.0->ipywidgets) (0.4.4)\n",
      "Requirement already satisfied: pickleshare in c:\\users\\yakup\\anaconda3\\lib\\site-packages (from ipython>=4.0.0->ipywidgets) (0.7.5)\n",
      "Requirement already satisfied: decorator in c:\\users\\yakup\\anaconda3\\lib\\site-packages (from ipython>=4.0.0->ipywidgets) (5.1.0)\n",
      "Requirement already satisfied: pygments in c:\\users\\yakup\\anaconda3\\lib\\site-packages (from ipython>=4.0.0->ipywidgets) (2.10.0)\n",
      "Requirement already satisfied: backcall in c:\\users\\yakup\\anaconda3\\lib\\site-packages (from ipython>=4.0.0->ipywidgets) (0.2.0)\n",
      "Requirement already satisfied: jedi>=0.16 in c:\\users\\yakup\\anaconda3\\lib\\site-packages (from ipython>=4.0.0->ipywidgets) (0.18.0)\n",
      "Requirement already satisfied: setuptools>=18.5 in c:\\users\\yakup\\anaconda3\\lib\\site-packages (from ipython>=4.0.0->ipywidgets) (58.0.4)\n",
      "Requirement already satisfied: prompt-toolkit!=3.0.0,!=3.0.1,<3.1.0,>=2.0.0 in c:\\users\\yakup\\anaconda3\\lib\\site-packages (from ipython>=4.0.0->ipywidgets) (3.0.20)Note: you may need to restart the kernel to use updated packages.\n",
      "Requirement already satisfied: parso<0.9.0,>=0.8.0 in c:\\users\\yakup\\anaconda3\\lib\\site-packages (from jedi>=0.16->ipython>=4.0.0->ipywidgets) (0.8.2)\n",
      "Requirement already satisfied: pyzmq>=13 in c:\\users\\yakup\\anaconda3\\lib\\site-packages (from jupyter-client<8.0->ipykernel>=4.5.1->ipywidgets) (22.2.1)\n",
      "Requirement already satisfied: jupyter-core>=4.6.0 in c:\\users\\yakup\\anaconda3\\lib\\site-packages (from jupyter-client<8.0->ipykernel>=4.5.1->ipywidgets) (4.8.1)\n",
      "Requirement already satisfied: python-dateutil>=2.1 in c:\\users\\yakup\\anaconda3\\lib\\site-packages (from jupyter-client<8.0->ipykernel>=4.5.1->ipywidgets) (2.8.2)\n",
      "Requirement already satisfied: pywin32>=1.0 in c:\\users\\yakup\\anaconda3\\lib\\site-packages (from jupyter-core>=4.6.0->jupyter-client<8.0->ipykernel>=4.5.1->ipywidgets) (228)\n",
      "Requirement already satisfied: jsonschema!=2.5.0,>=2.4 in c:\\users\\yakup\\anaconda3\\lib\\site-packages (from nbformat>=4.2.0->ipywidgets) (3.2.0)\n",
      "Requirement already satisfied: pyrsistent>=0.14.0 in c:\\users\\yakup\\anaconda3\\lib\\site-packages (from jsonschema!=2.5.0,>=2.4->nbformat>=4.2.0->ipywidgets) (0.18.0)\n",
      "Requirement already satisfied: attrs>=17.4.0 in c:\\users\\yakup\\anaconda3\\lib\\site-packages (from jsonschema!=2.5.0,>=2.4->nbformat>=4.2.0->ipywidgets) (21.2.0)\n",
      "Requirement already satisfied: six>=1.11.0 in c:\\users\\yakup\\anaconda3\\lib\\site-packages (from jsonschema!=2.5.0,>=2.4->nbformat>=4.2.0->ipywidgets) (1.16.0)\n",
      "Requirement already satisfied: wcwidth in c:\\users\\yakup\\anaconda3\\lib\\site-packages (from prompt-toolkit!=3.0.0,!=3.0.1,<3.1.0,>=2.0.0->ipython>=4.0.0->ipywidgets) (0.2.5)\n",
      "\n",
      "Requirement already satisfied: notebook>=4.4.1 in c:\\users\\yakup\\anaconda3\\lib\\site-packages (from widgetsnbextension~=3.5.0->ipywidgets) (6.4.5)\n",
      "Requirement already satisfied: Send2Trash>=1.5.0 in c:\\users\\yakup\\anaconda3\\lib\\site-packages (from notebook>=4.4.1->widgetsnbextension~=3.5.0->ipywidgets) (1.8.0)\n",
      "Requirement already satisfied: terminado>=0.8.3 in c:\\users\\yakup\\anaconda3\\lib\\site-packages (from notebook>=4.4.1->widgetsnbextension~=3.5.0->ipywidgets) (0.9.4)\n",
      "Requirement already satisfied: argon2-cffi in c:\\users\\yakup\\anaconda3\\lib\\site-packages (from notebook>=4.4.1->widgetsnbextension~=3.5.0->ipywidgets) (20.1.0)\n",
      "Requirement already satisfied: nbconvert in c:\\users\\yakup\\anaconda3\\lib\\site-packages (from notebook>=4.4.1->widgetsnbextension~=3.5.0->ipywidgets) (6.1.0)\n",
      "Requirement already satisfied: jinja2 in c:\\users\\yakup\\anaconda3\\lib\\site-packages (from notebook>=4.4.1->widgetsnbextension~=3.5.0->ipywidgets) (2.11.3)\n",
      "Requirement already satisfied: prometheus-client in c:\\users\\yakup\\anaconda3\\lib\\site-packages (from notebook>=4.4.1->widgetsnbextension~=3.5.0->ipywidgets) (0.11.0)\n",
      "Requirement already satisfied: pywinpty>=0.5 in c:\\users\\yakup\\anaconda3\\lib\\site-packages (from terminado>=0.8.3->notebook>=4.4.1->widgetsnbextension~=3.5.0->ipywidgets) (0.5.7)\n",
      "Requirement already satisfied: cffi>=1.0.0 in c:\\users\\yakup\\anaconda3\\lib\\site-packages (from argon2-cffi->notebook>=4.4.1->widgetsnbextension~=3.5.0->ipywidgets) (1.14.6)\n",
      "Requirement already satisfied: pycparser in c:\\users\\yakup\\anaconda3\\lib\\site-packages (from cffi>=1.0.0->argon2-cffi->notebook>=4.4.1->widgetsnbextension~=3.5.0->ipywidgets) (2.20)\n",
      "Requirement already satisfied: MarkupSafe>=0.23 in c:\\users\\yakup\\anaconda3\\lib\\site-packages (from jinja2->notebook>=4.4.1->widgetsnbextension~=3.5.0->ipywidgets) (1.1.1)\n",
      "Requirement already satisfied: defusedxml in c:\\users\\yakup\\anaconda3\\lib\\site-packages (from nbconvert->notebook>=4.4.1->widgetsnbextension~=3.5.0->ipywidgets) (0.7.1)\n",
      "Requirement already satisfied: mistune<2,>=0.8.1 in c:\\users\\yakup\\anaconda3\\lib\\site-packages (from nbconvert->notebook>=4.4.1->widgetsnbextension~=3.5.0->ipywidgets) (0.8.4)\n",
      "Requirement already satisfied: testpath in c:\\users\\yakup\\anaconda3\\lib\\site-packages (from nbconvert->notebook>=4.4.1->widgetsnbextension~=3.5.0->ipywidgets) (0.5.0)\n",
      "Requirement already satisfied: jupyterlab-pygments in c:\\users\\yakup\\anaconda3\\lib\\site-packages (from nbconvert->notebook>=4.4.1->widgetsnbextension~=3.5.0->ipywidgets) (0.1.2)\n",
      "Requirement already satisfied: entrypoints>=0.2.2 in c:\\users\\yakup\\anaconda3\\lib\\site-packages (from nbconvert->notebook>=4.4.1->widgetsnbextension~=3.5.0->ipywidgets) (0.3)\n",
      "Requirement already satisfied: bleach in c:\\users\\yakup\\anaconda3\\lib\\site-packages (from nbconvert->notebook>=4.4.1->widgetsnbextension~=3.5.0->ipywidgets) (4.0.0)\n",
      "Requirement already satisfied: nbclient<0.6.0,>=0.5.0 in c:\\users\\yakup\\anaconda3\\lib\\site-packages (from nbconvert->notebook>=4.4.1->widgetsnbextension~=3.5.0->ipywidgets) (0.5.3)\n",
      "Requirement already satisfied: pandocfilters>=1.4.1 in c:\\users\\yakup\\anaconda3\\lib\\site-packages (from nbconvert->notebook>=4.4.1->widgetsnbextension~=3.5.0->ipywidgets) (1.4.3)\n",
      "Requirement already satisfied: nest-asyncio in c:\\users\\yakup\\anaconda3\\lib\\site-packages (from nbclient<0.6.0,>=0.5.0->nbconvert->notebook>=4.4.1->widgetsnbextension~=3.5.0->ipywidgets) (1.5.1)\n",
      "Requirement already satisfied: async-generator in c:\\users\\yakup\\anaconda3\\lib\\site-packages (from nbclient<0.6.0,>=0.5.0->nbconvert->notebook>=4.4.1->widgetsnbextension~=3.5.0->ipywidgets) (1.10)\n",
      "Requirement already satisfied: packaging in c:\\users\\yakup\\anaconda3\\lib\\site-packages (from bleach->nbconvert->notebook>=4.4.1->widgetsnbextension~=3.5.0->ipywidgets) (21.0)\n",
      "Requirement already satisfied: webencodings in c:\\users\\yakup\\anaconda3\\lib\\site-packages (from bleach->nbconvert->notebook>=4.4.1->widgetsnbextension~=3.5.0->ipywidgets) (0.5.1)\n",
      "Requirement already satisfied: pyparsing>=2.0.2 in c:\\users\\yakup\\anaconda3\\lib\\site-packages (from packaging->bleach->nbconvert->notebook>=4.4.1->widgetsnbextension~=3.5.0->ipywidgets) (3.0.4)\n"
     ]
    }
   ],
   "source": [
    "pip install ipywidgets"
   ]
  },
  {
   "cell_type": "markdown",
   "id": "d6534f1e-584f-4013-a16b-2235695d517e",
   "metadata": {},
   "source": [
    "## Visualization on the World Map (Interactive Map)"
   ]
  },
  {
   "cell_type": "markdown",
   "id": "634b245e-678e-49fc-b060-e36aa7d6f532",
   "metadata": {},
   "source": [
    "note: light blue countries on the map are countries with no data "
   ]
  },
  {
   "cell_type": "code",
   "execution_count": 71,
   "id": "83dc37d3-4103-4b31-8ebf-4bdc5385b631",
   "metadata": {},
   "outputs": [
    {
     "data": {
      "application/vnd.plotly.v1+json": {
       "config": {
        "linkText": "Export to plot.ly",
        "plotlyServerURL": "https://plot.ly",
        "showLink": false
       },
       "data": [
        {
         "colorbar": {
          "title": {
           "text": "Value"
          }
         },
         "colorscale": [
          [
           0,
           "green"
          ],
          [
           0.2,
           "blue"
          ],
          [
           0.4,
           "pink"
          ],
          [
           0.6,
           "yellow"
          ],
          [
           0.8,
           "red"
          ],
          [
           1,
           "black"
          ]
         ],
         "locations": [
          "PER",
          "MEX",
          "MYS",
          "POL",
          "CYP",
          "EST",
          "SVN",
          "BRA",
          "HUN",
          "USA",
          "TUR",
          "CHL",
          "BEL",
          "CAN",
          "DEU",
          "NOR",
          "LVA",
          "ARG",
          "GBR",
          "AUT",
          "LTU",
          "ROU",
          "CHE",
          "LUX",
          "FRA",
          "OECD",
          "EU",
          "SVK",
          "SWE",
          "PRT",
          "CZE",
          "DNK",
          "ITA",
          "GRC",
          "ESP",
          "AUS",
          "NLD",
          "BGR",
          "ISL",
          "NZL",
          "FIN",
          "IRL",
          "ZAF"
         ],
         "text": [
          "Peru",
          "Mexico",
          "Malaysia",
          "Poland",
          "Cyprus",
          "Estonia",
          "Slovenia",
          "Brazil",
          "Hungary",
          "United States",
          "Turkey",
          "Chile",
          "Belgium",
          "Canada",
          "Germany",
          "Norway",
          "Latvia",
          "Argentina",
          "United Kingdom",
          "Austria",
          "Lithuania",
          "Romania",
          "Switzerland",
          "Luxembourg",
          "France",
          "OECD - Total",
          "European Union",
          "Slovak Republic",
          "Sweden",
          "Portugal",
          "Czech Republic",
          "Denmark",
          "Italy",
          "Greece",
          "Spain",
          "Australia",
          "Netherlands",
          "Bulgaria",
          "Iceland",
          "New Zealand",
          "Finland",
          "Ireland",
          "South Africa"
         ],
         "type": "choropleth",
         "z": [
          -0.1932126436781609,
          -0.010793103448275861,
          -0.005835526315789474,
          -0.0007643678160919541,
          0.0053563218390804595,
          0.0055,
          0.008505747126436782,
          0.01724712643678161,
          0.03448850574712644,
          0.03512068965517241,
          0.04459195402298851,
          0.048454022988505756,
          0.05351149425287356,
          0.0555,
          0.061839080459770115,
          0.06252873563218392,
          0.06263793103448276,
          0.06465517241379311,
          0.0655,
          0.0673103448275862,
          0.06852873563218391,
          0.07386781609195402,
          0.07486206896551724,
          0.0769712643678161,
          0.0845632183908046,
          0.0873103448275862,
          0.09013793103448275,
          0.09736206896551723,
          0.10054597701149426,
          0.10610919540229885,
          0.11558045977011494,
          0.11865517241379311,
          0.13372988505747124,
          0.13536206896551725,
          0.13593103448275862,
          0.14114942528735633,
          0.15054597701149425,
          0.15526436781609193,
          0.15571264367816093,
          0.1650689655172414,
          0.18470689655172415,
          0.24173563218390803,
          0.3235862068965517
         ]
        }
       ],
       "layout": {
        "autosize": true,
        "geo": {
         "projection": {
          "type": "miller"
         },
         "resolution": 110,
         "showcountries": false,
         "showframe": false
        },
        "template": {
         "data": {
          "bar": [
           {
            "error_x": {
             "color": "#2a3f5f"
            },
            "error_y": {
             "color": "#2a3f5f"
            },
            "marker": {
             "line": {
              "color": "#E5ECF6",
              "width": 0.5
             },
             "pattern": {
              "fillmode": "overlay",
              "size": 10,
              "solidity": 0.2
             }
            },
            "type": "bar"
           }
          ],
          "barpolar": [
           {
            "marker": {
             "line": {
              "color": "#E5ECF6",
              "width": 0.5
             },
             "pattern": {
              "fillmode": "overlay",
              "size": 10,
              "solidity": 0.2
             }
            },
            "type": "barpolar"
           }
          ],
          "carpet": [
           {
            "aaxis": {
             "endlinecolor": "#2a3f5f",
             "gridcolor": "white",
             "linecolor": "white",
             "minorgridcolor": "white",
             "startlinecolor": "#2a3f5f"
            },
            "baxis": {
             "endlinecolor": "#2a3f5f",
             "gridcolor": "white",
             "linecolor": "white",
             "minorgridcolor": "white",
             "startlinecolor": "#2a3f5f"
            },
            "type": "carpet"
           }
          ],
          "choropleth": [
           {
            "colorbar": {
             "outlinewidth": 0,
             "ticks": ""
            },
            "type": "choropleth"
           }
          ],
          "contour": [
           {
            "colorbar": {
             "outlinewidth": 0,
             "ticks": ""
            },
            "colorscale": [
             [
              0,
              "#0d0887"
             ],
             [
              0.1111111111111111,
              "#46039f"
             ],
             [
              0.2222222222222222,
              "#7201a8"
             ],
             [
              0.3333333333333333,
              "#9c179e"
             ],
             [
              0.4444444444444444,
              "#bd3786"
             ],
             [
              0.5555555555555556,
              "#d8576b"
             ],
             [
              0.6666666666666666,
              "#ed7953"
             ],
             [
              0.7777777777777778,
              "#fb9f3a"
             ],
             [
              0.8888888888888888,
              "#fdca26"
             ],
             [
              1,
              "#f0f921"
             ]
            ],
            "type": "contour"
           }
          ],
          "contourcarpet": [
           {
            "colorbar": {
             "outlinewidth": 0,
             "ticks": ""
            },
            "type": "contourcarpet"
           }
          ],
          "heatmap": [
           {
            "colorbar": {
             "outlinewidth": 0,
             "ticks": ""
            },
            "colorscale": [
             [
              0,
              "#0d0887"
             ],
             [
              0.1111111111111111,
              "#46039f"
             ],
             [
              0.2222222222222222,
              "#7201a8"
             ],
             [
              0.3333333333333333,
              "#9c179e"
             ],
             [
              0.4444444444444444,
              "#bd3786"
             ],
             [
              0.5555555555555556,
              "#d8576b"
             ],
             [
              0.6666666666666666,
              "#ed7953"
             ],
             [
              0.7777777777777778,
              "#fb9f3a"
             ],
             [
              0.8888888888888888,
              "#fdca26"
             ],
             [
              1,
              "#f0f921"
             ]
            ],
            "type": "heatmap"
           }
          ],
          "heatmapgl": [
           {
            "colorbar": {
             "outlinewidth": 0,
             "ticks": ""
            },
            "colorscale": [
             [
              0,
              "#0d0887"
             ],
             [
              0.1111111111111111,
              "#46039f"
             ],
             [
              0.2222222222222222,
              "#7201a8"
             ],
             [
              0.3333333333333333,
              "#9c179e"
             ],
             [
              0.4444444444444444,
              "#bd3786"
             ],
             [
              0.5555555555555556,
              "#d8576b"
             ],
             [
              0.6666666666666666,
              "#ed7953"
             ],
             [
              0.7777777777777778,
              "#fb9f3a"
             ],
             [
              0.8888888888888888,
              "#fdca26"
             ],
             [
              1,
              "#f0f921"
             ]
            ],
            "type": "heatmapgl"
           }
          ],
          "histogram": [
           {
            "marker": {
             "pattern": {
              "fillmode": "overlay",
              "size": 10,
              "solidity": 0.2
             }
            },
            "type": "histogram"
           }
          ],
          "histogram2d": [
           {
            "colorbar": {
             "outlinewidth": 0,
             "ticks": ""
            },
            "colorscale": [
             [
              0,
              "#0d0887"
             ],
             [
              0.1111111111111111,
              "#46039f"
             ],
             [
              0.2222222222222222,
              "#7201a8"
             ],
             [
              0.3333333333333333,
              "#9c179e"
             ],
             [
              0.4444444444444444,
              "#bd3786"
             ],
             [
              0.5555555555555556,
              "#d8576b"
             ],
             [
              0.6666666666666666,
              "#ed7953"
             ],
             [
              0.7777777777777778,
              "#fb9f3a"
             ],
             [
              0.8888888888888888,
              "#fdca26"
             ],
             [
              1,
              "#f0f921"
             ]
            ],
            "type": "histogram2d"
           }
          ],
          "histogram2dcontour": [
           {
            "colorbar": {
             "outlinewidth": 0,
             "ticks": ""
            },
            "colorscale": [
             [
              0,
              "#0d0887"
             ],
             [
              0.1111111111111111,
              "#46039f"
             ],
             [
              0.2222222222222222,
              "#7201a8"
             ],
             [
              0.3333333333333333,
              "#9c179e"
             ],
             [
              0.4444444444444444,
              "#bd3786"
             ],
             [
              0.5555555555555556,
              "#d8576b"
             ],
             [
              0.6666666666666666,
              "#ed7953"
             ],
             [
              0.7777777777777778,
              "#fb9f3a"
             ],
             [
              0.8888888888888888,
              "#fdca26"
             ],
             [
              1,
              "#f0f921"
             ]
            ],
            "type": "histogram2dcontour"
           }
          ],
          "mesh3d": [
           {
            "colorbar": {
             "outlinewidth": 0,
             "ticks": ""
            },
            "type": "mesh3d"
           }
          ],
          "parcoords": [
           {
            "line": {
             "colorbar": {
              "outlinewidth": 0,
              "ticks": ""
             }
            },
            "type": "parcoords"
           }
          ],
          "pie": [
           {
            "automargin": true,
            "type": "pie"
           }
          ],
          "scatter": [
           {
            "fillpattern": {
             "fillmode": "overlay",
             "size": 10,
             "solidity": 0.2
            },
            "type": "scatter"
           }
          ],
          "scatter3d": [
           {
            "line": {
             "colorbar": {
              "outlinewidth": 0,
              "ticks": ""
             }
            },
            "marker": {
             "colorbar": {
              "outlinewidth": 0,
              "ticks": ""
             }
            },
            "type": "scatter3d"
           }
          ],
          "scattercarpet": [
           {
            "marker": {
             "colorbar": {
              "outlinewidth": 0,
              "ticks": ""
             }
            },
            "type": "scattercarpet"
           }
          ],
          "scattergeo": [
           {
            "marker": {
             "colorbar": {
              "outlinewidth": 0,
              "ticks": ""
             }
            },
            "type": "scattergeo"
           }
          ],
          "scattergl": [
           {
            "marker": {
             "colorbar": {
              "outlinewidth": 0,
              "ticks": ""
             }
            },
            "type": "scattergl"
           }
          ],
          "scattermapbox": [
           {
            "marker": {
             "colorbar": {
              "outlinewidth": 0,
              "ticks": ""
             }
            },
            "type": "scattermapbox"
           }
          ],
          "scatterpolar": [
           {
            "marker": {
             "colorbar": {
              "outlinewidth": 0,
              "ticks": ""
             }
            },
            "type": "scatterpolar"
           }
          ],
          "scatterpolargl": [
           {
            "marker": {
             "colorbar": {
              "outlinewidth": 0,
              "ticks": ""
             }
            },
            "type": "scatterpolargl"
           }
          ],
          "scatterternary": [
           {
            "marker": {
             "colorbar": {
              "outlinewidth": 0,
              "ticks": ""
             }
            },
            "type": "scatterternary"
           }
          ],
          "surface": [
           {
            "colorbar": {
             "outlinewidth": 0,
             "ticks": ""
            },
            "colorscale": [
             [
              0,
              "#0d0887"
             ],
             [
              0.1111111111111111,
              "#46039f"
             ],
             [
              0.2222222222222222,
              "#7201a8"
             ],
             [
              0.3333333333333333,
              "#9c179e"
             ],
             [
              0.4444444444444444,
              "#bd3786"
             ],
             [
              0.5555555555555556,
              "#d8576b"
             ],
             [
              0.6666666666666666,
              "#ed7953"
             ],
             [
              0.7777777777777778,
              "#fb9f3a"
             ],
             [
              0.8888888888888888,
              "#fdca26"
             ],
             [
              1,
              "#f0f921"
             ]
            ],
            "type": "surface"
           }
          ],
          "table": [
           {
            "cells": {
             "fill": {
              "color": "#EBF0F8"
             },
             "line": {
              "color": "white"
             }
            },
            "header": {
             "fill": {
              "color": "#C8D4E3"
             },
             "line": {
              "color": "white"
             }
            },
            "type": "table"
           }
          ]
         },
         "layout": {
          "annotationdefaults": {
           "arrowcolor": "#2a3f5f",
           "arrowhead": 0,
           "arrowwidth": 1
          },
          "autotypenumbers": "strict",
          "coloraxis": {
           "colorbar": {
            "outlinewidth": 0,
            "ticks": ""
           }
          },
          "colorscale": {
           "diverging": [
            [
             0,
             "#8e0152"
            ],
            [
             0.1,
             "#c51b7d"
            ],
            [
             0.2,
             "#de77ae"
            ],
            [
             0.3,
             "#f1b6da"
            ],
            [
             0.4,
             "#fde0ef"
            ],
            [
             0.5,
             "#f7f7f7"
            ],
            [
             0.6,
             "#e6f5d0"
            ],
            [
             0.7,
             "#b8e186"
            ],
            [
             0.8,
             "#7fbc41"
            ],
            [
             0.9,
             "#4d9221"
            ],
            [
             1,
             "#276419"
            ]
           ],
           "sequential": [
            [
             0,
             "#0d0887"
            ],
            [
             0.1111111111111111,
             "#46039f"
            ],
            [
             0.2222222222222222,
             "#7201a8"
            ],
            [
             0.3333333333333333,
             "#9c179e"
            ],
            [
             0.4444444444444444,
             "#bd3786"
            ],
            [
             0.5555555555555556,
             "#d8576b"
            ],
            [
             0.6666666666666666,
             "#ed7953"
            ],
            [
             0.7777777777777778,
             "#fb9f3a"
            ],
            [
             0.8888888888888888,
             "#fdca26"
            ],
            [
             1,
             "#f0f921"
            ]
           ],
           "sequentialminus": [
            [
             0,
             "#0d0887"
            ],
            [
             0.1111111111111111,
             "#46039f"
            ],
            [
             0.2222222222222222,
             "#7201a8"
            ],
            [
             0.3333333333333333,
             "#9c179e"
            ],
            [
             0.4444444444444444,
             "#bd3786"
            ],
            [
             0.5555555555555556,
             "#d8576b"
            ],
            [
             0.6666666666666666,
             "#ed7953"
            ],
            [
             0.7777777777777778,
             "#fb9f3a"
            ],
            [
             0.8888888888888888,
             "#fdca26"
            ],
            [
             1,
             "#f0f921"
            ]
           ]
          },
          "colorway": [
           "#636efa",
           "#EF553B",
           "#00cc96",
           "#ab63fa",
           "#FFA15A",
           "#19d3f3",
           "#FF6692",
           "#B6E880",
           "#FF97FF",
           "#FECB52"
          ],
          "font": {
           "color": "#2a3f5f"
          },
          "geo": {
           "bgcolor": "white",
           "lakecolor": "white",
           "landcolor": "#E5ECF6",
           "showlakes": true,
           "showland": true,
           "subunitcolor": "white"
          },
          "hoverlabel": {
           "align": "left"
          },
          "hovermode": "closest",
          "mapbox": {
           "style": "light"
          },
          "paper_bgcolor": "white",
          "plot_bgcolor": "#E5ECF6",
          "polar": {
           "angularaxis": {
            "gridcolor": "white",
            "linecolor": "white",
            "ticks": ""
           },
           "bgcolor": "#E5ECF6",
           "radialaxis": {
            "gridcolor": "white",
            "linecolor": "white",
            "ticks": ""
           }
          },
          "scene": {
           "xaxis": {
            "backgroundcolor": "#E5ECF6",
            "gridcolor": "white",
            "gridwidth": 2,
            "linecolor": "white",
            "showbackground": true,
            "ticks": "",
            "zerolinecolor": "white"
           },
           "yaxis": {
            "backgroundcolor": "#E5ECF6",
            "gridcolor": "white",
            "gridwidth": 2,
            "linecolor": "white",
            "showbackground": true,
            "ticks": "",
            "zerolinecolor": "white"
           },
           "zaxis": {
            "backgroundcolor": "#E5ECF6",
            "gridcolor": "white",
            "gridwidth": 2,
            "linecolor": "white",
            "showbackground": true,
            "ticks": "",
            "zerolinecolor": "white"
           }
          },
          "shapedefaults": {
           "line": {
            "color": "#2a3f5f"
           }
          },
          "ternary": {
           "aaxis": {
            "gridcolor": "white",
            "linecolor": "white",
            "ticks": ""
           },
           "baxis": {
            "gridcolor": "white",
            "linecolor": "white",
            "ticks": ""
           },
           "bgcolor": "#E5ECF6",
           "caxis": {
            "gridcolor": "white",
            "linecolor": "white",
            "ticks": ""
           }
          },
          "title": {
           "x": 0.05
          },
          "xaxis": {
           "automargin": true,
           "gridcolor": "white",
           "linecolor": "white",
           "ticks": "",
           "title": {
            "standoff": 15
           },
           "zerolinecolor": "white",
           "zerolinewidth": 2
          },
          "yaxis": {
           "automargin": true,
           "gridcolor": "white",
           "linecolor": "white",
           "ticks": "",
           "title": {
            "standoff": 15
           },
           "zerolinecolor": "white",
           "zerolinewidth": 2
          }
         }
        },
        "title": {
         "text": "2015 Shortages and Surpluses of Skills"
        }
       }
      },
      "image/png": "[encoded data removed]",
      "text/html": [
       "<div>                            <div id=\"59890409-ddb6-4a4f-a73b-bc8bf506d3b6\" class=\"plotly-graph-div\" style=\"height:525px; width:100%;\"></div>            <script type=\"text/javascript\">                require([\"plotly\"], function(Plotly) {                    window.PLOTLYENV=window.PLOTLYENV || {};                                    if (document.getElementById(\"59890409-ddb6-4a4f-a73b-bc8bf506d3b6\")) {                    Plotly.newPlot(                        \"59890409-ddb6-4a4f-a73b-bc8bf506d3b6\",                        [{\"colorbar\":{\"title\":{\"text\":\"Value\"}},\"colorscale\":[[0.0,\"green\"],[0.2,\"blue\"],[0.4,\"pink\"],[0.6,\"yellow\"],[0.8,\"red\"],[1.0,\"black\"]],\"locations\":[\"PER\",\"MEX\",\"MYS\",\"POL\",\"CYP\",\"EST\",\"SVN\",\"BRA\",\"HUN\",\"USA\",\"TUR\",\"CHL\",\"BEL\",\"CAN\",\"DEU\",\"NOR\",\"LVA\",\"ARG\",\"GBR\",\"AUT\",\"LTU\",\"ROU\",\"CHE\",\"LUX\",\"FRA\",\"OECD\",\"EU\",\"SVK\",\"SWE\",\"PRT\",\"CZE\",\"DNK\",\"ITA\",\"GRC\",\"ESP\",\"AUS\",\"NLD\",\"BGR\",\"ISL\",\"NZL\",\"FIN\",\"IRL\",\"ZAF\"],\"text\":[\"Peru\",\"Mexico\",\"Malaysia\",\"Poland\",\"Cyprus\",\"Estonia\",\"Slovenia\",\"Brazil\",\"Hungary\",\"United States\",\"Turkey\",\"Chile\",\"Belgium\",\"Canada\",\"Germany\",\"Norway\",\"Latvia\",\"Argentina\",\"United Kingdom\",\"Austria\",\"Lithuania\",\"Romania\",\"Switzerland\",\"Luxembourg\",\"France\",\"OECD - Total\",\"European Union\",\"Slovak Republic\",\"Sweden\",\"Portugal\",\"Czech Republic\",\"Denmark\",\"Italy\",\"Greece\",\"Spain\",\"Australia\",\"Netherlands\",\"Bulgaria\",\"Iceland\",\"New Zealand\",\"Finland\",\"Ireland\",\"South Africa\"],\"z\":[-0.1932126436781609,-0.010793103448275861,-0.005835526315789474,-0.0007643678160919541,0.0053563218390804595,0.0055,0.008505747126436782,0.01724712643678161,0.03448850574712644,0.03512068965517241,0.04459195402298851,0.048454022988505756,0.05351149425287356,0.0555,0.061839080459770115,0.06252873563218392,0.06263793103448276,0.06465517241379311,0.0655,0.0673103448275862,0.06852873563218391,0.07386781609195402,0.07486206896551724,0.0769712643678161,0.0845632183908046,0.0873103448275862,0.09013793103448275,0.09736206896551723,0.10054597701149426,0.10610919540229885,0.11558045977011494,0.11865517241379311,0.13372988505747124,0.13536206896551725,0.13593103448275862,0.14114942528735633,0.15054597701149425,0.15526436781609193,0.15571264367816093,0.1650689655172414,0.18470689655172415,0.24173563218390803,0.3235862068965517],\"type\":\"choropleth\"}],                        {\"geo\":{\"projection\":{\"type\":\"miller\"},\"resolution\":110,\"showcountries\":false,\"showframe\":false},\"template\":{\"data\":{\"barpolar\":[{\"marker\":{\"line\":{\"color\":\"#E5ECF6\",\"width\":0.5},\"pattern\":{\"fillmode\":\"overlay\",\"size\":10,\"solidity\":0.2}},\"type\":\"barpolar\"}],\"bar\":[{\"error_x\":{\"color\":\"#2a3f5f\"},\"error_y\":{\"color\":\"#2a3f5f\"},\"marker\":{\"line\":{\"color\":\"#E5ECF6\",\"width\":0.5},\"pattern\":{\"fillmode\":\"overlay\",\"size\":10,\"solidity\":0.2}},\"type\":\"bar\"}],\"carpet\":[{\"aaxis\":{\"endlinecolor\":\"#2a3f5f\",\"gridcolor\":\"white\",\"linecolor\":\"white\",\"minorgridcolor\":\"white\",\"startlinecolor\":\"#2a3f5f\"},\"baxis\":{\"endlinecolor\":\"#2a3f5f\",\"gridcolor\":\"white\",\"linecolor\":\"white\",\"minorgridcolor\":\"white\",\"startlinecolor\":\"#2a3f5f\"},\"type\":\"carpet\"}],\"choropleth\":[{\"colorbar\":{\"outlinewidth\":0,\"ticks\":\"\"},\"type\":\"choropleth\"}],\"contourcarpet\":[{\"colorbar\":{\"outlinewidth\":0,\"ticks\":\"\"},\"type\":\"contourcarpet\"}],\"contour\":[{\"colorbar\":{\"outlinewidth\":0,\"ticks\":\"\"},\"colorscale\":[[0.0,\"#0d0887\"],[0.1111111111111111,\"#46039f\"],[0.2222222222222222,\"#7201a8\"],[0.3333333333333333,\"#9c179e\"],[0.4444444444444444,\"#bd3786\"],[0.5555555555555556,\"#d8576b\"],[0.6666666666666666,\"#ed7953\"],[0.7777777777777778,\"#fb9f3a\"],[0.8888888888888888,\"#fdca26\"],[1.0,\"#f0f921\"]],\"type\":\"contour\"}],\"heatmapgl\":[{\"colorbar\":{\"outlinewidth\":0,\"ticks\":\"\"},\"colorscale\":[[0.0,\"#0d0887\"],[0.1111111111111111,\"#46039f\"],[0.2222222222222222,\"#7201a8\"],[0.3333333333333333,\"#9c179e\"],[0.4444444444444444,\"#bd3786\"],[0.5555555555555556,\"#d8576b\"],[0.6666666666666666,\"#ed7953\"],[0.7777777777777778,\"#fb9f3a\"],[0.8888888888888888,\"#fdca26\"],[1.0,\"#f0f921\"]],\"type\":\"heatmapgl\"}],\"heatmap\":[{\"colorbar\":{\"outlinewidth\":0,\"ticks\":\"\"},\"colorscale\":[[0.0,\"#0d0887\"],[0.1111111111111111,\"#46039f\"],[0.2222222222222222,\"#7201a8\"],[0.3333333333333333,\"#9c179e\"],[0.4444444444444444,\"#bd3786\"],[0.5555555555555556,\"#d8576b\"],[0.6666666666666666,\"#ed7953\"],[0.7777777777777778,\"#fb9f3a\"],[0.8888888888888888,\"#fdca26\"],[1.0,\"#f0f921\"]],\"type\":\"heatmap\"}],\"histogram2dcontour\":[{\"colorbar\":{\"outlinewidth\":0,\"ticks\":\"\"},\"colorscale\":[[0.0,\"#0d0887\"],[0.1111111111111111,\"#46039f\"],[0.2222222222222222,\"#7201a8\"],[0.3333333333333333,\"#9c179e\"],[0.4444444444444444,\"#bd3786\"],[0.5555555555555556,\"#d8576b\"],[0.6666666666666666,\"#ed7953\"],[0.7777777777777778,\"#fb9f3a\"],[0.8888888888888888,\"#fdca26\"],[1.0,\"#f0f921\"]],\"type\":\"histogram2dcontour\"}],\"histogram2d\":[{\"colorbar\":{\"outlinewidth\":0,\"ticks\":\"\"},\"colorscale\":[[0.0,\"#0d0887\"],[0.1111111111111111,\"#46039f\"],[0.2222222222222222,\"#7201a8\"],[0.3333333333333333,\"#9c179e\"],[0.4444444444444444,\"#bd3786\"],[0.5555555555555556,\"#d8576b\"],[0.6666666666666666,\"#ed7953\"],[0.7777777777777778,\"#fb9f3a\"],[0.8888888888888888,\"#fdca26\"],[1.0,\"#f0f921\"]],\"type\":\"histogram2d\"}],\"histogram\":[{\"marker\":{\"pattern\":{\"fillmode\":\"overlay\",\"size\":10,\"solidity\":0.2}},\"type\":\"histogram\"}],\"mesh3d\":[{\"colorbar\":{\"outlinewidth\":0,\"ticks\":\"\"},\"type\":\"mesh3d\"}],\"parcoords\":[{\"line\":{\"colorbar\":{\"outlinewidth\":0,\"ticks\":\"\"}},\"type\":\"parcoords\"}],\"pie\":[{\"automargin\":true,\"type\":\"pie\"}],\"scatter3d\":[{\"line\":{\"colorbar\":{\"outlinewidth\":0,\"ticks\":\"\"}},\"marker\":{\"colorbar\":{\"outlinewidth\":0,\"ticks\":\"\"}},\"type\":\"scatter3d\"}],\"scattercarpet\":[{\"marker\":{\"colorbar\":{\"outlinewidth\":0,\"ticks\":\"\"}},\"type\":\"scattercarpet\"}],\"scattergeo\":[{\"marker\":{\"colorbar\":{\"outlinewidth\":0,\"ticks\":\"\"}},\"type\":\"scattergeo\"}],\"scattergl\":[{\"marker\":{\"colorbar\":{\"outlinewidth\":0,\"ticks\":\"\"}},\"type\":\"scattergl\"}],\"scattermapbox\":[{\"marker\":{\"colorbar\":{\"outlinewidth\":0,\"ticks\":\"\"}},\"type\":\"scattermapbox\"}],\"scatterpolargl\":[{\"marker\":{\"colorbar\":{\"outlinewidth\":0,\"ticks\":\"\"}},\"type\":\"scatterpolargl\"}],\"scatterpolar\":[{\"marker\":{\"colorbar\":{\"outlinewidth\":0,\"ticks\":\"\"}},\"type\":\"scatterpolar\"}],\"scatter\":[{\"fillpattern\":{\"fillmode\":\"overlay\",\"size\":10,\"solidity\":0.2},\"type\":\"scatter\"}],\"scatterternary\":[{\"marker\":{\"colorbar\":{\"outlinewidth\":0,\"ticks\":\"\"}},\"type\":\"scatterternary\"}],\"surface\":[{\"colorbar\":{\"outlinewidth\":0,\"ticks\":\"\"},\"colorscale\":[[0.0,\"#0d0887\"],[0.1111111111111111,\"#46039f\"],[0.2222222222222222,\"#7201a8\"],[0.3333333333333333,\"#9c179e\"],[0.4444444444444444,\"#bd3786\"],[0.5555555555555556,\"#d8576b\"],[0.6666666666666666,\"#ed7953\"],[0.7777777777777778,\"#fb9f3a\"],[0.8888888888888888,\"#fdca26\"],[1.0,\"#f0f921\"]],\"type\":\"surface\"}],\"table\":[{\"cells\":{\"fill\":{\"color\":\"#EBF0F8\"},\"line\":{\"color\":\"white\"}},\"header\":{\"fill\":{\"color\":\"#C8D4E3\"},\"line\":{\"color\":\"white\"}},\"type\":\"table\"}]},\"layout\":{\"annotationdefaults\":{\"arrowcolor\":\"#2a3f5f\",\"arrowhead\":0,\"arrowwidth\":1},\"autotypenumbers\":\"strict\",\"coloraxis\":{\"colorbar\":{\"outlinewidth\":0,\"ticks\":\"\"}},\"colorscale\":{\"diverging\":[[0,\"#8e0152\"],[0.1,\"#c51b7d\"],[0.2,\"#de77ae\"],[0.3,\"#f1b6da\"],[0.4,\"#fde0ef\"],[0.5,\"#f7f7f7\"],[0.6,\"#e6f5d0\"],[0.7,\"#b8e186\"],[0.8,\"#7fbc41\"],[0.9,\"#4d9221\"],[1,\"#276419\"]],\"sequential\":[[0.0,\"#0d0887\"],[0.1111111111111111,\"#46039f\"],[0.2222222222222222,\"#7201a8\"],[0.3333333333333333,\"#9c179e\"],[0.4444444444444444,\"#bd3786\"],[0.5555555555555556,\"#d8576b\"],[0.6666666666666666,\"#ed7953\"],[0.7777777777777778,\"#fb9f3a\"],[0.8888888888888888,\"#fdca26\"],[1.0,\"#f0f921\"]],\"sequentialminus\":[[0.0,\"#0d0887\"],[0.1111111111111111,\"#46039f\"],[0.2222222222222222,\"#7201a8\"],[0.3333333333333333,\"#9c179e\"],[0.4444444444444444,\"#bd3786\"],[0.5555555555555556,\"#d8576b\"],[0.6666666666666666,\"#ed7953\"],[0.7777777777777778,\"#fb9f3a\"],[0.8888888888888888,\"#fdca26\"],[1.0,\"#f0f921\"]]},\"colorway\":[\"#636efa\",\"#EF553B\",\"#00cc96\",\"#ab63fa\",\"#FFA15A\",\"#19d3f3\",\"#FF6692\",\"#B6E880\",\"#FF97FF\",\"#FECB52\"],\"font\":{\"color\":\"#2a3f5f\"},\"geo\":{\"bgcolor\":\"white\",\"lakecolor\":\"white\",\"landcolor\":\"#E5ECF6\",\"showlakes\":true,\"showland\":true,\"subunitcolor\":\"white\"},\"hoverlabel\":{\"align\":\"left\"},\"hovermode\":\"closest\",\"mapbox\":{\"style\":\"light\"},\"paper_bgcolor\":\"white\",\"plot_bgcolor\":\"#E5ECF6\",\"polar\":{\"angularaxis\":{\"gridcolor\":\"white\",\"linecolor\":\"white\",\"ticks\":\"\"},\"bgcolor\":\"#E5ECF6\",\"radialaxis\":{\"gridcolor\":\"white\",\"linecolor\":\"white\",\"ticks\":\"\"}},\"scene\":{\"xaxis\":{\"backgroundcolor\":\"#E5ECF6\",\"gridcolor\":\"white\",\"gridwidth\":2,\"linecolor\":\"white\",\"showbackground\":true,\"ticks\":\"\",\"zerolinecolor\":\"white\"},\"yaxis\":{\"backgroundcolor\":\"#E5ECF6\",\"gridcolor\":\"white\",\"gridwidth\":2,\"linecolor\":\"white\",\"showbackground\":true,\"ticks\":\"\",\"zerolinecolor\":\"white\"},\"zaxis\":{\"backgroundcolor\":\"#E5ECF6\",\"gridcolor\":\"white\",\"gridwidth\":2,\"linecolor\":\"white\",\"showbackground\":true,\"ticks\":\"\",\"zerolinecolor\":\"white\"}},\"shapedefaults\":{\"line\":{\"color\":\"#2a3f5f\"}},\"ternary\":{\"aaxis\":{\"gridcolor\":\"white\",\"linecolor\":\"white\",\"ticks\":\"\"},\"baxis\":{\"gridcolor\":\"white\",\"linecolor\":\"white\",\"ticks\":\"\"},\"bgcolor\":\"#E5ECF6\",\"caxis\":{\"gridcolor\":\"white\",\"linecolor\":\"white\",\"ticks\":\"\"}},\"title\":{\"x\":0.05},\"xaxis\":{\"automargin\":true,\"gridcolor\":\"white\",\"linecolor\":\"white\",\"ticks\":\"\",\"title\":{\"standoff\":15},\"zerolinecolor\":\"white\",\"zerolinewidth\":2},\"yaxis\":{\"automargin\":true,\"gridcolor\":\"white\",\"linecolor\":\"white\",\"ticks\":\"\",\"title\":{\"standoff\":15},\"zerolinecolor\":\"white\",\"zerolinewidth\":2}}},\"title\":{\"text\":\"2015 Shortages and Surpluses of Skills\"}},                        {\"responsive\": true}                    ).then(function(){\n",
       "                            \n",
       "var gd = document.getElementById('59890409-ddb6-4a4f-a73b-bc8bf506d3b6');\n",
       "var x = new MutationObserver(function (mutations, observer) {{\n",
       "        var display = window.getComputedStyle(gd).display;\n",
       "        if (!display || display === 'none') {{\n",
       "            console.log([gd, 'removed!']);\n",
       "            Plotly.purge(gd);\n",
       "            observer.disconnect();\n",
       "        }}\n",
       "}});\n",
       "\n",
       "// Listen for the removal of the full notebook cells\n",
       "var notebookContainer = gd.closest('#notebook-container');\n",
       "if (notebookContainer) {{\n",
       "    x.observe(notebookContainer, {childList: true});\n",
       "}}\n",
       "\n",
       "// Listen for the clearing of the current output cell\n",
       "var outputEl = gd.closest('.output');\n",
       "if (outputEl) {{\n",
       "    x.observe(outputEl, {childList: true});\n",
       "}}\n",
       "\n",
       "                        })                };                });            </script>        </div>"
      ]
     },
     "metadata": {},
     "output_type": "display_data"
    }
   ],
   "source": [
    "choromap = go.Figure(data = [data],layout = layout)\n",
    "iplot(choromap)"
   ]
  },
  {
   "cell_type": "markdown",
   "id": "9d5d764f-800a-4f72-a57c-4191a9091d1a",
   "metadata": {
    "tags": []
   },
   "source": [
    "To export it as interactive map"
   ]
  },
  {
   "cell_type": "code",
   "execution_count": 75,
   "id": "7d9d1631-d8b3-4fe5-99ec-cb8ee93cce9d",
   "metadata": {
    "jupyter": {
     "source_hidden": true
    },
    "tags": []
   },
   "outputs": [],
   "source": [
    "import plotly.express as px\n",
    "\n",
    "fig = go.Figure(data = [data],layout = layout)\n",
    "fig.write_html(\"2015 Shortages and Surpluses of Skills.html\")"
   ]
  },
  {
   "cell_type": "markdown",
   "id": "5ecbb2fc-bcf2-4d0b-a5fa-3ea7828adbd1",
   "metadata": {},
   "source": [
    "## Europe Regional Visualization (Interactive Map)"
   ]
  },
  {
   "cell_type": "code",
   "execution_count": 68,
   "id": "a27d5f26-fe12-45f9-806a-bff3c7c452ca",
   "metadata": {},
   "outputs": [],
   "source": [
    "layout2 = dict(\n",
    "    title = '2015 Shortages and Surpluses of Skills - Europe',\n",
    "    geo = dict(\n",
    "        showcountries= False,\n",
    "        showframe = False,\n",
    "        resolution = 110,\n",
    "        projection = {'type':'miller'},\n",
    "        scope = 'europe'\n",
    "        \n",
    "        \n",
    "    )\n",
    ")"
   ]
  },
  {
   "cell_type": "code",
   "execution_count": 69,
   "id": "b3d9b21b-079a-47cd-aaba-7f1c15e997db",
   "metadata": {},
   "outputs": [
    {
     "data": {
      "application/vnd.plotly.v1+json": {
       "config": {
        "linkText": "Export to plot.ly",
        "plotlyServerURL": "https://plot.ly",
        "showLink": false
       },
       "data": [
        {
         "colorbar": {
          "title": {
           "text": "Value"
          }
         },
         "colorscale": [
          [
           0,
           "green"
          ],
          [
           0.2,
           "blue"
          ],
          [
           0.4,
           "pink"
          ],
          [
           0.6,
           "yellow"
          ],
          [
           0.8,
           "red"
          ],
          [
           1,
           "black"
          ]
         ],
         "locations": [
          "PER",
          "MEX",
          "MYS",
          "POL",
          "CYP",
          "EST",
          "SVN",
          "BRA",
          "HUN",
          "USA",
          "TUR",
          "CHL",
          "BEL",
          "CAN",
          "DEU",
          "NOR",
          "LVA",
          "ARG",
          "GBR",
          "AUT",
          "LTU",
          "ROU",
          "CHE",
          "LUX",
          "FRA",
          "OECD",
          "EU",
          "SVK",
          "SWE",
          "PRT",
          "CZE",
          "DNK",
          "ITA",
          "GRC",
          "ESP",
          "AUS",
          "NLD",
          "BGR",
          "ISL",
          "NZL",
          "FIN",
          "IRL",
          "ZAF"
         ],
         "text": [
          "Peru",
          "Mexico",
          "Malaysia",
          "Poland",
          "Cyprus",
          "Estonia",
          "Slovenia",
          "Brazil",
          "Hungary",
          "United States",
          "Turkey",
          "Chile",
          "Belgium",
          "Canada",
          "Germany",
          "Norway",
          "Latvia",
          "Argentina",
          "United Kingdom",
          "Austria",
          "Lithuania",
          "Romania",
          "Switzerland",
          "Luxembourg",
          "France",
          "OECD - Total",
          "European Union",
          "Slovak Republic",
          "Sweden",
          "Portugal",
          "Czech Republic",
          "Denmark",
          "Italy",
          "Greece",
          "Spain",
          "Australia",
          "Netherlands",
          "Bulgaria",
          "Iceland",
          "New Zealand",
          "Finland",
          "Ireland",
          "South Africa"
         ],
         "type": "choropleth",
         "z": [
          -0.1932126436781609,
          -0.010793103448275861,
          -0.005835526315789474,
          -0.0007643678160919541,
          0.0053563218390804595,
          0.0055,
          0.008505747126436782,
          0.01724712643678161,
          0.03448850574712644,
          0.03512068965517241,
          0.04459195402298851,
          0.048454022988505756,
          0.05351149425287356,
          0.0555,
          0.061839080459770115,
          0.06252873563218392,
          0.06263793103448276,
          0.06465517241379311,
          0.0655,
          0.0673103448275862,
          0.06852873563218391,
          0.07386781609195402,
          0.07486206896551724,
          0.0769712643678161,
          0.0845632183908046,
          0.0873103448275862,
          0.09013793103448275,
          0.09736206896551723,
          0.10054597701149426,
          0.10610919540229885,
          0.11558045977011494,
          0.11865517241379311,
          0.13372988505747124,
          0.13536206896551725,
          0.13593103448275862,
          0.14114942528735633,
          0.15054597701149425,
          0.15526436781609193,
          0.15571264367816093,
          0.1650689655172414,
          0.18470689655172415,
          0.24173563218390803,
          0.3235862068965517
         ]
        }
       ],
       "layout": {
        "autosize": true,
        "geo": {
         "center": {
          "lat": 59.474948253034206,
          "lon": 16.663847414982218
         },
         "projection": {
          "scale": 1.0000000000000002,
          "type": "miller"
         },
         "resolution": 110,
         "scope": "europe",
         "showcountries": false,
         "showframe": false
        },
        "template": {
         "data": {
          "bar": [
           {
            "error_x": {
             "color": "#2a3f5f"
            },
            "error_y": {
             "color": "#2a3f5f"
            },
            "marker": {
             "line": {
              "color": "#E5ECF6",
              "width": 0.5
             },
             "pattern": {
              "fillmode": "overlay",
              "size": 10,
              "solidity": 0.2
             }
            },
            "type": "bar"
           }
          ],
          "barpolar": [
           {
            "marker": {
             "line": {
              "color": "#E5ECF6",
              "width": 0.5
             },
             "pattern": {
              "fillmode": "overlay",
              "size": 10,
              "solidity": 0.2
             }
            },
            "type": "barpolar"
           }
          ],
          "carpet": [
           {
            "aaxis": {
             "endlinecolor": "#2a3f5f",
             "gridcolor": "white",
             "linecolor": "white",
             "minorgridcolor": "white",
             "startlinecolor": "#2a3f5f"
            },
            "baxis": {
             "endlinecolor": "#2a3f5f",
             "gridcolor": "white",
             "linecolor": "white",
             "minorgridcolor": "white",
             "startlinecolor": "#2a3f5f"
            },
            "type": "carpet"
           }
          ],
          "choropleth": [
           {
            "colorbar": {
             "outlinewidth": 0,
             "ticks": ""
            },
            "type": "choropleth"
           }
          ],
          "contour": [
           {
            "colorbar": {
             "outlinewidth": 0,
             "ticks": ""
            },
            "colorscale": [
             [
              0,
              "#0d0887"
             ],
             [
              0.1111111111111111,
              "#46039f"
             ],
             [
              0.2222222222222222,
              "#7201a8"
             ],
             [
              0.3333333333333333,
              "#9c179e"
             ],
             [
              0.4444444444444444,
              "#bd3786"
             ],
             [
              0.5555555555555556,
              "#d8576b"
             ],
             [
              0.6666666666666666,
              "#ed7953"
             ],
             [
              0.7777777777777778,
              "#fb9f3a"
             ],
             [
              0.8888888888888888,
              "#fdca26"
             ],
             [
              1,
              "#f0f921"
             ]
            ],
            "type": "contour"
           }
          ],
          "contourcarpet": [
           {
            "colorbar": {
             "outlinewidth": 0,
             "ticks": ""
            },
            "type": "contourcarpet"
           }
          ],
          "heatmap": [
           {
            "colorbar": {
             "outlinewidth": 0,
             "ticks": ""
            },
            "colorscale": [
             [
              0,
              "#0d0887"
             ],
             [
              0.1111111111111111,
              "#46039f"
             ],
             [
              0.2222222222222222,
              "#7201a8"
             ],
             [
              0.3333333333333333,
              "#9c179e"
             ],
             [
              0.4444444444444444,
              "#bd3786"
             ],
             [
              0.5555555555555556,
              "#d8576b"
             ],
             [
              0.6666666666666666,
              "#ed7953"
             ],
             [
              0.7777777777777778,
              "#fb9f3a"
             ],
             [
              0.8888888888888888,
              "#fdca26"
             ],
             [
              1,
              "#f0f921"
             ]
            ],
            "type": "heatmap"
           }
          ],
          "heatmapgl": [
           {
            "colorbar": {
             "outlinewidth": 0,
             "ticks": ""
            },
            "colorscale": [
             [
              0,
              "#0d0887"
             ],
             [
              0.1111111111111111,
              "#46039f"
             ],
             [
              0.2222222222222222,
              "#7201a8"
             ],
             [
              0.3333333333333333,
              "#9c179e"
             ],
             [
              0.4444444444444444,
              "#bd3786"
             ],
             [
              0.5555555555555556,
              "#d8576b"
             ],
             [
              0.6666666666666666,
              "#ed7953"
             ],
             [
              0.7777777777777778,
              "#fb9f3a"
             ],
             [
              0.8888888888888888,
              "#fdca26"
             ],
             [
              1,
              "#f0f921"
             ]
            ],
            "type": "heatmapgl"
           }
          ],
          "histogram": [
           {
            "marker": {
             "pattern": {
              "fillmode": "overlay",
              "size": 10,
              "solidity": 0.2
             }
            },
            "type": "histogram"
           }
          ],
          "histogram2d": [
           {
            "colorbar": {
             "outlinewidth": 0,
             "ticks": ""
            },
            "colorscale": [
             [
              0,
              "#0d0887"
             ],
             [
              0.1111111111111111,
              "#46039f"
             ],
             [
              0.2222222222222222,
              "#7201a8"
             ],
             [
              0.3333333333333333,
              "#9c179e"
             ],
             [
              0.4444444444444444,
              "#bd3786"
             ],
             [
              0.5555555555555556,
              "#d8576b"
             ],
             [
              0.6666666666666666,
              "#ed7953"
             ],
             [
              0.7777777777777778,
              "#fb9f3a"
             ],
             [
              0.8888888888888888,
              "#fdca26"
             ],
             [
              1,
              "#f0f921"
             ]
            ],
            "type": "histogram2d"
           }
          ],
          "histogram2dcontour": [
           {
            "colorbar": {
             "outlinewidth": 0,
             "ticks": ""
            },
            "colorscale": [
             [
              0,
              "#0d0887"
             ],
             [
              0.1111111111111111,
              "#46039f"
             ],
             [
              0.2222222222222222,
              "#7201a8"
             ],
             [
              0.3333333333333333,
              "#9c179e"
             ],
             [
              0.4444444444444444,
              "#bd3786"
             ],
             [
              0.5555555555555556,
              "#d8576b"
             ],
             [
              0.6666666666666666,
              "#ed7953"
             ],
             [
              0.7777777777777778,
              "#fb9f3a"
             ],
             [
              0.8888888888888888,
              "#fdca26"
             ],
             [
              1,
              "#f0f921"
             ]
            ],
            "type": "histogram2dcontour"
           }
          ],
          "mesh3d": [
           {
            "colorbar": {
             "outlinewidth": 0,
             "ticks": ""
            },
            "type": "mesh3d"
           }
          ],
          "parcoords": [
           {
            "line": {
             "colorbar": {
              "outlinewidth": 0,
              "ticks": ""
             }
            },
            "type": "parcoords"
           }
          ],
          "pie": [
           {
            "automargin": true,
            "type": "pie"
           }
          ],
          "scatter": [
           {
            "fillpattern": {
             "fillmode": "overlay",
             "size": 10,
             "solidity": 0.2
            },
            "type": "scatter"
           }
          ],
          "scatter3d": [
           {
            "line": {
             "colorbar": {
              "outlinewidth": 0,
              "ticks": ""
             }
            },
            "marker": {
             "colorbar": {
              "outlinewidth": 0,
              "ticks": ""
             }
            },
            "type": "scatter3d"
           }
          ],
          "scattercarpet": [
           {
            "marker": {
             "colorbar": {
              "outlinewidth": 0,
              "ticks": ""
             }
            },
            "type": "scattercarpet"
           }
          ],
          "scattergeo": [
           {
            "marker": {
             "colorbar": {
              "outlinewidth": 0,
              "ticks": ""
             }
            },
            "type": "scattergeo"
           }
          ],
          "scattergl": [
           {
            "marker": {
             "colorbar": {
              "outlinewidth": 0,
              "ticks": ""
             }
            },
            "type": "scattergl"
           }
          ],
          "scattermapbox": [
           {
            "marker": {
             "colorbar": {
              "outlinewidth": 0,
              "ticks": ""
             }
            },
            "type": "scattermapbox"
           }
          ],
          "scatterpolar": [
           {
            "marker": {
             "colorbar": {
              "outlinewidth": 0,
              "ticks": ""
             }
            },
            "type": "scatterpolar"
           }
          ],
          "scatterpolargl": [
           {
            "marker": {
             "colorbar": {
              "outlinewidth": 0,
              "ticks": ""
             }
            },
            "type": "scatterpolargl"
           }
          ],
          "scatterternary": [
           {
            "marker": {
             "colorbar": {
              "outlinewidth": 0,
              "ticks": ""
             }
            },
            "type": "scatterternary"
           }
          ],
          "surface": [
           {
            "colorbar": {
             "outlinewidth": 0,
             "ticks": ""
            },
            "colorscale": [
             [
              0,
              "#0d0887"
             ],
             [
              0.1111111111111111,
              "#46039f"
             ],
             [
              0.2222222222222222,
              "#7201a8"
             ],
             [
              0.3333333333333333,
              "#9c179e"
             ],
             [
              0.4444444444444444,
              "#bd3786"
             ],
             [
              0.5555555555555556,
              "#d8576b"
             ],
             [
              0.6666666666666666,
              "#ed7953"
             ],
             [
              0.7777777777777778,
              "#fb9f3a"
             ],
             [
              0.8888888888888888,
              "#fdca26"
             ],
             [
              1,
              "#f0f921"
             ]
            ],
            "type": "surface"
           }
          ],
          "table": [
           {
            "cells": {
             "fill": {
              "color": "#EBF0F8"
             },
             "line": {
              "color": "white"
             }
            },
            "header": {
             "fill": {
              "color": "#C8D4E3"
             },
             "line": {
              "color": "white"
             }
            },
            "type": "table"
           }
          ]
         },
         "layout": {
          "annotationdefaults": {
           "arrowcolor": "#2a3f5f",
           "arrowhead": 0,
           "arrowwidth": 1
          },
          "autotypenumbers": "strict",
          "coloraxis": {
           "colorbar": {
            "outlinewidth": 0,
            "ticks": ""
           }
          },
          "colorscale": {
           "diverging": [
            [
             0,
             "#8e0152"
            ],
            [
             0.1,
             "#c51b7d"
            ],
            [
             0.2,
             "#de77ae"
            ],
            [
             0.3,
             "#f1b6da"
            ],
            [
             0.4,
             "#fde0ef"
            ],
            [
             0.5,
             "#f7f7f7"
            ],
            [
             0.6,
             "#e6f5d0"
            ],
            [
             0.7,
             "#b8e186"
            ],
            [
             0.8,
             "#7fbc41"
            ],
            [
             0.9,
             "#4d9221"
            ],
            [
             1,
             "#276419"
            ]
           ],
           "sequential": [
            [
             0,
             "#0d0887"
            ],
            [
             0.1111111111111111,
             "#46039f"
            ],
            [
             0.2222222222222222,
             "#7201a8"
            ],
            [
             0.3333333333333333,
             "#9c179e"
            ],
            [
             0.4444444444444444,
             "#bd3786"
            ],
            [
             0.5555555555555556,
             "#d8576b"
            ],
            [
             0.6666666666666666,
             "#ed7953"
            ],
            [
             0.7777777777777778,
             "#fb9f3a"
            ],
            [
             0.8888888888888888,
             "#fdca26"
            ],
            [
             1,
             "#f0f921"
            ]
           ],
           "sequentialminus": [
            [
             0,
             "#0d0887"
            ],
            [
             0.1111111111111111,
             "#46039f"
            ],
            [
             0.2222222222222222,
             "#7201a8"
            ],
            [
             0.3333333333333333,
             "#9c179e"
            ],
            [
             0.4444444444444444,
             "#bd3786"
            ],
            [
             0.5555555555555556,
             "#d8576b"
            ],
            [
             0.6666666666666666,
             "#ed7953"
            ],
            [
             0.7777777777777778,
             "#fb9f3a"
            ],
            [
             0.8888888888888888,
             "#fdca26"
            ],
            [
             1,
             "#f0f921"
            ]
           ]
          },
          "colorway": [
           "#636efa",
           "#EF553B",
           "#00cc96",
           "#ab63fa",
           "#FFA15A",
           "#19d3f3",
           "#FF6692",
           "#B6E880",
           "#FF97FF",
           "#FECB52"
          ],
          "font": {
           "color": "#2a3f5f"
          },
          "geo": {
           "bgcolor": "white",
           "lakecolor": "white",
           "landcolor": "#E5ECF6",
           "showlakes": true,
           "showland": true,
           "subunitcolor": "white"
          },
          "hoverlabel": {
           "align": "left"
          },
          "hovermode": "closest",
          "mapbox": {
           "style": "light"
          },
          "paper_bgcolor": "white",
          "plot_bgcolor": "#E5ECF6",
          "polar": {
           "angularaxis": {
            "gridcolor": "white",
            "linecolor": "white",
            "ticks": ""
           },
           "bgcolor": "#E5ECF6",
           "radialaxis": {
            "gridcolor": "white",
            "linecolor": "white",
            "ticks": ""
           }
          },
          "scene": {
           "xaxis": {
            "backgroundcolor": "#E5ECF6",
            "gridcolor": "white",
            "gridwidth": 2,
            "linecolor": "white",
            "showbackground": true,
            "ticks": "",
            "zerolinecolor": "white"
           },
           "yaxis": {
            "backgroundcolor": "#E5ECF6",
            "gridcolor": "white",
            "gridwidth": 2,
            "linecolor": "white",
            "showbackground": true,
            "ticks": "",
            "zerolinecolor": "white"
           },
           "zaxis": {
            "backgroundcolor": "#E5ECF6",
            "gridcolor": "white",
            "gridwidth": 2,
            "linecolor": "white",
            "showbackground": true,
            "ticks": "",
            "zerolinecolor": "white"
           }
          },
          "shapedefaults": {
           "line": {
            "color": "#2a3f5f"
           }
          },
          "ternary": {
           "aaxis": {
            "gridcolor": "white",
            "linecolor": "white",
            "ticks": ""
           },
           "baxis": {
            "gridcolor": "white",
            "linecolor": "white",
            "ticks": ""
           },
           "bgcolor": "#E5ECF6",
           "caxis": {
            "gridcolor": "white",
            "linecolor": "white",
            "ticks": ""
           }
          },
          "title": {
           "x": 0.05
          },
          "xaxis": {
           "automargin": true,
           "gridcolor": "white",
           "linecolor": "white",
           "ticks": "",
           "title": {
            "standoff": 15
           },
           "zerolinecolor": "white",
           "zerolinewidth": 2
          },
          "yaxis": {
           "automargin": true,
           "gridcolor": "white",
           "linecolor": "white",
           "ticks": "",
           "title": {
            "standoff": 15
           },
           "zerolinecolor": "white",
           "zerolinewidth": 2
          }
         }
        },
        "title": {
         "text": "2015 Shortages and Surpluses of Skills - Europe"
        }
       }
      },
      "image/png": "[encoded data removed]",
      "text/html": [
       "<div>                            <div id=\"2b79d503-c92d-478f-8765-904caff53689\" class=\"plotly-graph-div\" style=\"height:525px; width:100%;\"></div>            <script type=\"text/javascript\">                require([\"plotly\"], function(Plotly) {                    window.PLOTLYENV=window.PLOTLYENV || {};                                    if (document.getElementById(\"2b79d503-c92d-478f-8765-904caff53689\")) {                    Plotly.newPlot(                        \"2b79d503-c92d-478f-8765-904caff53689\",                        [{\"colorbar\":{\"title\":{\"text\":\"Value\"}},\"colorscale\":[[0.0,\"green\"],[0.2,\"blue\"],[0.4,\"pink\"],[0.6,\"yellow\"],[0.8,\"red\"],[1.0,\"black\"]],\"locations\":[\"PER\",\"MEX\",\"MYS\",\"POL\",\"CYP\",\"EST\",\"SVN\",\"BRA\",\"HUN\",\"USA\",\"TUR\",\"CHL\",\"BEL\",\"CAN\",\"DEU\",\"NOR\",\"LVA\",\"ARG\",\"GBR\",\"AUT\",\"LTU\",\"ROU\",\"CHE\",\"LUX\",\"FRA\",\"OECD\",\"EU\",\"SVK\",\"SWE\",\"PRT\",\"CZE\",\"DNK\",\"ITA\",\"GRC\",\"ESP\",\"AUS\",\"NLD\",\"BGR\",\"ISL\",\"NZL\",\"FIN\",\"IRL\",\"ZAF\"],\"text\":[\"Peru\",\"Mexico\",\"Malaysia\",\"Poland\",\"Cyprus\",\"Estonia\",\"Slovenia\",\"Brazil\",\"Hungary\",\"United States\",\"Turkey\",\"Chile\",\"Belgium\",\"Canada\",\"Germany\",\"Norway\",\"Latvia\",\"Argentina\",\"United Kingdom\",\"Austria\",\"Lithuania\",\"Romania\",\"Switzerland\",\"Luxembourg\",\"France\",\"OECD - Total\",\"European Union\",\"Slovak Republic\",\"Sweden\",\"Portugal\",\"Czech Republic\",\"Denmark\",\"Italy\",\"Greece\",\"Spain\",\"Australia\",\"Netherlands\",\"Bulgaria\",\"Iceland\",\"New Zealand\",\"Finland\",\"Ireland\",\"South Africa\"],\"z\":[-0.1932126436781609,-0.010793103448275861,-0.005835526315789474,-0.0007643678160919541,0.0053563218390804595,0.0055,0.008505747126436782,0.01724712643678161,0.03448850574712644,0.03512068965517241,0.04459195402298851,0.048454022988505756,0.05351149425287356,0.0555,0.061839080459770115,0.06252873563218392,0.06263793103448276,0.06465517241379311,0.0655,0.0673103448275862,0.06852873563218391,0.07386781609195402,0.07486206896551724,0.0769712643678161,0.0845632183908046,0.0873103448275862,0.09013793103448275,0.09736206896551723,0.10054597701149426,0.10610919540229885,0.11558045977011494,0.11865517241379311,0.13372988505747124,0.13536206896551725,0.13593103448275862,0.14114942528735633,0.15054597701149425,0.15526436781609193,0.15571264367816093,0.1650689655172414,0.18470689655172415,0.24173563218390803,0.3235862068965517],\"type\":\"choropleth\"}],                        {\"geo\":{\"projection\":{\"type\":\"miller\"},\"resolution\":110,\"scope\":\"europe\",\"showcountries\":false,\"showframe\":false},\"template\":{\"data\":{\"barpolar\":[{\"marker\":{\"line\":{\"color\":\"#E5ECF6\",\"width\":0.5},\"pattern\":{\"fillmode\":\"overlay\",\"size\":10,\"solidity\":0.2}},\"type\":\"barpolar\"}],\"bar\":[{\"error_x\":{\"color\":\"#2a3f5f\"},\"error_y\":{\"color\":\"#2a3f5f\"},\"marker\":{\"line\":{\"color\":\"#E5ECF6\",\"width\":0.5},\"pattern\":{\"fillmode\":\"overlay\",\"size\":10,\"solidity\":0.2}},\"type\":\"bar\"}],\"carpet\":[{\"aaxis\":{\"endlinecolor\":\"#2a3f5f\",\"gridcolor\":\"white\",\"linecolor\":\"white\",\"minorgridcolor\":\"white\",\"startlinecolor\":\"#2a3f5f\"},\"baxis\":{\"endlinecolor\":\"#2a3f5f\",\"gridcolor\":\"white\",\"linecolor\":\"white\",\"minorgridcolor\":\"white\",\"startlinecolor\":\"#2a3f5f\"},\"type\":\"carpet\"}],\"choropleth\":[{\"colorbar\":{\"outlinewidth\":0,\"ticks\":\"\"},\"type\":\"choropleth\"}],\"contourcarpet\":[{\"colorbar\":{\"outlinewidth\":0,\"ticks\":\"\"},\"type\":\"contourcarpet\"}],\"contour\":[{\"colorbar\":{\"outlinewidth\":0,\"ticks\":\"\"},\"colorscale\":[[0.0,\"#0d0887\"],[0.1111111111111111,\"#46039f\"],[0.2222222222222222,\"#7201a8\"],[0.3333333333333333,\"#9c179e\"],[0.4444444444444444,\"#bd3786\"],[0.5555555555555556,\"#d8576b\"],[0.6666666666666666,\"#ed7953\"],[0.7777777777777778,\"#fb9f3a\"],[0.8888888888888888,\"#fdca26\"],[1.0,\"#f0f921\"]],\"type\":\"contour\"}],\"heatmapgl\":[{\"colorbar\":{\"outlinewidth\":0,\"ticks\":\"\"},\"colorscale\":[[0.0,\"#0d0887\"],[0.1111111111111111,\"#46039f\"],[0.2222222222222222,\"#7201a8\"],[0.3333333333333333,\"#9c179e\"],[0.4444444444444444,\"#bd3786\"],[0.5555555555555556,\"#d8576b\"],[0.6666666666666666,\"#ed7953\"],[0.7777777777777778,\"#fb9f3a\"],[0.8888888888888888,\"#fdca26\"],[1.0,\"#f0f921\"]],\"type\":\"heatmapgl\"}],\"heatmap\":[{\"colorbar\":{\"outlinewidth\":0,\"ticks\":\"\"},\"colorscale\":[[0.0,\"#0d0887\"],[0.1111111111111111,\"#46039f\"],[0.2222222222222222,\"#7201a8\"],[0.3333333333333333,\"#9c179e\"],[0.4444444444444444,\"#bd3786\"],[0.5555555555555556,\"#d8576b\"],[0.6666666666666666,\"#ed7953\"],[0.7777777777777778,\"#fb9f3a\"],[0.8888888888888888,\"#fdca26\"],[1.0,\"#f0f921\"]],\"type\":\"heatmap\"}],\"histogram2dcontour\":[{\"colorbar\":{\"outlinewidth\":0,\"ticks\":\"\"},\"colorscale\":[[0.0,\"#0d0887\"],[0.1111111111111111,\"#46039f\"],[0.2222222222222222,\"#7201a8\"],[0.3333333333333333,\"#9c179e\"],[0.4444444444444444,\"#bd3786\"],[0.5555555555555556,\"#d8576b\"],[0.6666666666666666,\"#ed7953\"],[0.7777777777777778,\"#fb9f3a\"],[0.8888888888888888,\"#fdca26\"],[1.0,\"#f0f921\"]],\"type\":\"histogram2dcontour\"}],\"histogram2d\":[{\"colorbar\":{\"outlinewidth\":0,\"ticks\":\"\"},\"colorscale\":[[0.0,\"#0d0887\"],[0.1111111111111111,\"#46039f\"],[0.2222222222222222,\"#7201a8\"],[0.3333333333333333,\"#9c179e\"],[0.4444444444444444,\"#bd3786\"],[0.5555555555555556,\"#d8576b\"],[0.6666666666666666,\"#ed7953\"],[0.7777777777777778,\"#fb9f3a\"],[0.8888888888888888,\"#fdca26\"],[1.0,\"#f0f921\"]],\"type\":\"histogram2d\"}],\"histogram\":[{\"marker\":{\"pattern\":{\"fillmode\":\"overlay\",\"size\":10,\"solidity\":0.2}},\"type\":\"histogram\"}],\"mesh3d\":[{\"colorbar\":{\"outlinewidth\":0,\"ticks\":\"\"},\"type\":\"mesh3d\"}],\"parcoords\":[{\"line\":{\"colorbar\":{\"outlinewidth\":0,\"ticks\":\"\"}},\"type\":\"parcoords\"}],\"pie\":[{\"automargin\":true,\"type\":\"pie\"}],\"scatter3d\":[{\"line\":{\"colorbar\":{\"outlinewidth\":0,\"ticks\":\"\"}},\"marker\":{\"colorbar\":{\"outlinewidth\":0,\"ticks\":\"\"}},\"type\":\"scatter3d\"}],\"scattercarpet\":[{\"marker\":{\"colorbar\":{\"outlinewidth\":0,\"ticks\":\"\"}},\"type\":\"scattercarpet\"}],\"scattergeo\":[{\"marker\":{\"colorbar\":{\"outlinewidth\":0,\"ticks\":\"\"}},\"type\":\"scattergeo\"}],\"scattergl\":[{\"marker\":{\"colorbar\":{\"outlinewidth\":0,\"ticks\":\"\"}},\"type\":\"scattergl\"}],\"scattermapbox\":[{\"marker\":{\"colorbar\":{\"outlinewidth\":0,\"ticks\":\"\"}},\"type\":\"scattermapbox\"}],\"scatterpolargl\":[{\"marker\":{\"colorbar\":{\"outlinewidth\":0,\"ticks\":\"\"}},\"type\":\"scatterpolargl\"}],\"scatterpolar\":[{\"marker\":{\"colorbar\":{\"outlinewidth\":0,\"ticks\":\"\"}},\"type\":\"scatterpolar\"}],\"scatter\":[{\"fillpattern\":{\"fillmode\":\"overlay\",\"size\":10,\"solidity\":0.2},\"type\":\"scatter\"}],\"scatterternary\":[{\"marker\":{\"colorbar\":{\"outlinewidth\":0,\"ticks\":\"\"}},\"type\":\"scatterternary\"}],\"surface\":[{\"colorbar\":{\"outlinewidth\":0,\"ticks\":\"\"},\"colorscale\":[[0.0,\"#0d0887\"],[0.1111111111111111,\"#46039f\"],[0.2222222222222222,\"#7201a8\"],[0.3333333333333333,\"#9c179e\"],[0.4444444444444444,\"#bd3786\"],[0.5555555555555556,\"#d8576b\"],[0.6666666666666666,\"#ed7953\"],[0.7777777777777778,\"#fb9f3a\"],[0.8888888888888888,\"#fdca26\"],[1.0,\"#f0f921\"]],\"type\":\"surface\"}],\"table\":[{\"cells\":{\"fill\":{\"color\":\"#EBF0F8\"},\"line\":{\"color\":\"white\"}},\"header\":{\"fill\":{\"color\":\"#C8D4E3\"},\"line\":{\"color\":\"white\"}},\"type\":\"table\"}]},\"layout\":{\"annotationdefaults\":{\"arrowcolor\":\"#2a3f5f\",\"arrowhead\":0,\"arrowwidth\":1},\"autotypenumbers\":\"strict\",\"coloraxis\":{\"colorbar\":{\"outlinewidth\":0,\"ticks\":\"\"}},\"colorscale\":{\"diverging\":[[0,\"#8e0152\"],[0.1,\"#c51b7d\"],[0.2,\"#de77ae\"],[0.3,\"#f1b6da\"],[0.4,\"#fde0ef\"],[0.5,\"#f7f7f7\"],[0.6,\"#e6f5d0\"],[0.7,\"#b8e186\"],[0.8,\"#7fbc41\"],[0.9,\"#4d9221\"],[1,\"#276419\"]],\"sequential\":[[0.0,\"#0d0887\"],[0.1111111111111111,\"#46039f\"],[0.2222222222222222,\"#7201a8\"],[0.3333333333333333,\"#9c179e\"],[0.4444444444444444,\"#bd3786\"],[0.5555555555555556,\"#d8576b\"],[0.6666666666666666,\"#ed7953\"],[0.7777777777777778,\"#fb9f3a\"],[0.8888888888888888,\"#fdca26\"],[1.0,\"#f0f921\"]],\"sequentialminus\":[[0.0,\"#0d0887\"],[0.1111111111111111,\"#46039f\"],[0.2222222222222222,\"#7201a8\"],[0.3333333333333333,\"#9c179e\"],[0.4444444444444444,\"#bd3786\"],[0.5555555555555556,\"#d8576b\"],[0.6666666666666666,\"#ed7953\"],[0.7777777777777778,\"#fb9f3a\"],[0.8888888888888888,\"#fdca26\"],[1.0,\"#f0f921\"]]},\"colorway\":[\"#636efa\",\"#EF553B\",\"#00cc96\",\"#ab63fa\",\"#FFA15A\",\"#19d3f3\",\"#FF6692\",\"#B6E880\",\"#FF97FF\",\"#FECB52\"],\"font\":{\"color\":\"#2a3f5f\"},\"geo\":{\"bgcolor\":\"white\",\"lakecolor\":\"white\",\"landcolor\":\"#E5ECF6\",\"showlakes\":true,\"showland\":true,\"subunitcolor\":\"white\"},\"hoverlabel\":{\"align\":\"left\"},\"hovermode\":\"closest\",\"mapbox\":{\"style\":\"light\"},\"paper_bgcolor\":\"white\",\"plot_bgcolor\":\"#E5ECF6\",\"polar\":{\"angularaxis\":{\"gridcolor\":\"white\",\"linecolor\":\"white\",\"ticks\":\"\"},\"bgcolor\":\"#E5ECF6\",\"radialaxis\":{\"gridcolor\":\"white\",\"linecolor\":\"white\",\"ticks\":\"\"}},\"scene\":{\"xaxis\":{\"backgroundcolor\":\"#E5ECF6\",\"gridcolor\":\"white\",\"gridwidth\":2,\"linecolor\":\"white\",\"showbackground\":true,\"ticks\":\"\",\"zerolinecolor\":\"white\"},\"yaxis\":{\"backgroundcolor\":\"#E5ECF6\",\"gridcolor\":\"white\",\"gridwidth\":2,\"linecolor\":\"white\",\"showbackground\":true,\"ticks\":\"\",\"zerolinecolor\":\"white\"},\"zaxis\":{\"backgroundcolor\":\"#E5ECF6\",\"gridcolor\":\"white\",\"gridwidth\":2,\"linecolor\":\"white\",\"showbackground\":true,\"ticks\":\"\",\"zerolinecolor\":\"white\"}},\"shapedefaults\":{\"line\":{\"color\":\"#2a3f5f\"}},\"ternary\":{\"aaxis\":{\"gridcolor\":\"white\",\"linecolor\":\"white\",\"ticks\":\"\"},\"baxis\":{\"gridcolor\":\"white\",\"linecolor\":\"white\",\"ticks\":\"\"},\"bgcolor\":\"#E5ECF6\",\"caxis\":{\"gridcolor\":\"white\",\"linecolor\":\"white\",\"ticks\":\"\"}},\"title\":{\"x\":0.05},\"xaxis\":{\"automargin\":true,\"gridcolor\":\"white\",\"linecolor\":\"white\",\"ticks\":\"\",\"title\":{\"standoff\":15},\"zerolinecolor\":\"white\",\"zerolinewidth\":2},\"yaxis\":{\"automargin\":true,\"gridcolor\":\"white\",\"linecolor\":\"white\",\"ticks\":\"\",\"title\":{\"standoff\":15},\"zerolinecolor\":\"white\",\"zerolinewidth\":2}}},\"title\":{\"text\":\"2015 Shortages and Surpluses of Skills - Europe\"}},                        {\"responsive\": true}                    ).then(function(){\n",
       "                            \n",
       "var gd = document.getElementById('2b79d503-c92d-478f-8765-904caff53689');\n",
       "var x = new MutationObserver(function (mutations, observer) {{\n",
       "        var display = window.getComputedStyle(gd).display;\n",
       "        if (!display || display === 'none') {{\n",
       "            console.log([gd, 'removed!']);\n",
       "            Plotly.purge(gd);\n",
       "            observer.disconnect();\n",
       "        }}\n",
       "}});\n",
       "\n",
       "// Listen for the removal of the full notebook cells\n",
       "var notebookContainer = gd.closest('#notebook-container');\n",
       "if (notebookContainer) {{\n",
       "    x.observe(notebookContainer, {childList: true});\n",
       "}}\n",
       "\n",
       "// Listen for the clearing of the current output cell\n",
       "var outputEl = gd.closest('.output');\n",
       "if (outputEl) {{\n",
       "    x.observe(outputEl, {childList: true});\n",
       "}}\n",
       "\n",
       "                        })                };                });            </script>        </div>"
      ]
     },
     "metadata": {},
     "output_type": "display_data"
    }
   ],
   "source": [
    "choromap = go.Figure(data = [data],layout = layout2)\n",
    "iplot(choromap)"
   ]
  },
  {
   "cell_type": "code",
   "execution_count": 76,
   "id": "fbdb1abb-464b-4879-a3e0-7740507a883c",
   "metadata": {
    "jupyter": {
     "source_hidden": true
    },
    "tags": []
   },
   "outputs": [],
   "source": [
    "fig = go.Figure(data = [data],layout = layout2)\n",
    "fig.write_html(\"2015 Shortages and Surpluses of Skills - Europe.html\")"
   ]
  },
  {
   "cell_type": "markdown",
   "id": "e81da1c5-d811-441d-a7eb-43f29ce228b2",
   "metadata": {},
   "source": [
    "## Scatter Plot Distribution of Values"
   ]
  },
  {
   "cell_type": "code",
   "execution_count": 44,
   "id": "30f0a12c-bbae-415d-9942-871af6bff0ec",
   "metadata": {},
   "outputs": [],
   "source": [
    "import seaborn as sns"
   ]
  },
  {
   "cell_type": "code",
   "execution_count": 72,
   "id": "87cc24d9-131d-43e2-b2a5-f0c7d1438572",
   "metadata": {},
   "outputs": [
    {
     "data": {
      "text/plain": [
       "<AxesSubplot:title={'center':'2015 Shortages and Surpluses of Skills'}, xlabel='Countries', ylabel='Scores'>"
      ]
     },
     "execution_count": 72,
     "metadata": {},
     "output_type": "execute_result"
    },
    {
     "data": {
      "image/png": "[encoded data removed]",
      "text/plain": [
       "<Figure size 1440x720 with 1 Axes>"
      ]
     },
     "metadata": {},
     "output_type": "display_data"
    }
   ],
   "source": [
    "fig =sns.scatterplot(data = df, x = df.index, y = df['Value'])\n",
    "fig.set_xlabel(\"Countries\")\n",
    "fig.set_ylabel(\"Scores\")\n",
    "fig.set_title('2015 Shortages and Surpluses of Skills')\n",
    "\n",
    "\n",
    "fig"
   ]
  },
  {
   "cell_type": "markdown",
   "id": "26b4a0a4-d5b6-41fa-9f41-cb8b015788ca",
   "metadata": {},
   "source": [
    "## Box Plot Distribution of Values"
   ]
  },
  {
   "cell_type": "code",
   "execution_count": 46,
   "id": "b8077765-5bb1-4cf8-bafd-c567ef5a3648",
   "metadata": {},
   "outputs": [
    {
     "data": {
      "text/plain": [
       "<AxesSubplot:xlabel='Value'>"
      ]
     },
     "execution_count": 46,
     "metadata": {},
     "output_type": "execute_result"
    },
    {
     "data": {
      "image/png": "[encoded data removed]",
      "text/plain": [
       "<Figure size 432x288 with 1 Axes>"
      ]
     },
     "metadata": {
      "needs_background": "light"
     },
     "output_type": "display_data"
    }
   ],
   "source": [
    "sns.boxplot(x = df['Value'])"
   ]
  },
  {
   "cell_type": "markdown",
   "id": "fc94755f-ada6-4f52-95fc-55ce217fffcf",
   "metadata": {},
   "source": [
    "### The region information will be added to the data, in order to be able to visualize and analyze values regionally"
   ]
  },
  {
   "cell_type": "markdown",
   "id": "a5d500a3-5733-4b58-acc1-e8b60b1b968e",
   "metadata": {},
   "source": [
    "The region information is retreived from UNSTATS, subregion info"
   ]
  },
  {
   "cell_type": "code",
   "execution_count": 47,
   "id": "884a4d48-fd69-4e94-b0bd-1a77f5a52c17",
   "metadata": {},
   "outputs": [],
   "source": [
    "regions = pd.read_excel('UNSD.xlsx', usecols = {5, 8, 11})"
   ]
  },
  {
   "cell_type": "code",
   "execution_count": 48,
   "id": "395a2ecf-10b4-4a97-808a-2a2ec75a1e9a",
   "metadata": {},
   "outputs": [
    {
     "data": {
      "text/html": [
       "<div>\n",
       "<style scoped>\n",
       "    .dataframe tbody tr th:only-of-type {\n",
       "        vertical-align: middle;\n",
       "    }\n",
       "\n",
       "    .dataframe tbody tr th {\n",
       "        vertical-align: top;\n",
       "    }\n",
       "\n",
       "    .dataframe thead th {\n",
       "        text-align: right;\n",
       "    }\n",
       "</style>\n",
       "<table border=\"1\" class=\"dataframe\">\n",
       "  <thead>\n",
       "    <tr style=\"text-align: right;\">\n",
       "      <th></th>\n",
       "      <th>Sub-region Name</th>\n",
       "      <th>Country or Area</th>\n",
       "      <th>ISO-alpha3 Code</th>\n",
       "    </tr>\n",
       "  </thead>\n",
       "  <tbody>\n",
       "    <tr>\n",
       "      <th>0</th>\n",
       "      <td>Northern Africa</td>\n",
       "      <td>Algeria</td>\n",
       "      <td>DZA</td>\n",
       "    </tr>\n",
       "    <tr>\n",
       "      <th>1</th>\n",
       "      <td>Northern Africa</td>\n",
       "      <td>Egypt</td>\n",
       "      <td>EGY</td>\n",
       "    </tr>\n",
       "    <tr>\n",
       "      <th>2</th>\n",
       "      <td>Northern Africa</td>\n",
       "      <td>Libya</td>\n",
       "      <td>LBY</td>\n",
       "    </tr>\n",
       "    <tr>\n",
       "      <th>3</th>\n",
       "      <td>Northern Africa</td>\n",
       "      <td>Morocco</td>\n",
       "      <td>MAR</td>\n",
       "    </tr>\n",
       "    <tr>\n",
       "      <th>4</th>\n",
       "      <td>Northern Africa</td>\n",
       "      <td>Sudan</td>\n",
       "      <td>SDN</td>\n",
       "    </tr>\n",
       "  </tbody>\n",
       "</table>\n",
       "</div>"
      ],
      "text/plain": [
       "   Sub-region Name Country or Area ISO-alpha3 Code\n",
       "0  Northern Africa         Algeria             DZA\n",
       "1  Northern Africa           Egypt             EGY\n",
       "2  Northern Africa           Libya             LBY\n",
       "3  Northern Africa         Morocco             MAR\n",
       "4  Northern Africa           Sudan             SDN"
      ]
     },
     "execution_count": 48,
     "metadata": {},
     "output_type": "execute_result"
    }
   ],
   "source": [
    "regions.head()"
   ]
  },
  {
   "cell_type": "code",
   "execution_count": 49,
   "id": "1a136b7c-83d3-4cc5-bb21-0c11dd321eea",
   "metadata": {},
   "outputs": [],
   "source": [
    "regions.rename(columns = {'Sub-region Name':'Region', 'ISO-alpha3 Code':'LOCATION', 'Country or Area':'Country'}, inplace = True)"
   ]
  },
  {
   "cell_type": "code",
   "execution_count": 50,
   "id": "4b755bd8-dc5d-438e-88b0-94db116e3b1f",
   "metadata": {},
   "outputs": [
    {
     "data": {
      "text/html": [
       "<div>\n",
       "<style scoped>\n",
       "    .dataframe tbody tr th:only-of-type {\n",
       "        vertical-align: middle;\n",
       "    }\n",
       "\n",
       "    .dataframe tbody tr th {\n",
       "        vertical-align: top;\n",
       "    }\n",
       "\n",
       "    .dataframe thead th {\n",
       "        text-align: right;\n",
       "    }\n",
       "</style>\n",
       "<table border=\"1\" class=\"dataframe\">\n",
       "  <thead>\n",
       "    <tr style=\"text-align: right;\">\n",
       "      <th></th>\n",
       "      <th>Region</th>\n",
       "      <th>Country</th>\n",
       "      <th>LOCATION</th>\n",
       "    </tr>\n",
       "  </thead>\n",
       "  <tbody>\n",
       "    <tr>\n",
       "      <th>0</th>\n",
       "      <td>Northern Africa</td>\n",
       "      <td>Algeria</td>\n",
       "      <td>DZA</td>\n",
       "    </tr>\n",
       "    <tr>\n",
       "      <th>1</th>\n",
       "      <td>Northern Africa</td>\n",
       "      <td>Egypt</td>\n",
       "      <td>EGY</td>\n",
       "    </tr>\n",
       "    <tr>\n",
       "      <th>2</th>\n",
       "      <td>Northern Africa</td>\n",
       "      <td>Libya</td>\n",
       "      <td>LBY</td>\n",
       "    </tr>\n",
       "    <tr>\n",
       "      <th>3</th>\n",
       "      <td>Northern Africa</td>\n",
       "      <td>Morocco</td>\n",
       "      <td>MAR</td>\n",
       "    </tr>\n",
       "    <tr>\n",
       "      <th>4</th>\n",
       "      <td>Northern Africa</td>\n",
       "      <td>Sudan</td>\n",
       "      <td>SDN</td>\n",
       "    </tr>\n",
       "  </tbody>\n",
       "</table>\n",
       "</div>"
      ],
      "text/plain": [
       "            Region  Country LOCATION\n",
       "0  Northern Africa  Algeria      DZA\n",
       "1  Northern Africa    Egypt      EGY\n",
       "2  Northern Africa    Libya      LBY\n",
       "3  Northern Africa  Morocco      MAR\n",
       "4  Northern Africa    Sudan      SDN"
      ]
     },
     "execution_count": 50,
     "metadata": {},
     "output_type": "execute_result"
    }
   ],
   "source": [
    "regions.head()"
   ]
  },
  {
   "cell_type": "code",
   "execution_count": 51,
   "id": "c8f19ca0-cf8e-4d41-94f9-3e0d02f34a80",
   "metadata": {},
   "outputs": [],
   "source": [
    "df2 = pd.merge(df, \n",
    "                     regions, \n",
    "                     on ='LOCATION', \n",
    "                     how ='left')"
   ]
  },
  {
   "cell_type": "code",
   "execution_count": 52,
   "id": "26fafb0f-ff51-4711-863c-7ddad770f54e",
   "metadata": {},
   "outputs": [
    {
     "data": {
      "text/html": [
       "<div>\n",
       "<style scoped>\n",
       "    .dataframe tbody tr th:only-of-type {\n",
       "        vertical-align: middle;\n",
       "    }\n",
       "\n",
       "    .dataframe tbody tr th {\n",
       "        vertical-align: top;\n",
       "    }\n",
       "\n",
       "    .dataframe thead th {\n",
       "        text-align: right;\n",
       "    }\n",
       "</style>\n",
       "<table border=\"1\" class=\"dataframe\">\n",
       "  <thead>\n",
       "    <tr style=\"text-align: right;\">\n",
       "      <th></th>\n",
       "      <th>Country_x</th>\n",
       "      <th>Value</th>\n",
       "      <th>LOCATION</th>\n",
       "      <th>Region</th>\n",
       "      <th>Country_y</th>\n",
       "    </tr>\n",
       "  </thead>\n",
       "  <tbody>\n",
       "    <tr>\n",
       "      <th>0</th>\n",
       "      <td>Peru</td>\n",
       "      <td>-0.193213</td>\n",
       "      <td>PER</td>\n",
       "      <td>Latin America and the Caribbean</td>\n",
       "      <td>Peru</td>\n",
       "    </tr>\n",
       "    <tr>\n",
       "      <th>1</th>\n",
       "      <td>Mexico</td>\n",
       "      <td>-0.010793</td>\n",
       "      <td>MEX</td>\n",
       "      <td>Latin America and the Caribbean</td>\n",
       "      <td>Mexico</td>\n",
       "    </tr>\n",
       "    <tr>\n",
       "      <th>2</th>\n",
       "      <td>Malaysia</td>\n",
       "      <td>-0.005836</td>\n",
       "      <td>MYS</td>\n",
       "      <td>South-eastern Asia</td>\n",
       "      <td>Malaysia</td>\n",
       "    </tr>\n",
       "    <tr>\n",
       "      <th>3</th>\n",
       "      <td>Poland</td>\n",
       "      <td>-0.000764</td>\n",
       "      <td>POL</td>\n",
       "      <td>Eastern Europe</td>\n",
       "      <td>Poland</td>\n",
       "    </tr>\n",
       "    <tr>\n",
       "      <th>4</th>\n",
       "      <td>Cyprus</td>\n",
       "      <td>0.005356</td>\n",
       "      <td>CYP</td>\n",
       "      <td>Western Asia</td>\n",
       "      <td>Cyprus</td>\n",
       "    </tr>\n",
       "    <tr>\n",
       "      <th>5</th>\n",
       "      <td>Estonia</td>\n",
       "      <td>0.005500</td>\n",
       "      <td>EST</td>\n",
       "      <td>Northern Europe</td>\n",
       "      <td>Estonia</td>\n",
       "    </tr>\n",
       "    <tr>\n",
       "      <th>6</th>\n",
       "      <td>Slovenia</td>\n",
       "      <td>0.008506</td>\n",
       "      <td>SVN</td>\n",
       "      <td>Southern Europe</td>\n",
       "      <td>Slovenia</td>\n",
       "    </tr>\n",
       "    <tr>\n",
       "      <th>7</th>\n",
       "      <td>Brazil</td>\n",
       "      <td>0.017247</td>\n",
       "      <td>BRA</td>\n",
       "      <td>Latin America and the Caribbean</td>\n",
       "      <td>Brazil</td>\n",
       "    </tr>\n",
       "    <tr>\n",
       "      <th>8</th>\n",
       "      <td>Hungary</td>\n",
       "      <td>0.034489</td>\n",
       "      <td>HUN</td>\n",
       "      <td>Eastern Europe</td>\n",
       "      <td>Hungary</td>\n",
       "    </tr>\n",
       "    <tr>\n",
       "      <th>9</th>\n",
       "      <td>United States</td>\n",
       "      <td>0.035121</td>\n",
       "      <td>USA</td>\n",
       "      <td>Northern America</td>\n",
       "      <td>United States of America</td>\n",
       "    </tr>\n",
       "    <tr>\n",
       "      <th>10</th>\n",
       "      <td>Turkey</td>\n",
       "      <td>0.044592</td>\n",
       "      <td>TUR</td>\n",
       "      <td>Western Asia</td>\n",
       "      <td>Turkey</td>\n",
       "    </tr>\n",
       "    <tr>\n",
       "      <th>11</th>\n",
       "      <td>Chile</td>\n",
       "      <td>0.048454</td>\n",
       "      <td>CHL</td>\n",
       "      <td>Latin America and the Caribbean</td>\n",
       "      <td>Chile</td>\n",
       "    </tr>\n",
       "    <tr>\n",
       "      <th>12</th>\n",
       "      <td>Belgium</td>\n",
       "      <td>0.053511</td>\n",
       "      <td>BEL</td>\n",
       "      <td>Western Europe</td>\n",
       "      <td>Belgium</td>\n",
       "    </tr>\n",
       "    <tr>\n",
       "      <th>13</th>\n",
       "      <td>Canada</td>\n",
       "      <td>0.055500</td>\n",
       "      <td>CAN</td>\n",
       "      <td>Northern America</td>\n",
       "      <td>Canada</td>\n",
       "    </tr>\n",
       "    <tr>\n",
       "      <th>14</th>\n",
       "      <td>Germany</td>\n",
       "      <td>0.061839</td>\n",
       "      <td>DEU</td>\n",
       "      <td>Western Europe</td>\n",
       "      <td>Germany</td>\n",
       "    </tr>\n",
       "    <tr>\n",
       "      <th>15</th>\n",
       "      <td>Norway</td>\n",
       "      <td>0.062529</td>\n",
       "      <td>NOR</td>\n",
       "      <td>Northern Europe</td>\n",
       "      <td>Norway</td>\n",
       "    </tr>\n",
       "    <tr>\n",
       "      <th>16</th>\n",
       "      <td>Latvia</td>\n",
       "      <td>0.062638</td>\n",
       "      <td>LVA</td>\n",
       "      <td>Northern Europe</td>\n",
       "      <td>Latvia</td>\n",
       "    </tr>\n",
       "    <tr>\n",
       "      <th>17</th>\n",
       "      <td>Argentina</td>\n",
       "      <td>0.064655</td>\n",
       "      <td>ARG</td>\n",
       "      <td>Latin America and the Caribbean</td>\n",
       "      <td>Argentina</td>\n",
       "    </tr>\n",
       "    <tr>\n",
       "      <th>18</th>\n",
       "      <td>United Kingdom</td>\n",
       "      <td>0.065500</td>\n",
       "      <td>GBR</td>\n",
       "      <td>Northern Europe</td>\n",
       "      <td>United Kingdom of Great Britain and Northern I...</td>\n",
       "    </tr>\n",
       "    <tr>\n",
       "      <th>19</th>\n",
       "      <td>Austria</td>\n",
       "      <td>0.067310</td>\n",
       "      <td>AUT</td>\n",
       "      <td>Western Europe</td>\n",
       "      <td>Austria</td>\n",
       "    </tr>\n",
       "    <tr>\n",
       "      <th>20</th>\n",
       "      <td>Lithuania</td>\n",
       "      <td>0.068529</td>\n",
       "      <td>LTU</td>\n",
       "      <td>Northern Europe</td>\n",
       "      <td>Lithuania</td>\n",
       "    </tr>\n",
       "    <tr>\n",
       "      <th>21</th>\n",
       "      <td>Romania</td>\n",
       "      <td>0.073868</td>\n",
       "      <td>ROU</td>\n",
       "      <td>Eastern Europe</td>\n",
       "      <td>Romania</td>\n",
       "    </tr>\n",
       "    <tr>\n",
       "      <th>22</th>\n",
       "      <td>Switzerland</td>\n",
       "      <td>0.074862</td>\n",
       "      <td>CHE</td>\n",
       "      <td>Western Europe</td>\n",
       "      <td>Switzerland</td>\n",
       "    </tr>\n",
       "    <tr>\n",
       "      <th>23</th>\n",
       "      <td>Luxembourg</td>\n",
       "      <td>0.076971</td>\n",
       "      <td>LUX</td>\n",
       "      <td>Western Europe</td>\n",
       "      <td>Luxembourg</td>\n",
       "    </tr>\n",
       "    <tr>\n",
       "      <th>24</th>\n",
       "      <td>France</td>\n",
       "      <td>0.084563</td>\n",
       "      <td>FRA</td>\n",
       "      <td>Western Europe</td>\n",
       "      <td>France</td>\n",
       "    </tr>\n",
       "    <tr>\n",
       "      <th>25</th>\n",
       "      <td>OECD - Total</td>\n",
       "      <td>0.087310</td>\n",
       "      <td>OECD</td>\n",
       "      <td>NaN</td>\n",
       "      <td>NaN</td>\n",
       "    </tr>\n",
       "    <tr>\n",
       "      <th>26</th>\n",
       "      <td>European Union</td>\n",
       "      <td>0.090138</td>\n",
       "      <td>EU</td>\n",
       "      <td>NaN</td>\n",
       "      <td>NaN</td>\n",
       "    </tr>\n",
       "    <tr>\n",
       "      <th>27</th>\n",
       "      <td>Slovak Republic</td>\n",
       "      <td>0.097362</td>\n",
       "      <td>SVK</td>\n",
       "      <td>Eastern Europe</td>\n",
       "      <td>Slovakia</td>\n",
       "    </tr>\n",
       "    <tr>\n",
       "      <th>28</th>\n",
       "      <td>Sweden</td>\n",
       "      <td>0.100546</td>\n",
       "      <td>SWE</td>\n",
       "      <td>Northern Europe</td>\n",
       "      <td>Sweden</td>\n",
       "    </tr>\n",
       "    <tr>\n",
       "      <th>29</th>\n",
       "      <td>Portugal</td>\n",
       "      <td>0.106109</td>\n",
       "      <td>PRT</td>\n",
       "      <td>Southern Europe</td>\n",
       "      <td>Portugal</td>\n",
       "    </tr>\n",
       "    <tr>\n",
       "      <th>30</th>\n",
       "      <td>Czech Republic</td>\n",
       "      <td>0.115580</td>\n",
       "      <td>CZE</td>\n",
       "      <td>Eastern Europe</td>\n",
       "      <td>Czechia</td>\n",
       "    </tr>\n",
       "    <tr>\n",
       "      <th>31</th>\n",
       "      <td>Denmark</td>\n",
       "      <td>0.118655</td>\n",
       "      <td>DNK</td>\n",
       "      <td>Northern Europe</td>\n",
       "      <td>Denmark</td>\n",
       "    </tr>\n",
       "    <tr>\n",
       "      <th>32</th>\n",
       "      <td>Italy</td>\n",
       "      <td>0.133730</td>\n",
       "      <td>ITA</td>\n",
       "      <td>Southern Europe</td>\n",
       "      <td>Italy</td>\n",
       "    </tr>\n",
       "    <tr>\n",
       "      <th>33</th>\n",
       "      <td>Greece</td>\n",
       "      <td>0.135362</td>\n",
       "      <td>GRC</td>\n",
       "      <td>Southern Europe</td>\n",
       "      <td>Greece</td>\n",
       "    </tr>\n",
       "    <tr>\n",
       "      <th>34</th>\n",
       "      <td>Spain</td>\n",
       "      <td>0.135931</td>\n",
       "      <td>ESP</td>\n",
       "      <td>Southern Europe</td>\n",
       "      <td>Spain</td>\n",
       "    </tr>\n",
       "    <tr>\n",
       "      <th>35</th>\n",
       "      <td>Australia</td>\n",
       "      <td>0.141149</td>\n",
       "      <td>AUS</td>\n",
       "      <td>Australia and New Zealand</td>\n",
       "      <td>Australia</td>\n",
       "    </tr>\n",
       "    <tr>\n",
       "      <th>36</th>\n",
       "      <td>Netherlands</td>\n",
       "      <td>0.150546</td>\n",
       "      <td>NLD</td>\n",
       "      <td>Western Europe</td>\n",
       "      <td>Netherlands</td>\n",
       "    </tr>\n",
       "    <tr>\n",
       "      <th>37</th>\n",
       "      <td>Bulgaria</td>\n",
       "      <td>0.155264</td>\n",
       "      <td>BGR</td>\n",
       "      <td>Eastern Europe</td>\n",
       "      <td>Bulgaria</td>\n",
       "    </tr>\n",
       "    <tr>\n",
       "      <th>38</th>\n",
       "      <td>Iceland</td>\n",
       "      <td>0.155713</td>\n",
       "      <td>ISL</td>\n",
       "      <td>Northern Europe</td>\n",
       "      <td>Iceland</td>\n",
       "    </tr>\n",
       "    <tr>\n",
       "      <th>39</th>\n",
       "      <td>New Zealand</td>\n",
       "      <td>0.165069</td>\n",
       "      <td>NZL</td>\n",
       "      <td>Australia and New Zealand</td>\n",
       "      <td>New Zealand</td>\n",
       "    </tr>\n",
       "    <tr>\n",
       "      <th>40</th>\n",
       "      <td>Finland</td>\n",
       "      <td>0.184707</td>\n",
       "      <td>FIN</td>\n",
       "      <td>Northern Europe</td>\n",
       "      <td>Finland</td>\n",
       "    </tr>\n",
       "    <tr>\n",
       "      <th>41</th>\n",
       "      <td>Ireland</td>\n",
       "      <td>0.241736</td>\n",
       "      <td>IRL</td>\n",
       "      <td>Northern Europe</td>\n",
       "      <td>Ireland</td>\n",
       "    </tr>\n",
       "    <tr>\n",
       "      <th>42</th>\n",
       "      <td>South Africa</td>\n",
       "      <td>0.323586</td>\n",
       "      <td>ZAF</td>\n",
       "      <td>Sub-Saharan Africa</td>\n",
       "      <td>South Africa</td>\n",
       "    </tr>\n",
       "  </tbody>\n",
       "</table>\n",
       "</div>"
      ],
      "text/plain": [
       "          Country_x     Value LOCATION                           Region  \\\n",
       "0              Peru -0.193213      PER  Latin America and the Caribbean   \n",
       "1            Mexico -0.010793      MEX  Latin America and the Caribbean   \n",
       "2          Malaysia -0.005836      MYS               South-eastern Asia   \n",
       "3            Poland -0.000764      POL                   Eastern Europe   \n",
       "4            Cyprus  0.005356      CYP                     Western Asia   \n",
       "5           Estonia  0.005500      EST                  Northern Europe   \n",
       "6          Slovenia  0.008506      SVN                  Southern Europe   \n",
       "7            Brazil  0.017247      BRA  Latin America and the Caribbean   \n",
       "8           Hungary  0.034489      HUN                   Eastern Europe   \n",
       "9     United States  0.035121      USA                 Northern America   \n",
       "10           Turkey  0.044592      TUR                     Western Asia   \n",
       "11            Chile  0.048454      CHL  Latin America and the Caribbean   \n",
       "12          Belgium  0.053511      BEL                   Western Europe   \n",
       "13           Canada  0.055500      CAN                 Northern America   \n",
       "14          Germany  0.061839      DEU                   Western Europe   \n",
       "15           Norway  0.062529      NOR                  Northern Europe   \n",
       "16           Latvia  0.062638      LVA                  Northern Europe   \n",
       "17        Argentina  0.064655      ARG  Latin America and the Caribbean   \n",
       "18   United Kingdom  0.065500      GBR                  Northern Europe   \n",
       "19          Austria  0.067310      AUT                   Western Europe   \n",
       "20        Lithuania  0.068529      LTU                  Northern Europe   \n",
       "21          Romania  0.073868      ROU                   Eastern Europe   \n",
       "22      Switzerland  0.074862      CHE                   Western Europe   \n",
       "23       Luxembourg  0.076971      LUX                   Western Europe   \n",
       "24           France  0.084563      FRA                   Western Europe   \n",
       "25     OECD - Total  0.087310     OECD                              NaN   \n",
       "26   European Union  0.090138       EU                              NaN   \n",
       "27  Slovak Republic  0.097362      SVK                   Eastern Europe   \n",
       "28           Sweden  0.100546      SWE                  Northern Europe   \n",
       "29         Portugal  0.106109      PRT                  Southern Europe   \n",
       "30   Czech Republic  0.115580      CZE                   Eastern Europe   \n",
       "31          Denmark  0.118655      DNK                  Northern Europe   \n",
       "32            Italy  0.133730      ITA                  Southern Europe   \n",
       "33           Greece  0.135362      GRC                  Southern Europe   \n",
       "34            Spain  0.135931      ESP                  Southern Europe   \n",
       "35        Australia  0.141149      AUS        Australia and New Zealand   \n",
       "36      Netherlands  0.150546      NLD                   Western Europe   \n",
       "37         Bulgaria  0.155264      BGR                   Eastern Europe   \n",
       "38          Iceland  0.155713      ISL                  Northern Europe   \n",
       "39      New Zealand  0.165069      NZL        Australia and New Zealand   \n",
       "40          Finland  0.184707      FIN                  Northern Europe   \n",
       "41          Ireland  0.241736      IRL                  Northern Europe   \n",
       "42     South Africa  0.323586      ZAF               Sub-Saharan Africa   \n",
       "\n",
       "                                            Country_y  \n",
       "0                                                Peru  \n",
       "1                                              Mexico  \n",
       "2                                            Malaysia  \n",
       "3                                              Poland  \n",
       "4                                              Cyprus  \n",
       "5                                             Estonia  \n",
       "6                                            Slovenia  \n",
       "7                                              Brazil  \n",
       "8                                             Hungary  \n",
       "9                            United States of America  \n",
       "10                                             Turkey  \n",
       "11                                              Chile  \n",
       "12                                            Belgium  \n",
       "13                                             Canada  \n",
       "14                                            Germany  \n",
       "15                                             Norway  \n",
       "16                                             Latvia  \n",
       "17                                          Argentina  \n",
       "18  United Kingdom of Great Britain and Northern I...  \n",
       "19                                            Austria  \n",
       "20                                          Lithuania  \n",
       "21                                            Romania  \n",
       "22                                        Switzerland  \n",
       "23                                         Luxembourg  \n",
       "24                                             France  \n",
       "25                                                NaN  \n",
       "26                                                NaN  \n",
       "27                                           Slovakia  \n",
       "28                                             Sweden  \n",
       "29                                           Portugal  \n",
       "30                                            Czechia  \n",
       "31                                            Denmark  \n",
       "32                                              Italy  \n",
       "33                                             Greece  \n",
       "34                                              Spain  \n",
       "35                                          Australia  \n",
       "36                                        Netherlands  \n",
       "37                                           Bulgaria  \n",
       "38                                            Iceland  \n",
       "39                                        New Zealand  \n",
       "40                                            Finland  \n",
       "41                                            Ireland  \n",
       "42                                       South Africa  "
      ]
     },
     "execution_count": 52,
     "metadata": {},
     "output_type": "execute_result"
    }
   ],
   "source": [
    "df2"
   ]
  },
  {
   "cell_type": "code",
   "execution_count": 53,
   "id": "3b5ff447-b7a9-49ce-8a0d-6d38f6850e0d",
   "metadata": {},
   "outputs": [],
   "source": [
    "df2.drop('Country_y', inplace=True, axis=1)"
   ]
  },
  {
   "cell_type": "code",
   "execution_count": 54,
   "id": "fd372b9a-c64f-4584-96c5-48d8c270d5e7",
   "metadata": {},
   "outputs": [
    {
     "data": {
      "text/html": [
       "<div>\n",
       "<style scoped>\n",
       "    .dataframe tbody tr th:only-of-type {\n",
       "        vertical-align: middle;\n",
       "    }\n",
       "\n",
       "    .dataframe tbody tr th {\n",
       "        vertical-align: top;\n",
       "    }\n",
       "\n",
       "    .dataframe thead th {\n",
       "        text-align: right;\n",
       "    }\n",
       "</style>\n",
       "<table border=\"1\" class=\"dataframe\">\n",
       "  <thead>\n",
       "    <tr style=\"text-align: right;\">\n",
       "      <th></th>\n",
       "      <th>Country_x</th>\n",
       "      <th>Value</th>\n",
       "      <th>LOCATION</th>\n",
       "      <th>Region</th>\n",
       "    </tr>\n",
       "  </thead>\n",
       "  <tbody>\n",
       "    <tr>\n",
       "      <th>0</th>\n",
       "      <td>Peru</td>\n",
       "      <td>-0.193213</td>\n",
       "      <td>PER</td>\n",
       "      <td>Latin America and the Caribbean</td>\n",
       "    </tr>\n",
       "    <tr>\n",
       "      <th>1</th>\n",
       "      <td>Mexico</td>\n",
       "      <td>-0.010793</td>\n",
       "      <td>MEX</td>\n",
       "      <td>Latin America and the Caribbean</td>\n",
       "    </tr>\n",
       "    <tr>\n",
       "      <th>2</th>\n",
       "      <td>Malaysia</td>\n",
       "      <td>-0.005836</td>\n",
       "      <td>MYS</td>\n",
       "      <td>South-eastern Asia</td>\n",
       "    </tr>\n",
       "    <tr>\n",
       "      <th>3</th>\n",
       "      <td>Poland</td>\n",
       "      <td>-0.000764</td>\n",
       "      <td>POL</td>\n",
       "      <td>Eastern Europe</td>\n",
       "    </tr>\n",
       "    <tr>\n",
       "      <th>4</th>\n",
       "      <td>Cyprus</td>\n",
       "      <td>0.005356</td>\n",
       "      <td>CYP</td>\n",
       "      <td>Western Asia</td>\n",
       "    </tr>\n",
       "  </tbody>\n",
       "</table>\n",
       "</div>"
      ],
      "text/plain": [
       "  Country_x     Value LOCATION                           Region\n",
       "0      Peru -0.193213      PER  Latin America and the Caribbean\n",
       "1    Mexico -0.010793      MEX  Latin America and the Caribbean\n",
       "2  Malaysia -0.005836      MYS               South-eastern Asia\n",
       "3    Poland -0.000764      POL                   Eastern Europe\n",
       "4    Cyprus  0.005356      CYP                     Western Asia"
      ]
     },
     "execution_count": 54,
     "metadata": {},
     "output_type": "execute_result"
    }
   ],
   "source": [
    "df2.head()"
   ]
  },
  {
   "cell_type": "code",
   "execution_count": 55,
   "id": "cd4a65db-07d3-4ecc-9b1e-8c6bdb1d6363",
   "metadata": {},
   "outputs": [],
   "source": [
    "df2.rename(columns = {'Country_x':'Country'}, inplace = True)"
   ]
  },
  {
   "cell_type": "code",
   "execution_count": 56,
   "id": "5102a782-530b-4d6a-bb8a-337b3e862ad0",
   "metadata": {},
   "outputs": [
    {
     "data": {
      "text/html": [
       "<div>\n",
       "<style scoped>\n",
       "    .dataframe tbody tr th:only-of-type {\n",
       "        vertical-align: middle;\n",
       "    }\n",
       "\n",
       "    .dataframe tbody tr th {\n",
       "        vertical-align: top;\n",
       "    }\n",
       "\n",
       "    .dataframe thead th {\n",
       "        text-align: right;\n",
       "    }\n",
       "</style>\n",
       "<table border=\"1\" class=\"dataframe\">\n",
       "  <thead>\n",
       "    <tr style=\"text-align: right;\">\n",
       "      <th></th>\n",
       "      <th>Country</th>\n",
       "      <th>Value</th>\n",
       "      <th>LOCATION</th>\n",
       "      <th>Region</th>\n",
       "    </tr>\n",
       "  </thead>\n",
       "  <tbody>\n",
       "    <tr>\n",
       "      <th>0</th>\n",
       "      <td>Peru</td>\n",
       "      <td>-0.193213</td>\n",
       "      <td>PER</td>\n",
       "      <td>Latin America and the Caribbean</td>\n",
       "    </tr>\n",
       "    <tr>\n",
       "      <th>1</th>\n",
       "      <td>Mexico</td>\n",
       "      <td>-0.010793</td>\n",
       "      <td>MEX</td>\n",
       "      <td>Latin America and the Caribbean</td>\n",
       "    </tr>\n",
       "    <tr>\n",
       "      <th>2</th>\n",
       "      <td>Malaysia</td>\n",
       "      <td>-0.005836</td>\n",
       "      <td>MYS</td>\n",
       "      <td>South-eastern Asia</td>\n",
       "    </tr>\n",
       "    <tr>\n",
       "      <th>3</th>\n",
       "      <td>Poland</td>\n",
       "      <td>-0.000764</td>\n",
       "      <td>POL</td>\n",
       "      <td>Eastern Europe</td>\n",
       "    </tr>\n",
       "    <tr>\n",
       "      <th>4</th>\n",
       "      <td>Cyprus</td>\n",
       "      <td>0.005356</td>\n",
       "      <td>CYP</td>\n",
       "      <td>Western Asia</td>\n",
       "    </tr>\n",
       "  </tbody>\n",
       "</table>\n",
       "</div>"
      ],
      "text/plain": [
       "    Country     Value LOCATION                           Region\n",
       "0      Peru -0.193213      PER  Latin America and the Caribbean\n",
       "1    Mexico -0.010793      MEX  Latin America and the Caribbean\n",
       "2  Malaysia -0.005836      MYS               South-eastern Asia\n",
       "3    Poland -0.000764      POL                   Eastern Europe\n",
       "4    Cyprus  0.005356      CYP                     Western Asia"
      ]
     },
     "execution_count": 56,
     "metadata": {},
     "output_type": "execute_result"
    }
   ],
   "source": [
    "df2.head()"
   ]
  },
  {
   "cell_type": "code",
   "execution_count": 57,
   "id": "f5827c3e-1eb2-4665-9ec6-82e23e1ff11c",
   "metadata": {},
   "outputs": [
    {
     "data": {
      "text/plain": [
       "Region\n",
       "Australia and New Zealand          0.153109\n",
       "Eastern Europe                     0.079300\n",
       "Latin America and the Caribbean   -0.014730\n",
       "Northern America                   0.045310\n",
       "Northern Europe                    0.106605\n",
       "South-eastern Asia                -0.005836\n",
       "Southern Europe                    0.103928\n",
       "Sub-Saharan Africa                 0.323586\n",
       "Western Asia                       0.024974\n",
       "Western Europe                     0.081372\n",
       "Name: Value, dtype: float64"
      ]
     },
     "execution_count": 57,
     "metadata": {},
     "output_type": "execute_result"
    }
   ],
   "source": [
    "df2.groupby(['Region'])['Value'].mean()"
   ]
  },
  {
   "cell_type": "markdown",
   "id": "0dfece18-cb6e-4169-934a-c0dc1eef18ef",
   "metadata": {},
   "source": [
    "## Scatter Plot Colored By Region"
   ]
  },
  {
   "cell_type": "code",
   "execution_count": 73,
   "id": "bcf51900-3c7f-469c-b6fc-3f8dd0593e9d",
   "metadata": {},
   "outputs": [
    {
     "data": {
      "text/plain": [
       "<AxesSubplot:title={'center':'2015 Shortages and Surpluses of Skills'}, xlabel='Countries', ylabel='Scores'>"
      ]
     },
     "execution_count": 73,
     "metadata": {},
     "output_type": "execute_result"
    },
    {
     "data": {
      "image/png": "[encoded data removed]",
      "text/plain": [
       "<Figure size 1440x720 with 1 Axes>"
      ]
     },
     "metadata": {},
     "output_type": "display_data"
    }
   ],
   "source": [
    "fig =sns.scatterplot(data = df2, x = df2.index, y = df2['Value'], hue = 'Region')\n",
    "fig.set_xlabel(\"Countries\")\n",
    "fig.set_ylabel(\"Scores\")\n",
    "fig.set_title('2015 Shortages and Surpluses of Skills')\n",
    "sns.set(rc={'figure.figsize':(20,10)})\n",
    "\n",
    "\n",
    "fig"
   ]
  },
  {
   "cell_type": "markdown",
   "id": "72d9bb10-a238-4dbb-ba7d-ae9f9ec530f6",
   "metadata": {},
   "source": [
    "## Categorical Plot By Region"
   ]
  },
  {
   "cell_type": "code",
   "execution_count": 131,
   "id": "a851fd45-3af9-4e34-9fe1-eb7f3d313476",
   "metadata": {},
   "outputs": [
    {
     "data": {
      "text/plain": [
       "<seaborn.axisgrid.FacetGrid at 0x1934a5c7430>"
      ]
     },
     "execution_count": 131,
     "metadata": {},
     "output_type": "execute_result"
    },
    {
     "data": {
      "image/png": "[encoded data removed]",
      "text/plain": [
       "<Figure size 842.4x595.44 with 1 Axes>"
      ]
     },
     "metadata": {
      "needs_background": "light"
     },
     "output_type": "display_data"
    }
   ],
   "source": [
    "sns.catplot(data = df2, x = 'Region', y = 'Value', height=8.27, aspect=11.7/8.27)"
   ]
  },
  {
   "cell_type": "markdown",
   "id": "5276d3e5-9125-4994-84f6-3cf911446232",
   "metadata": {},
   "source": [
    "### Sources"
   ]
  },
  {
   "cell_type": "markdown",
   "id": "d3b0eba5-7999-4475-9a99-059f722716c7",
   "metadata": {},
   "source": [
    "OECD(2015). Skill needs. Retreived from: https://stats.oecd.org/#. Access date : 05.05.2022"
   ]
  },
  {
   "cell_type": "markdown",
   "id": "01509bdd-73ae-4260-859d-9d366a16cae1",
   "metadata": {},
   "source": [
    "The United Nations Statistics Division. Standard country or area codes for statistical use (M49). Retreived from: https://unstats.un.org/unsd/methodology/m49/overview/. Access date : 05.05.2022"
   ]
  },
  {
   "cell_type": "code",
   "execution_count": null,
   "id": "54b32e8f-88c5-404c-85fb-d009576717c9",
   "metadata": {},
   "outputs": [],
   "source": []
  }
 ],
 "metadata": {
  "kernelspec": {
   "display_name": "Python 3 (ipykernel)",
   "language": "python",
   "name": "python3"
  },
  "language_info": {
   "codemirror_mode": {
    "name": "ipython",
    "version": 3
   },
   "file_extension": ".py",
   "mimetype": "text/x-python",
   "name": "python",
   "nbconvert_exporter": "python",
   "pygments_lexer": "ipython3",
   "version": "3.9.7"
  }
 },
 "nbformat": 4,
 "nbformat_minor": 5
}
